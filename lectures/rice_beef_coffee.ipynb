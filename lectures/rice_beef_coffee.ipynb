{
 "cells": [
  {
   "cell_type": "code",
   "execution_count": 1,
   "metadata": {},
   "outputs": [],
   "source": [
    "import numpy as np\n",
    "import pandas as pd\n",
    "import seaborn as sns"
   ]
  },
  {
   "cell_type": "code",
   "execution_count": 2,
   "metadata": {},
   "outputs": [],
   "source": [
    "df = pd.read_csv('ricebeefcoffee.csv')"
   ]
  },
  {
   "cell_type": "code",
   "execution_count": 3,
   "metadata": {},
   "outputs": [
    {
     "data": {
      "text/html": [
       "<div>\n",
       "<style scoped>\n",
       "    .dataframe tbody tr th:only-of-type {\n",
       "        vertical-align: middle;\n",
       "    }\n",
       "\n",
       "    .dataframe tbody tr th {\n",
       "        vertical-align: top;\n",
       "    }\n",
       "\n",
       "    .dataframe thead th {\n",
       "        text-align: right;\n",
       "    }\n",
       "</style>\n",
       "<table border=\"1\" class=\"dataframe\">\n",
       "  <thead>\n",
       "    <tr style=\"text-align: right;\">\n",
       "      <th></th>\n",
       "      <th>Year</th>\n",
       "      <th>Month</th>\n",
       "      <th>Price_beef_kilo</th>\n",
       "      <th>Price_rice_kilo</th>\n",
       "      <th>Price_coffee_kilo</th>\n",
       "      <th>Inflation_rate</th>\n",
       "      <th>Price_rice_infl</th>\n",
       "      <th>Price_beef_infl</th>\n",
       "      <th>Price_coffee_infl</th>\n",
       "    </tr>\n",
       "  </thead>\n",
       "  <tbody>\n",
       "    <tr>\n",
       "      <th>0</th>\n",
       "      <td>1992</td>\n",
       "      <td>Feb</td>\n",
       "      <td>2.52</td>\n",
       "      <td>0.28</td>\n",
       "      <td>1.51</td>\n",
       "      <td>89.59</td>\n",
       "      <td>0.53</td>\n",
       "      <td>4.78</td>\n",
       "      <td>2.86</td>\n",
       "    </tr>\n",
       "    <tr>\n",
       "      <th>1</th>\n",
       "      <td>1992</td>\n",
       "      <td>Mar</td>\n",
       "      <td>2.45</td>\n",
       "      <td>0.28</td>\n",
       "      <td>1.55</td>\n",
       "      <td>89.59</td>\n",
       "      <td>0.53</td>\n",
       "      <td>4.64</td>\n",
       "      <td>2.94</td>\n",
       "    </tr>\n",
       "    <tr>\n",
       "      <th>2</th>\n",
       "      <td>1992</td>\n",
       "      <td>Apr</td>\n",
       "      <td>2.38</td>\n",
       "      <td>0.28</td>\n",
       "      <td>1.45</td>\n",
       "      <td>89.59</td>\n",
       "      <td>0.53</td>\n",
       "      <td>4.51</td>\n",
       "      <td>2.75</td>\n",
       "    </tr>\n",
       "    <tr>\n",
       "      <th>3</th>\n",
       "      <td>1992</td>\n",
       "      <td>May</td>\n",
       "      <td>2.38</td>\n",
       "      <td>0.27</td>\n",
       "      <td>1.34</td>\n",
       "      <td>89.59</td>\n",
       "      <td>0.51</td>\n",
       "      <td>4.51</td>\n",
       "      <td>2.54</td>\n",
       "    </tr>\n",
       "    <tr>\n",
       "      <th>4</th>\n",
       "      <td>1992</td>\n",
       "      <td>Jun</td>\n",
       "      <td>2.33</td>\n",
       "      <td>0.27</td>\n",
       "      <td>1.30</td>\n",
       "      <td>89.59</td>\n",
       "      <td>0.51</td>\n",
       "      <td>4.42</td>\n",
       "      <td>2.46</td>\n",
       "    </tr>\n",
       "  </tbody>\n",
       "</table>\n",
       "</div>"
      ],
      "text/plain": [
       "   Year Month  Price_beef_kilo  Price_rice_kilo  Price_coffee_kilo  \\\n",
       "0  1992   Feb             2.52             0.28               1.51   \n",
       "1  1992   Mar             2.45             0.28               1.55   \n",
       "2  1992   Apr             2.38             0.28               1.45   \n",
       "3  1992   May             2.38             0.27               1.34   \n",
       "4  1992   Jun             2.33             0.27               1.30   \n",
       "\n",
       "   Inflation_rate  Price_rice_infl  Price_beef_infl  Price_coffee_infl  \n",
       "0           89.59             0.53             4.78               2.86  \n",
       "1           89.59             0.53             4.64               2.94  \n",
       "2           89.59             0.53             4.51               2.75  \n",
       "3           89.59             0.51             4.51               2.54  \n",
       "4           89.59             0.51             4.42               2.46  "
      ]
     },
     "execution_count": 3,
     "metadata": {},
     "output_type": "execute_result"
    }
   ],
   "source": [
    "# We have data from Feb 1992 -> Jan 2022\n",
    "df.head()"
   ]
  },
  {
   "cell_type": "markdown",
   "metadata": {},
   "source": [
    "### Let's use inflated prices so we can compare them"
   ]
  },
  {
   "cell_type": "code",
   "execution_count": 4,
   "metadata": {},
   "outputs": [
    {
     "data": {
      "text/plain": [
       "Index(['Year', 'Month', 'Price_beef_kilo', 'Price_rice_kilo',\n",
       "       'Price_coffee_kilo', 'Inflation_rate', 'Price_rice_infl',\n",
       "       'Price_beef_infl', 'Price_coffee_infl'],\n",
       "      dtype='object')"
      ]
     },
     "execution_count": 4,
     "metadata": {},
     "output_type": "execute_result"
    }
   ],
   "source": [
    "df.columns"
   ]
  },
  {
   "cell_type": "code",
   "execution_count": 5,
   "metadata": {},
   "outputs": [],
   "source": [
    "df = df.drop(['Price_coffee_kilo', 'Price_beef_kilo', 'Price_rice_kilo', 'Inflation_rate'], axis=1)"
   ]
  },
  {
   "cell_type": "code",
   "execution_count": 6,
   "metadata": {},
   "outputs": [
    {
     "data": {
      "text/html": [
       "<div>\n",
       "<style scoped>\n",
       "    .dataframe tbody tr th:only-of-type {\n",
       "        vertical-align: middle;\n",
       "    }\n",
       "\n",
       "    .dataframe tbody tr th {\n",
       "        vertical-align: top;\n",
       "    }\n",
       "\n",
       "    .dataframe thead th {\n",
       "        text-align: right;\n",
       "    }\n",
       "</style>\n",
       "<table border=\"1\" class=\"dataframe\">\n",
       "  <thead>\n",
       "    <tr style=\"text-align: right;\">\n",
       "      <th></th>\n",
       "      <th>Year</th>\n",
       "      <th>Month</th>\n",
       "      <th>Price_rice_infl</th>\n",
       "      <th>Price_beef_infl</th>\n",
       "      <th>Price_coffee_infl</th>\n",
       "    </tr>\n",
       "  </thead>\n",
       "  <tbody>\n",
       "    <tr>\n",
       "      <th>0</th>\n",
       "      <td>1992</td>\n",
       "      <td>Feb</td>\n",
       "      <td>0.53</td>\n",
       "      <td>4.78</td>\n",
       "      <td>2.86</td>\n",
       "    </tr>\n",
       "    <tr>\n",
       "      <th>1</th>\n",
       "      <td>1992</td>\n",
       "      <td>Mar</td>\n",
       "      <td>0.53</td>\n",
       "      <td>4.64</td>\n",
       "      <td>2.94</td>\n",
       "    </tr>\n",
       "    <tr>\n",
       "      <th>2</th>\n",
       "      <td>1992</td>\n",
       "      <td>Apr</td>\n",
       "      <td>0.53</td>\n",
       "      <td>4.51</td>\n",
       "      <td>2.75</td>\n",
       "    </tr>\n",
       "    <tr>\n",
       "      <th>3</th>\n",
       "      <td>1992</td>\n",
       "      <td>May</td>\n",
       "      <td>0.51</td>\n",
       "      <td>4.51</td>\n",
       "      <td>2.54</td>\n",
       "    </tr>\n",
       "    <tr>\n",
       "      <th>4</th>\n",
       "      <td>1992</td>\n",
       "      <td>Jun</td>\n",
       "      <td>0.51</td>\n",
       "      <td>4.42</td>\n",
       "      <td>2.46</td>\n",
       "    </tr>\n",
       "    <tr>\n",
       "      <th>...</th>\n",
       "      <td>...</td>\n",
       "      <td>...</td>\n",
       "      <td>...</td>\n",
       "      <td>...</td>\n",
       "      <td>...</td>\n",
       "    </tr>\n",
       "    <tr>\n",
       "      <th>355</th>\n",
       "      <td>2021</td>\n",
       "      <td>Sep</td>\n",
       "      <td>0.39</td>\n",
       "      <td>5.59</td>\n",
       "      <td>4.91</td>\n",
       "    </tr>\n",
       "    <tr>\n",
       "      <th>356</th>\n",
       "      <td>2021</td>\n",
       "      <td>Oct</td>\n",
       "      <td>0.39</td>\n",
       "      <td>5.63</td>\n",
       "      <td>5.24</td>\n",
       "    </tr>\n",
       "    <tr>\n",
       "      <th>357</th>\n",
       "      <td>2021</td>\n",
       "      <td>Nov</td>\n",
       "      <td>0.39</td>\n",
       "      <td>5.87</td>\n",
       "      <td>5.64</td>\n",
       "    </tr>\n",
       "    <tr>\n",
       "      <th>358</th>\n",
       "      <td>2021</td>\n",
       "      <td>Dec</td>\n",
       "      <td>0.39</td>\n",
       "      <td>5.87</td>\n",
       "      <td>5.83</td>\n",
       "    </tr>\n",
       "    <tr>\n",
       "      <th>359</th>\n",
       "      <td>2022</td>\n",
       "      <td>Jan</td>\n",
       "      <td>NaN</td>\n",
       "      <td>NaN</td>\n",
       "      <td>NaN</td>\n",
       "    </tr>\n",
       "  </tbody>\n",
       "</table>\n",
       "<p>360 rows × 5 columns</p>\n",
       "</div>"
      ],
      "text/plain": [
       "     Year Month  Price_rice_infl  Price_beef_infl  Price_coffee_infl\n",
       "0    1992   Feb             0.53             4.78               2.86\n",
       "1    1992   Mar             0.53             4.64               2.94\n",
       "2    1992   Apr             0.53             4.51               2.75\n",
       "3    1992   May             0.51             4.51               2.54\n",
       "4    1992   Jun             0.51             4.42               2.46\n",
       "..    ...   ...              ...              ...                ...\n",
       "355  2021   Sep             0.39             5.59               4.91\n",
       "356  2021   Oct             0.39             5.63               5.24\n",
       "357  2021   Nov             0.39             5.87               5.64\n",
       "358  2021   Dec             0.39             5.87               5.83\n",
       "359  2022   Jan              NaN              NaN                NaN\n",
       "\n",
       "[360 rows x 5 columns]"
      ]
     },
     "execution_count": 6,
     "metadata": {},
     "output_type": "execute_result"
    }
   ],
   "source": [
    "df"
   ]
  },
  {
   "cell_type": "markdown",
   "metadata": {},
   "source": [
    "#### For simple year comparison, we can drop month and compare with years"
   ]
  },
  {
   "cell_type": "code",
   "execution_count": 7,
   "metadata": {},
   "outputs": [],
   "source": [
    "df = df.drop('Month', axis=1)"
   ]
  },
  {
   "cell_type": "code",
   "execution_count": 8,
   "metadata": {},
   "outputs": [],
   "source": [
    "# Group by Year with average -> remove years with missing values\n",
    "df = df.groupby('Year').mean().dropna()"
   ]
  },
  {
   "cell_type": "code",
   "execution_count": 9,
   "metadata": {},
   "outputs": [
    {
     "data": {
      "text/plain": [
       "<Axes: >"
      ]
     },
     "execution_count": 9,
     "metadata": {},
     "output_type": "execute_result"
    },
    {
     "data": {
      "image/png": "[encoded data removed]",
      "text/plain": [
       "<Figure size 640x480 with 2 Axes>"
      ]
     },
     "metadata": {},
     "output_type": "display_data"
    }
   ],
   "source": [
    "correlations = df.corr(numeric_only=True)\n",
    "sns.heatmap(correlations, annot=True)"
   ]
  },
  {
   "cell_type": "code",
   "execution_count": 10,
   "metadata": {},
   "outputs": [
    {
     "data": {
      "text/plain": [
       "<Axes: ylabel='Year'>"
      ]
     },
     "execution_count": 10,
     "metadata": {},
     "output_type": "execute_result"
    },
    {
     "data": {
      "image/png": "[encoded data removed]",
      "text/plain": [
       "<Figure size 640x480 with 2 Axes>"
      ]
     },
     "metadata": {},
     "output_type": "display_data"
    }
   ],
   "source": [
    "# High rise in coffee prize in 1997 and 2011\n",
    "sns.heatmap(df, xticklabels=True, yticklabels=True)"
   ]
  },
  {
   "cell_type": "code",
   "execution_count": 11,
   "metadata": {},
   "outputs": [],
   "source": [
    "# reload dataset and try with year + month => pivot table and heatmap\n",
    "df = pd.read_csv(\"ricebeefcoffee.csv\")\n",
    "\n",
    "# drop the unneeded columns\n",
    "df = df.drop(['Price_beef_kilo', 'Price_rice_kilo',\n",
    "       'Price_coffee_kilo', 'Inflation_rate'], axis=1)\n",
    "\n",
    "# import calendar module to help with month name => number conversion\n",
    "from calendar import month_abbr\n",
    "\n",
    "lower_ma = [m.lower() for m in month_abbr]\n",
    "\n",
    "# one-liner with Pandas\n",
    "df['Month'] = df['Month'].str.lower().map(lambda m: lower_ma.index(m)).astype('Int8')"
   ]
  },
  {
   "cell_type": "code",
   "execution_count": 12,
   "metadata": {},
   "outputs": [
    {
     "data": {
      "text/html": [
       "<div>\n",
       "<style scoped>\n",
       "    .dataframe tbody tr th:only-of-type {\n",
       "        vertical-align: middle;\n",
       "    }\n",
       "\n",
       "    .dataframe tbody tr th {\n",
       "        vertical-align: top;\n",
       "    }\n",
       "\n",
       "    .dataframe thead th {\n",
       "        text-align: right;\n",
       "    }\n",
       "</style>\n",
       "<table border=\"1\" class=\"dataframe\">\n",
       "  <thead>\n",
       "    <tr style=\"text-align: right;\">\n",
       "      <th></th>\n",
       "      <th>Year</th>\n",
       "      <th>Month</th>\n",
       "      <th>Price_rice_infl</th>\n",
       "      <th>Price_beef_infl</th>\n",
       "      <th>Price_coffee_infl</th>\n",
       "    </tr>\n",
       "  </thead>\n",
       "  <tbody>\n",
       "    <tr>\n",
       "      <th>0</th>\n",
       "      <td>1992</td>\n",
       "      <td>2</td>\n",
       "      <td>0.53</td>\n",
       "      <td>4.78</td>\n",
       "      <td>2.86</td>\n",
       "    </tr>\n",
       "    <tr>\n",
       "      <th>1</th>\n",
       "      <td>1992</td>\n",
       "      <td>3</td>\n",
       "      <td>0.53</td>\n",
       "      <td>4.64</td>\n",
       "      <td>2.94</td>\n",
       "    </tr>\n",
       "    <tr>\n",
       "      <th>2</th>\n",
       "      <td>1992</td>\n",
       "      <td>4</td>\n",
       "      <td>0.53</td>\n",
       "      <td>4.51</td>\n",
       "      <td>2.75</td>\n",
       "    </tr>\n",
       "    <tr>\n",
       "      <th>3</th>\n",
       "      <td>1992</td>\n",
       "      <td>5</td>\n",
       "      <td>0.51</td>\n",
       "      <td>4.51</td>\n",
       "      <td>2.54</td>\n",
       "    </tr>\n",
       "    <tr>\n",
       "      <th>4</th>\n",
       "      <td>1992</td>\n",
       "      <td>6</td>\n",
       "      <td>0.51</td>\n",
       "      <td>4.42</td>\n",
       "      <td>2.46</td>\n",
       "    </tr>\n",
       "  </tbody>\n",
       "</table>\n",
       "</div>"
      ],
      "text/plain": [
       "   Year  Month  Price_rice_infl  Price_beef_infl  Price_coffee_infl\n",
       "0  1992      2             0.53             4.78               2.86\n",
       "1  1992      3             0.53             4.64               2.94\n",
       "2  1992      4             0.53             4.51               2.75\n",
       "3  1992      5             0.51             4.51               2.54\n",
       "4  1992      6             0.51             4.42               2.46"
      ]
     },
     "execution_count": 12,
     "metadata": {},
     "output_type": "execute_result"
    }
   ],
   "source": [
    "df.head()"
   ]
  },
  {
   "cell_type": "code",
   "execution_count": 14,
   "metadata": {},
   "outputs": [
    {
     "data": {
      "text/plain": [
       "<Axes: xlabel='Year', ylabel='Month'>"
      ]
     },
     "execution_count": 14,
     "metadata": {},
     "output_type": "execute_result"
    },
    {
     "data": {
      "image/png": "[encoded data removed]",
      "text/plain": [
       "<Figure size 640x480 with 2 Axes>"
      ]
     },
     "metadata": {},
     "output_type": "display_data"
    }
   ],
   "source": [
    "# You can filter pivot table with any of the three products, rice, beef, coffee\n",
    "df_pivot = df.pivot_table(index='Month', columns='Year', values='Price_rice_infl')\n",
    "sns.heatmap(df_pivot, xticklabels=True, yticklabels=True)"
   ]
  },
  {
   "cell_type": "code",
   "execution_count": null,
   "metadata": {},
   "outputs": [],
   "source": []
  }
 ],
 "metadata": {
  "kernelspec": {
   "display_name": ".venv",
   "language": "python",
   "name": "python3"
  },
  "language_info": {
   "codemirror_mode": {
    "name": "ipython",
    "version": 3
   },
   "file_extension": ".py",
   "mimetype": "text/x-python",
   "name": "python",
   "nbconvert_exporter": "python",
   "pygments_lexer": "ipython3",
   "version": "3.10.11"
  }
 },
 "nbformat": 4,
 "nbformat_minor": 2
}

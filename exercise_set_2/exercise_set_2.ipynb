{
 "cells": [
  {
   "attachments": {},
   "cell_type": "markdown",
   "metadata": {},
   "source": [
    "<h3><b>Introduction to Data Analytics - Exercise set 2 - pandas-module</b></h3>"
   ]
  },
  {
   "attachments": {},
   "cell_type": "markdown",
   "metadata": {},
   "source": [
    "<h4><b>1. import pandas and read the csv-file found in Moodle (loans.csv). Use Python coding with pandas to answer the questions.</b></h4>\n"
   ]
  },
  {
   "cell_type": "code",
   "execution_count": 1,
   "metadata": {},
   "outputs": [],
   "source": [
    "import pandas as pd\n",
    "import numpy as np\n",
    "\n",
    "# Read csv file to DataFrame\n",
    "df = pd.read_csv('loans.csv')"
   ]
  },
  {
   "attachments": {},
   "cell_type": "markdown",
   "metadata": {},
   "source": [
    "<li>Remove the Customer ID –column from data</li>\n",
    "<li>Print the head of the data</li>"
   ]
  },
  {
   "cell_type": "code",
   "execution_count": 2,
   "metadata": {},
   "outputs": [
    {
     "data": {
      "text/html": [
       "<div>\n",
       "<style scoped>\n",
       "    .dataframe tbody tr th:only-of-type {\n",
       "        vertical-align: middle;\n",
       "    }\n",
       "\n",
       "    .dataframe tbody tr th {\n",
       "        vertical-align: top;\n",
       "    }\n",
       "\n",
       "    .dataframe thead th {\n",
       "        text-align: right;\n",
       "    }\n",
       "</style>\n",
       "<table border=\"1\" class=\"dataframe\">\n",
       "  <thead>\n",
       "    <tr style=\"text-align: right;\">\n",
       "      <th></th>\n",
       "      <th>Loan ID</th>\n",
       "      <th>Loan Status</th>\n",
       "      <th>Current Loan Amount</th>\n",
       "      <th>Term</th>\n",
       "      <th>Credit Score</th>\n",
       "      <th>Annual Income</th>\n",
       "      <th>Years in current job</th>\n",
       "      <th>Home Ownership</th>\n",
       "      <th>Purpose</th>\n",
       "      <th>Monthly Debt</th>\n",
       "      <th>Years of Credit History</th>\n",
       "      <th>Months since last delinquent</th>\n",
       "      <th>Number of Open Accounts</th>\n",
       "      <th>Number of Credit Problems</th>\n",
       "      <th>Current Credit Balance</th>\n",
       "      <th>Maximum Open Credit</th>\n",
       "      <th>Bankruptcies</th>\n",
       "      <th>Tax Liens</th>\n",
       "    </tr>\n",
       "  </thead>\n",
       "  <tbody>\n",
       "    <tr>\n",
       "      <th>0</th>\n",
       "      <td>14dd8831-6af5-400b-83ec-68e61888a048</td>\n",
       "      <td>Fully Paid</td>\n",
       "      <td>445412.0</td>\n",
       "      <td>Short Term</td>\n",
       "      <td>709.0</td>\n",
       "      <td>1167493.0</td>\n",
       "      <td>8 years</td>\n",
       "      <td>Home Mortgage</td>\n",
       "      <td>Home Improvements</td>\n",
       "      <td>5214.74</td>\n",
       "      <td>17.2</td>\n",
       "      <td>NaN</td>\n",
       "      <td>6.0</td>\n",
       "      <td>1.0</td>\n",
       "      <td>228190.0</td>\n",
       "      <td>416746.0</td>\n",
       "      <td>1.0</td>\n",
       "      <td>0.0</td>\n",
       "    </tr>\n",
       "    <tr>\n",
       "      <th>1</th>\n",
       "      <td>4771cc26-131a-45db-b5aa-537ea4ba5342</td>\n",
       "      <td>Fully Paid</td>\n",
       "      <td>262328.0</td>\n",
       "      <td>Short Term</td>\n",
       "      <td>NaN</td>\n",
       "      <td>NaN</td>\n",
       "      <td>10+ years</td>\n",
       "      <td>Home Mortgage</td>\n",
       "      <td>Debt Consolidation</td>\n",
       "      <td>33295.98</td>\n",
       "      <td>21.1</td>\n",
       "      <td>8.0</td>\n",
       "      <td>35.0</td>\n",
       "      <td>0.0</td>\n",
       "      <td>229976.0</td>\n",
       "      <td>850784.0</td>\n",
       "      <td>0.0</td>\n",
       "      <td>0.0</td>\n",
       "    </tr>\n",
       "    <tr>\n",
       "      <th>2</th>\n",
       "      <td>4eed4e6a-aa2f-4c91-8651-ce984ee8fb26</td>\n",
       "      <td>Fully Paid</td>\n",
       "      <td>99999999.0</td>\n",
       "      <td>Short Term</td>\n",
       "      <td>741.0</td>\n",
       "      <td>2231892.0</td>\n",
       "      <td>8 years</td>\n",
       "      <td>Own Home</td>\n",
       "      <td>Debt Consolidation</td>\n",
       "      <td>29200.53</td>\n",
       "      <td>14.9</td>\n",
       "      <td>29.0</td>\n",
       "      <td>18.0</td>\n",
       "      <td>1.0</td>\n",
       "      <td>297996.0</td>\n",
       "      <td>750090.0</td>\n",
       "      <td>0.0</td>\n",
       "      <td>0.0</td>\n",
       "    </tr>\n",
       "    <tr>\n",
       "      <th>3</th>\n",
       "      <td>77598f7b-32e7-4e3b-a6e5-06ba0d98fe8a</td>\n",
       "      <td>Fully Paid</td>\n",
       "      <td>347666.0</td>\n",
       "      <td>Long Term</td>\n",
       "      <td>721.0</td>\n",
       "      <td>806949.0</td>\n",
       "      <td>3 years</td>\n",
       "      <td>Own Home</td>\n",
       "      <td>Debt Consolidation</td>\n",
       "      <td>8741.90</td>\n",
       "      <td>12.0</td>\n",
       "      <td>NaN</td>\n",
       "      <td>9.0</td>\n",
       "      <td>0.0</td>\n",
       "      <td>256329.0</td>\n",
       "      <td>386958.0</td>\n",
       "      <td>0.0</td>\n",
       "      <td>0.0</td>\n",
       "    </tr>\n",
       "    <tr>\n",
       "      <th>4</th>\n",
       "      <td>d4062e70-befa-4995-8643-a0de73938182</td>\n",
       "      <td>Fully Paid</td>\n",
       "      <td>176220.0</td>\n",
       "      <td>Short Term</td>\n",
       "      <td>NaN</td>\n",
       "      <td>NaN</td>\n",
       "      <td>5 years</td>\n",
       "      <td>Rent</td>\n",
       "      <td>Debt Consolidation</td>\n",
       "      <td>20639.70</td>\n",
       "      <td>6.1</td>\n",
       "      <td>NaN</td>\n",
       "      <td>15.0</td>\n",
       "      <td>0.0</td>\n",
       "      <td>253460.0</td>\n",
       "      <td>427174.0</td>\n",
       "      <td>0.0</td>\n",
       "      <td>0.0</td>\n",
       "    </tr>\n",
       "  </tbody>\n",
       "</table>\n",
       "</div>"
      ],
      "text/plain": [
       "                                Loan ID Loan Status  Current Loan Amount  \\\n",
       "0  14dd8831-6af5-400b-83ec-68e61888a048  Fully Paid             445412.0   \n",
       "1  4771cc26-131a-45db-b5aa-537ea4ba5342  Fully Paid             262328.0   \n",
       "2  4eed4e6a-aa2f-4c91-8651-ce984ee8fb26  Fully Paid           99999999.0   \n",
       "3  77598f7b-32e7-4e3b-a6e5-06ba0d98fe8a  Fully Paid             347666.0   \n",
       "4  d4062e70-befa-4995-8643-a0de73938182  Fully Paid             176220.0   \n",
       "\n",
       "         Term  Credit Score  Annual Income Years in current job  \\\n",
       "0  Short Term         709.0      1167493.0              8 years   \n",
       "1  Short Term           NaN            NaN            10+ years   \n",
       "2  Short Term         741.0      2231892.0              8 years   \n",
       "3   Long Term         721.0       806949.0              3 years   \n",
       "4  Short Term           NaN            NaN              5 years   \n",
       "\n",
       "  Home Ownership             Purpose  Monthly Debt  Years of Credit History  \\\n",
       "0  Home Mortgage   Home Improvements       5214.74                     17.2   \n",
       "1  Home Mortgage  Debt Consolidation      33295.98                     21.1   \n",
       "2       Own Home  Debt Consolidation      29200.53                     14.9   \n",
       "3       Own Home  Debt Consolidation       8741.90                     12.0   \n",
       "4           Rent  Debt Consolidation      20639.70                      6.1   \n",
       "\n",
       "   Months since last delinquent  Number of Open Accounts  \\\n",
       "0                           NaN                      6.0   \n",
       "1                           8.0                     35.0   \n",
       "2                          29.0                     18.0   \n",
       "3                           NaN                      9.0   \n",
       "4                           NaN                     15.0   \n",
       "\n",
       "   Number of Credit Problems  Current Credit Balance  Maximum Open Credit  \\\n",
       "0                        1.0                228190.0             416746.0   \n",
       "1                        0.0                229976.0             850784.0   \n",
       "2                        1.0                297996.0             750090.0   \n",
       "3                        0.0                256329.0             386958.0   \n",
       "4                        0.0                253460.0             427174.0   \n",
       "\n",
       "   Bankruptcies  Tax Liens  \n",
       "0           1.0        0.0  \n",
       "1           0.0        0.0  \n",
       "2           0.0        0.0  \n",
       "3           0.0        0.0  \n",
       "4           0.0        0.0  "
      ]
     },
     "execution_count": 2,
     "metadata": {},
     "output_type": "execute_result"
    }
   ],
   "source": [
    "# remove the column and print out the head of the DataFrame\n",
    "df = df.drop('Customer ID', axis=1)\n",
    "df.head()"
   ]
  },
  {
   "attachments": {},
   "cell_type": "markdown",
   "metadata": {},
   "source": [
    "<li>Remove rows from the data that have <b style=\"color: red;\">a too large of a loan</b> (Current Loan Amount should be less than 99999999)</li>"
   ]
  },
  {
   "cell_type": "code",
   "execution_count": 3,
   "metadata": {},
   "outputs": [
    {
     "data": {
      "text/plain": [
       "(100514, 18)"
      ]
     },
     "execution_count": 3,
     "metadata": {},
     "output_type": "execute_result"
    }
   ],
   "source": [
    "# Check shape\n",
    "df.shape"
   ]
  },
  {
   "cell_type": "code",
   "execution_count": 4,
   "metadata": {},
   "outputs": [
    {
     "data": {
      "text/plain": [
       "(88516, 18)"
      ]
     },
     "execution_count": 4,
     "metadata": {},
     "output_type": "execute_result"
    }
   ],
   "source": [
    "# remove loans that are too large\n",
    "df = df[df['Current Loan Amount'] < 99999999]\n",
    "df.shape"
   ]
  },
  {
   "attachments": {},
   "cell_type": "markdown",
   "metadata": {},
   "source": [
    "<ul>\n",
    "    <li>Remove rows that have the annual income as NaN (not a number)</li>\n",
    "    <ul>\n",
    "        <li><b>Extra task:</b> use imputation to use average income as the value instead of NaN</li>\n",
    "    </ul>\n",
    "</ul>"
   ]
  },
  {
   "cell_type": "code",
   "execution_count": 5,
   "metadata": {},
   "outputs": [
    {
     "data": {
      "text/plain": [
       "Loan ID                             0\n",
       "Loan Status                         0\n",
       "Current Loan Amount                 0\n",
       "Term                                0\n",
       "Credit Score                    19154\n",
       "Annual Income                   19154\n",
       "Years in current job             3794\n",
       "Home Ownership                      0\n",
       "Purpose                             0\n",
       "Monthly Debt                        0\n",
       "Years of Credit History             0\n",
       "Months since last delinquent    46788\n",
       "Number of Open Accounts             0\n",
       "Number of Credit Problems           0\n",
       "Current Credit Balance              0\n",
       "Maximum Open Credit                 2\n",
       "Bankruptcies                      177\n",
       "Tax Liens                           9\n",
       "dtype: int64"
      ]
     },
     "execution_count": 5,
     "metadata": {},
     "output_type": "execute_result"
    }
   ],
   "source": [
    "# Check columns that have NaN values\n",
    "df.isna().sum()"
   ]
  },
  {
   "cell_type": "code",
   "execution_count": 6,
   "metadata": {},
   "outputs": [
    {
     "data": {
      "text/plain": [
       "Loan ID                             0\n",
       "Loan Status                         0\n",
       "Current Loan Amount                 0\n",
       "Term                                0\n",
       "Credit Score                        0\n",
       "Annual Income                       0\n",
       "Years in current job             2984\n",
       "Home Ownership                      0\n",
       "Purpose                             0\n",
       "Monthly Debt                        0\n",
       "Years of Credit History             0\n",
       "Months since last delinquent    36320\n",
       "Number of Open Accounts             0\n",
       "Number of Credit Problems           0\n",
       "Current Credit Balance              0\n",
       "Maximum Open Credit                 1\n",
       "Bankruptcies                      135\n",
       "Tax Liens                           5\n",
       "dtype: int64"
      ]
     },
     "execution_count": 6,
     "metadata": {},
     "output_type": "execute_result"
    }
   ],
   "source": [
    "# remove rows if annual income is NaN\n",
    "df = df[df['Annual Income'].notnull()]\n",
    "# Recheck NaN values\n",
    "df.isna().sum()"
   ]
  },
  {
   "cell_type": "code",
   "execution_count": 7,
   "metadata": {},
   "outputs": [
    {
     "data": {
      "text/plain": [
       "(69362, 18)"
      ]
     },
     "execution_count": 7,
     "metadata": {},
     "output_type": "execute_result"
    }
   ],
   "source": [
    "# Recheck shape\n",
    "df.shape"
   ]
  },
  {
   "attachments": {},
   "cell_type": "markdown",
   "metadata": {},
   "source": [
    "<li>Get the average Current Loan Amount</li>"
   ]
  },
  {
   "cell_type": "code",
   "execution_count": 8,
   "metadata": {},
   "outputs": [
    {
     "data": {
      "text/plain": [
       "314293.1817998328"
      ]
     },
     "execution_count": 8,
     "metadata": {},
     "output_type": "execute_result"
    }
   ],
   "source": [
    "# get the average current loan\n",
    "avg = df['Current Loan Amount'].mean()\n",
    "avg"
   ]
  },
  {
   "attachments": {},
   "cell_type": "markdown",
   "metadata": {},
   "source": [
    "<li>Get the highest and lowest Annual Income in the dataset</li>"
   ]
  },
  {
   "cell_type": "code",
   "execution_count": 9,
   "metadata": {},
   "outputs": [
    {
     "data": {
      "text/plain": [
       "165557393.0"
      ]
     },
     "execution_count": 9,
     "metadata": {},
     "output_type": "execute_result"
    }
   ],
   "source": [
    "# get highest annual income in dataset\n",
    "max_income = df['Annual Income'].max()\n",
    "max_income"
   ]
  },
  {
   "cell_type": "code",
   "execution_count": 10,
   "metadata": {},
   "outputs": [
    {
     "data": {
      "text/plain": [
       "76627.0"
      ]
     },
     "execution_count": 10,
     "metadata": {},
     "output_type": "execute_result"
    }
   ],
   "source": [
    "# get lowest annual income in dataset\n",
    "min_income = df['Annual Income'].min()\n",
    "min_income"
   ]
  },
  {
   "attachments": {},
   "cell_type": "markdown",
   "metadata": {},
   "source": [
    "<li>Get the Home Ownership value of the <b>Loan ID = bbf87a87-22cd-4d10-bd9b-7a9cc1b6e59d</b></li>"
   ]
  },
  {
   "cell_type": "code",
   "execution_count": 11,
   "metadata": {},
   "outputs": [
    {
     "data": {
      "text/plain": [
       "491    Own Home\n",
       "Name: Home Ownership, dtype: object"
      ]
     },
     "execution_count": 11,
     "metadata": {},
     "output_type": "execute_result"
    }
   ],
   "source": [
    "# get the needed value with the Loan ID\n",
    "value = df[df['Loan ID'] == \"bbf87a87-22cd-4d10-bd9b-7a9cc1b6e59d\"]\n",
    "value['Home Ownership']"
   ]
  },
  {
   "attachments": {},
   "cell_type": "markdown",
   "metadata": {},
   "source": [
    "<li>Create a new field into your dataset called <b>Actual Annual Income</b>.</li>\n",
    "<br><b>Note:</b> The Actual Annual Income follow this formula:<br>\n",
    "<b style=\"color: green\">Annual Income – 12 * Monthly Debt</b><br><br>\n"
   ]
  },
  {
   "cell_type": "code",
   "execution_count": 12,
   "metadata": {},
   "outputs": [
    {
     "data": {
      "text/html": [
       "<div>\n",
       "<style scoped>\n",
       "    .dataframe tbody tr th:only-of-type {\n",
       "        vertical-align: middle;\n",
       "    }\n",
       "\n",
       "    .dataframe tbody tr th {\n",
       "        vertical-align: top;\n",
       "    }\n",
       "\n",
       "    .dataframe thead th {\n",
       "        text-align: right;\n",
       "    }\n",
       "</style>\n",
       "<table border=\"1\" class=\"dataframe\">\n",
       "  <thead>\n",
       "    <tr style=\"text-align: right;\">\n",
       "      <th></th>\n",
       "      <th>Loan ID</th>\n",
       "      <th>Loan Status</th>\n",
       "      <th>Current Loan Amount</th>\n",
       "      <th>Term</th>\n",
       "      <th>Credit Score</th>\n",
       "      <th>Annual Income</th>\n",
       "      <th>Years in current job</th>\n",
       "      <th>Home Ownership</th>\n",
       "      <th>Purpose</th>\n",
       "      <th>Monthly Debt</th>\n",
       "      <th>Years of Credit History</th>\n",
       "      <th>Months since last delinquent</th>\n",
       "      <th>Number of Open Accounts</th>\n",
       "      <th>Number of Credit Problems</th>\n",
       "      <th>Current Credit Balance</th>\n",
       "      <th>Maximum Open Credit</th>\n",
       "      <th>Bankruptcies</th>\n",
       "      <th>Tax Liens</th>\n",
       "      <th>Actual Annual Income</th>\n",
       "    </tr>\n",
       "  </thead>\n",
       "  <tbody>\n",
       "    <tr>\n",
       "      <th>0</th>\n",
       "      <td>14dd8831-6af5-400b-83ec-68e61888a048</td>\n",
       "      <td>Fully Paid</td>\n",
       "      <td>445412.0</td>\n",
       "      <td>Short Term</td>\n",
       "      <td>709.0</td>\n",
       "      <td>1167493.0</td>\n",
       "      <td>8 years</td>\n",
       "      <td>Home Mortgage</td>\n",
       "      <td>Home Improvements</td>\n",
       "      <td>5214.74</td>\n",
       "      <td>17.2</td>\n",
       "      <td>NaN</td>\n",
       "      <td>6.0</td>\n",
       "      <td>1.0</td>\n",
       "      <td>228190.0</td>\n",
       "      <td>416746.0</td>\n",
       "      <td>1.0</td>\n",
       "      <td>0.0</td>\n",
       "      <td>1104916.12</td>\n",
       "    </tr>\n",
       "    <tr>\n",
       "      <th>3</th>\n",
       "      <td>77598f7b-32e7-4e3b-a6e5-06ba0d98fe8a</td>\n",
       "      <td>Fully Paid</td>\n",
       "      <td>347666.0</td>\n",
       "      <td>Long Term</td>\n",
       "      <td>721.0</td>\n",
       "      <td>806949.0</td>\n",
       "      <td>3 years</td>\n",
       "      <td>Own Home</td>\n",
       "      <td>Debt Consolidation</td>\n",
       "      <td>8741.90</td>\n",
       "      <td>12.0</td>\n",
       "      <td>NaN</td>\n",
       "      <td>9.0</td>\n",
       "      <td>0.0</td>\n",
       "      <td>256329.0</td>\n",
       "      <td>386958.0</td>\n",
       "      <td>0.0</td>\n",
       "      <td>0.0</td>\n",
       "      <td>702046.20</td>\n",
       "    </tr>\n",
       "    <tr>\n",
       "      <th>5</th>\n",
       "      <td>89d8cb0c-e5c2-4f54-b056-48a645c543dd</td>\n",
       "      <td>Charged Off</td>\n",
       "      <td>206602.0</td>\n",
       "      <td>Short Term</td>\n",
       "      <td>7290.0</td>\n",
       "      <td>896857.0</td>\n",
       "      <td>10+ years</td>\n",
       "      <td>Home Mortgage</td>\n",
       "      <td>Debt Consolidation</td>\n",
       "      <td>16367.74</td>\n",
       "      <td>17.3</td>\n",
       "      <td>NaN</td>\n",
       "      <td>6.0</td>\n",
       "      <td>0.0</td>\n",
       "      <td>215308.0</td>\n",
       "      <td>272448.0</td>\n",
       "      <td>0.0</td>\n",
       "      <td>0.0</td>\n",
       "      <td>700444.12</td>\n",
       "    </tr>\n",
       "    <tr>\n",
       "      <th>6</th>\n",
       "      <td>273581de-85d8-4332-81a5-19b04ce68666</td>\n",
       "      <td>Fully Paid</td>\n",
       "      <td>217646.0</td>\n",
       "      <td>Short Term</td>\n",
       "      <td>730.0</td>\n",
       "      <td>1184194.0</td>\n",
       "      <td>&lt; 1 year</td>\n",
       "      <td>Home Mortgage</td>\n",
       "      <td>Debt Consolidation</td>\n",
       "      <td>10855.08</td>\n",
       "      <td>19.6</td>\n",
       "      <td>10.0</td>\n",
       "      <td>13.0</td>\n",
       "      <td>1.0</td>\n",
       "      <td>122170.0</td>\n",
       "      <td>272052.0</td>\n",
       "      <td>1.0</td>\n",
       "      <td>0.0</td>\n",
       "      <td>1053933.04</td>\n",
       "    </tr>\n",
       "    <tr>\n",
       "      <th>8</th>\n",
       "      <td>8af915d9-9e91-44a0-b5a2-564a45c12089</td>\n",
       "      <td>Fully Paid</td>\n",
       "      <td>548746.0</td>\n",
       "      <td>Short Term</td>\n",
       "      <td>678.0</td>\n",
       "      <td>2559110.0</td>\n",
       "      <td>2 years</td>\n",
       "      <td>Rent</td>\n",
       "      <td>Debt Consolidation</td>\n",
       "      <td>18660.28</td>\n",
       "      <td>22.6</td>\n",
       "      <td>33.0</td>\n",
       "      <td>4.0</td>\n",
       "      <td>0.0</td>\n",
       "      <td>437171.0</td>\n",
       "      <td>555038.0</td>\n",
       "      <td>0.0</td>\n",
       "      <td>0.0</td>\n",
       "      <td>2335186.64</td>\n",
       "    </tr>\n",
       "  </tbody>\n",
       "</table>\n",
       "</div>"
      ],
      "text/plain": [
       "                                Loan ID  Loan Status  Current Loan Amount  \\\n",
       "0  14dd8831-6af5-400b-83ec-68e61888a048   Fully Paid             445412.0   \n",
       "3  77598f7b-32e7-4e3b-a6e5-06ba0d98fe8a   Fully Paid             347666.0   \n",
       "5  89d8cb0c-e5c2-4f54-b056-48a645c543dd  Charged Off             206602.0   \n",
       "6  273581de-85d8-4332-81a5-19b04ce68666   Fully Paid             217646.0   \n",
       "8  8af915d9-9e91-44a0-b5a2-564a45c12089   Fully Paid             548746.0   \n",
       "\n",
       "         Term  Credit Score  Annual Income Years in current job  \\\n",
       "0  Short Term         709.0      1167493.0              8 years   \n",
       "3   Long Term         721.0       806949.0              3 years   \n",
       "5  Short Term        7290.0       896857.0            10+ years   \n",
       "6  Short Term         730.0      1184194.0             < 1 year   \n",
       "8  Short Term         678.0      2559110.0              2 years   \n",
       "\n",
       "  Home Ownership             Purpose  Monthly Debt  Years of Credit History  \\\n",
       "0  Home Mortgage   Home Improvements       5214.74                     17.2   \n",
       "3       Own Home  Debt Consolidation       8741.90                     12.0   \n",
       "5  Home Mortgage  Debt Consolidation      16367.74                     17.3   \n",
       "6  Home Mortgage  Debt Consolidation      10855.08                     19.6   \n",
       "8           Rent  Debt Consolidation      18660.28                     22.6   \n",
       "\n",
       "   Months since last delinquent  Number of Open Accounts  \\\n",
       "0                           NaN                      6.0   \n",
       "3                           NaN                      9.0   \n",
       "5                           NaN                      6.0   \n",
       "6                          10.0                     13.0   \n",
       "8                          33.0                      4.0   \n",
       "\n",
       "   Number of Credit Problems  Current Credit Balance  Maximum Open Credit  \\\n",
       "0                        1.0                228190.0             416746.0   \n",
       "3                        0.0                256329.0             386958.0   \n",
       "5                        0.0                215308.0             272448.0   \n",
       "6                        1.0                122170.0             272052.0   \n",
       "8                        0.0                437171.0             555038.0   \n",
       "\n",
       "   Bankruptcies  Tax Liens  Actual Annual Income  \n",
       "0           1.0        0.0            1104916.12  \n",
       "3           0.0        0.0             702046.20  \n",
       "5           0.0        0.0             700444.12  \n",
       "6           1.0        0.0            1053933.04  \n",
       "8           0.0        0.0            2335186.64  "
      ]
     },
     "execution_count": 12,
     "metadata": {},
     "output_type": "execute_result"
    }
   ],
   "source": [
    "# create a new field for Actual Annual income (annual income - 12 * monthly debt)\n",
    "df['Actual Annual Income'] = df['Annual Income'] - df['Monthly Debt'] * 12\n",
    "df.head()"
   ]
  },
  {
   "cell_type": "markdown",
   "metadata": {},
   "source": [
    "<li>Get the Actual Annual Income of the loan with the <b>ID = 76fa89b9-e6a8-49af-afa1-8151315aba8e</b></li>"
   ]
  },
  {
   "cell_type": "code",
   "execution_count": 13,
   "metadata": {},
   "outputs": [
    {
     "data": {
      "text/plain": [
       "10215"
      ]
     },
     "execution_count": 13,
     "metadata": {},
     "output_type": "execute_result"
    }
   ],
   "source": [
    "# Find if there are duplicate rows\n",
    "df.duplicated().sum()"
   ]
  },
  {
   "cell_type": "code",
   "execution_count": 14,
   "metadata": {},
   "outputs": [],
   "source": [
    "# Drop duplicate rows\n",
    "df = df.drop_duplicates()"
   ]
  },
  {
   "cell_type": "code",
   "execution_count": 15,
   "metadata": {},
   "outputs": [
    {
     "data": {
      "text/html": [
       "<div>\n",
       "<style scoped>\n",
       "    .dataframe tbody tr th:only-of-type {\n",
       "        vertical-align: middle;\n",
       "    }\n",
       "\n",
       "    .dataframe tbody tr th {\n",
       "        vertical-align: top;\n",
       "    }\n",
       "\n",
       "    .dataframe thead th {\n",
       "        text-align: right;\n",
       "    }\n",
       "</style>\n",
       "<table border=\"1\" class=\"dataframe\">\n",
       "  <thead>\n",
       "    <tr style=\"text-align: right;\">\n",
       "      <th></th>\n",
       "      <th>Actual Annual Income</th>\n",
       "    </tr>\n",
       "  </thead>\n",
       "  <tbody>\n",
       "    <tr>\n",
       "      <th>109</th>\n",
       "      <td>674234.76</td>\n",
       "    </tr>\n",
       "  </tbody>\n",
       "</table>\n",
       "</div>"
      ],
      "text/plain": [
       "     Actual Annual Income\n",
       "109             674234.76"
      ]
     },
     "execution_count": 15,
     "metadata": {},
     "output_type": "execute_result"
    }
   ],
   "source": [
    "# get the Actual Annual income for the needed ID\n",
    "value2 = df[df['Loan ID'] == \"76fa89b9-e6a8-49af-afa1-8151315aba8e\"]\n",
    "value2 = value2['Actual Annual Income']\n",
    "value2.to_frame()"
   ]
  },
  {
   "attachments": {},
   "cell_type": "markdown",
   "metadata": {},
   "source": [
    "<li>Get the Loan ID of the loan with the smallest Actual Annual Income </li>"
   ]
  },
  {
   "cell_type": "code",
   "execution_count": 16,
   "metadata": {},
   "outputs": [
    {
     "data": {
      "text/plain": [
       "'fdda52f3-bbfa-45da-80b5-2bd9b68638ed'"
      ]
     },
     "execution_count": 16,
     "metadata": {},
     "output_type": "execute_result"
    }
   ],
   "source": [
    "# get loan ID of lowest actual annual income\n",
    "id_value = df.loc[df['Actual Annual Income'].idxmin()]['Loan ID']\n",
    "id_value"
   ]
  },
  {
   "attachments": {},
   "cell_type": "markdown",
   "metadata": {},
   "source": [
    "<li>How many loans are \"Long term\"?</li>"
   ]
  },
  {
   "cell_type": "code",
   "execution_count": 17,
   "metadata": {},
   "outputs": [
    {
     "data": {
      "text/plain": [
       "16759"
      ]
     },
     "execution_count": 17,
     "metadata": {},
     "output_type": "execute_result"
    }
   ],
   "source": [
    "# produce code that shows many loans are long term\n",
    "long_loans = df[df['Term'] == 'Long Term']\n",
    "# Print row count for long loans\n",
    "len(long_loans.index)"
   ]
  },
  {
   "attachments": {},
   "cell_type": "markdown",
   "metadata": {},
   "source": [
    "<li>How many loaners have more than 1 bankruptcy?</li>"
   ]
  },
  {
   "cell_type": "code",
   "execution_count": 18,
   "metadata": {},
   "outputs": [
    {
     "data": {
      "text/plain": [
       "19"
      ]
     },
     "execution_count": 18,
     "metadata": {},
     "output_type": "execute_result"
    }
   ],
   "source": [
    "# produce code that shows how many loaners have more than 1 bankruptcy\n",
    "bank = df[df['Bankruptcies'] > 1].count()\n",
    "# Print row count for loaners\n",
    "len(bank.index)"
   ]
  },
  {
   "attachments": {},
   "cell_type": "markdown",
   "metadata": {},
   "source": [
    "<li>How many Short Term loans are for Home Improvements?</li>"
   ]
  },
  {
   "cell_type": "code",
   "execution_count": 19,
   "metadata": {},
   "outputs": [
    {
     "data": {
      "text/plain": [
       "42388"
      ]
     },
     "execution_count": 19,
     "metadata": {},
     "output_type": "execute_result"
    }
   ],
   "source": [
    "# Filter from column 'Term' all 'Short Term' values\n",
    "short_loans = df[df['Term'] == 'Short Term']\n",
    "# Filter all with 'Home Improvements' values in 'Purpose' column\n",
    "short_loans = short_loans['Purpose'] == 'Home Improvements'\n",
    "# Print row count of short loans data frame\n",
    "#short_loans.count()\n",
    "len(short_loans.index)"
   ]
  },
  {
   "attachments": {},
   "cell_type": "markdown",
   "metadata": {},
   "source": [
    "<li>How many unique loan purposes are there?</li>"
   ]
  },
  {
   "cell_type": "code",
   "execution_count": 20,
   "metadata": {},
   "outputs": [
    {
     "data": {
      "text/plain": [
       "16"
      ]
     },
     "execution_count": 20,
     "metadata": {},
     "output_type": "execute_result"
    }
   ],
   "source": [
    "# produce code that shows how many unique loan purposes there are\n",
    "unique_loans = df['Purpose'].unique()\n",
    "len(unique_loans)"
   ]
  },
  {
   "attachments": {},
   "cell_type": "markdown",
   "metadata": {},
   "source": [
    "<li>What are the 3 most common loan purposes?</li>"
   ]
  },
  {
   "cell_type": "code",
   "execution_count": 21,
   "metadata": {},
   "outputs": [
    {
     "data": {
      "text/html": [
       "<div>\n",
       "<style scoped>\n",
       "    .dataframe tbody tr th:only-of-type {\n",
       "        vertical-align: middle;\n",
       "    }\n",
       "\n",
       "    .dataframe tbody tr th {\n",
       "        vertical-align: top;\n",
       "    }\n",
       "\n",
       "    .dataframe thead th {\n",
       "        text-align: right;\n",
       "    }\n",
       "</style>\n",
       "<table border=\"1\" class=\"dataframe\">\n",
       "  <thead>\n",
       "    <tr style=\"text-align: right;\">\n",
       "      <th></th>\n",
       "      <th>count</th>\n",
       "    </tr>\n",
       "    <tr>\n",
       "      <th>Purpose</th>\n",
       "      <th></th>\n",
       "    </tr>\n",
       "  </thead>\n",
       "  <tbody>\n",
       "    <tr>\n",
       "      <th>Debt Consolidation</th>\n",
       "      <td>46550</td>\n",
       "    </tr>\n",
       "    <tr>\n",
       "      <th>other</th>\n",
       "      <td>3587</td>\n",
       "    </tr>\n",
       "    <tr>\n",
       "      <th>Home Improvements</th>\n",
       "      <td>3403</td>\n",
       "    </tr>\n",
       "  </tbody>\n",
       "</table>\n",
       "</div>"
      ],
      "text/plain": [
       "                    count\n",
       "Purpose                  \n",
       "Debt Consolidation  46550\n",
       "other                3587\n",
       "Home Improvements    3403"
      ]
     },
     "execution_count": 21,
     "metadata": {},
     "output_type": "execute_result"
    }
   ],
   "source": [
    "# produce code that shows the 3 most common loan purposes\n",
    "loan_purposes = df['Purpose'].value_counts()\n",
    "loan_purposes.to_frame().head(3)"
   ]
  },
  {
   "attachments": {},
   "cell_type": "markdown",
   "metadata": {},
   "source": [
    "<li>Is there a correlation between <b>Annual Income</b> and <b>Number of Open Accounts</b> or is there a correlation between <b>Number of Credit Problems</b> and <b>Bankruptcies</b>?</li>"
   ]
  },
  {
   "cell_type": "code",
   "execution_count": 22,
   "metadata": {},
   "outputs": [],
   "source": [
    "# produce code that shows which correlation statement is true\n",
    "# Correlation between Annual Income and Number of Open Accounts\n",
    "cor1 = df['Annual Income'].corr(df['Number of Open Accounts'])"
   ]
  },
  {
   "cell_type": "code",
   "execution_count": 23,
   "metadata": {},
   "outputs": [],
   "source": [
    "# Correlation between Number of Credit Problems and Bankruptcies\n",
    "cor2 = df['Number of Credit Problems'].corr(df['Bankruptcies'])"
   ]
  },
  {
   "cell_type": "code",
   "execution_count": 24,
   "metadata": {},
   "outputs": [],
   "source": [
    "# Helper function for correlation\n",
    "def check_cor(value):\n",
    "    if value > 0.3 and value < 0.9:\n",
    "        return True\n",
    "    else:\n",
    "        return False"
   ]
  },
  {
   "cell_type": "code",
   "execution_count": 25,
   "metadata": {},
   "outputs": [
    {
     "data": {
      "text/plain": [
       "False"
      ]
     },
     "execution_count": 25,
     "metadata": {},
     "output_type": "execute_result"
    }
   ],
   "source": [
    "# Check correlation\n",
    "check_cor(cor1)"
   ]
  },
  {
   "cell_type": "code",
   "execution_count": 26,
   "metadata": {},
   "outputs": [
    {
     "data": {
      "text/plain": [
       "True"
      ]
     },
     "execution_count": 26,
     "metadata": {},
     "output_type": "execute_result"
    }
   ],
   "source": [
    "# Check correlation\n",
    "check_cor(cor2)"
   ]
  },
  {
   "attachments": {},
   "cell_type": "markdown",
   "metadata": {},
   "source": [
    "<h4><b>2. Download the purchases.csv from Moodle, and do the following observations:</b></h4>\n"
   ]
  },
  {
   "attachments": {},
   "cell_type": "markdown",
   "metadata": {},
   "source": [
    "<li>What was the total price sum of the Purchase Order Number 018H2015? (14 rows in total)</li>"
   ]
  },
  {
   "cell_type": "code",
   "execution_count": 27,
   "metadata": {},
   "outputs": [
    {
     "data": {
      "text/plain": [
       "Index(['Creation Date', 'Purchase Date', 'Fiscal Year', 'LPA Number',\n",
       "       'Purchase Order Number', 'Requisition Number', 'Acquisition Type',\n",
       "       'Acquisition Method', 'Department Name', 'Supplier Code',\n",
       "       'Supplier Name', 'Supplier Qualifications', 'Supplier Zip Code',\n",
       "       'CalCard', 'Item Name', 'Item Description', 'Quantity', 'Unit Price',\n",
       "       'Total Price', 'Classification Codes', 'Normalized UNSPSC',\n",
       "       'Commodity Title', 'Class', 'Class Title', 'Family', 'Family Title',\n",
       "       'Segment', 'Segment Title', 'Location'],\n",
       "      dtype='object')"
      ]
     },
     "execution_count": 27,
     "metadata": {},
     "output_type": "execute_result"
    }
   ],
   "source": [
    "# produce the code that gets the needed total price sum\n",
    "df1 = pd.read_csv('purchases.csv')\n",
    "df1.columns"
   ]
  },
  {
   "cell_type": "code",
   "execution_count": 28,
   "metadata": {},
   "outputs": [
    {
     "data": {
      "text/plain": [
       "(62657, 29)"
      ]
     },
     "execution_count": 28,
     "metadata": {},
     "output_type": "execute_result"
    }
   ],
   "source": [
    "df1.shape"
   ]
  },
  {
   "cell_type": "code",
   "execution_count": 29,
   "metadata": {},
   "outputs": [
    {
     "data": {
      "text/plain": [
       "151"
      ]
     },
     "execution_count": 29,
     "metadata": {},
     "output_type": "execute_result"
    }
   ],
   "source": [
    "# Check duplicates\n",
    "df1.duplicated().sum()"
   ]
  },
  {
   "cell_type": "code",
   "execution_count": 30,
   "metadata": {},
   "outputs": [],
   "source": [
    "# Drop duplicates\n",
    "df1 = df1.drop_duplicates()"
   ]
  },
  {
   "cell_type": "code",
   "execution_count": 31,
   "metadata": {},
   "outputs": [
    {
     "data": {
      "text/plain": [
       "(62506, 29)"
      ]
     },
     "execution_count": 31,
     "metadata": {},
     "output_type": "execute_result"
    }
   ],
   "source": [
    "df1.shape"
   ]
  },
  {
   "cell_type": "code",
   "execution_count": 32,
   "metadata": {},
   "outputs": [
    {
     "data": {
      "text/plain": [
       "1245.04"
      ]
     },
     "execution_count": 32,
     "metadata": {},
     "output_type": "execute_result"
    }
   ],
   "source": [
    "# Count order sum of individual order number\n",
    "order_sum = df1[df1['Purchase Order Number'] == \"018H2015\"]['Total Price'].sum()\n",
    "# Print sum and round it to 2 decimals\n",
    "round(order_sum, 2)\n"
   ]
  },
  {
   "attachments": {},
   "cell_type": "markdown",
   "metadata": {},
   "source": [
    "<li>What is the name and description of the purchased item with the Purchase Order Number 3176273?</li>"
   ]
  },
  {
   "cell_type": "code",
   "execution_count": 33,
   "metadata": {},
   "outputs": [
    {
     "data": {
      "text/html": [
       "<div>\n",
       "<style scoped>\n",
       "    .dataframe tbody tr th:only-of-type {\n",
       "        vertical-align: middle;\n",
       "    }\n",
       "\n",
       "    .dataframe tbody tr th {\n",
       "        vertical-align: top;\n",
       "    }\n",
       "\n",
       "    .dataframe thead th {\n",
       "        text-align: right;\n",
       "    }\n",
       "</style>\n",
       "<table border=\"1\" class=\"dataframe\">\n",
       "  <thead>\n",
       "    <tr style=\"text-align: right;\">\n",
       "      <th></th>\n",
       "      <th>0</th>\n",
       "    </tr>\n",
       "  </thead>\n",
       "  <tbody>\n",
       "    <tr>\n",
       "      <th>103</th>\n",
       "      <td>PC DesktopHP Prodesk 600</td>\n",
       "    </tr>\n",
       "  </tbody>\n",
       "</table>\n",
       "</div>"
      ],
      "text/plain": [
       "                            0\n",
       "103  PC DesktopHP Prodesk 600"
      ]
     },
     "execution_count": 33,
     "metadata": {},
     "output_type": "execute_result"
    }
   ],
   "source": [
    "# produce the code that gets the needed name and description\n",
    "# Get values based on purchase number\n",
    "order_values = df1[df1['Purchase Order Number'] == \"3176273\"]\n",
    "# Read only item name and description\n",
    "order_values = order_values['Item Name'] + order_values['Item Description']\n",
    "# Print values to frame\n",
    "order_values.to_frame()"
   ]
  },
  {
   "attachments": {},
   "cell_type": "markdown",
   "metadata": {},
   "source": [
    "<li>How many occasions (rows) of purchase data happened during the year 2013?</li>"
   ]
  },
  {
   "cell_type": "code",
   "execution_count": 34,
   "metadata": {},
   "outputs": [
    {
     "data": {
      "text/plain": [
       "9493"
      ]
     },
     "execution_count": 34,
     "metadata": {},
     "output_type": "execute_result"
    }
   ],
   "source": [
    "# produce the code that filters the needed data for year 2013\n",
    "year_2013 = df1[df1['Fiscal Year'] == '2013-2014']\n",
    "# Print row count\n",
    "len(year_2013.index)"
   ]
  },
  {
   "attachments": {},
   "cell_type": "markdown",
   "metadata": {},
   "source": [
    "<ul><li>What are the 5 most common Departments in the data?</li>\n",
    "<ul><li><b>Extra task: </b>What are 3 Departments using most money in the data?</li></ul>\n",
    "</ul>"
   ]
  },
  {
   "cell_type": "code",
   "execution_count": 35,
   "metadata": {},
   "outputs": [
    {
     "data": {
      "text/html": [
       "<div>\n",
       "<style scoped>\n",
       "    .dataframe tbody tr th:only-of-type {\n",
       "        vertical-align: middle;\n",
       "    }\n",
       "\n",
       "    .dataframe tbody tr th {\n",
       "        vertical-align: top;\n",
       "    }\n",
       "\n",
       "    .dataframe thead th {\n",
       "        text-align: right;\n",
       "    }\n",
       "</style>\n",
       "<table border=\"1\" class=\"dataframe\">\n",
       "  <thead>\n",
       "    <tr style=\"text-align: right;\">\n",
       "      <th></th>\n",
       "      <th>count</th>\n",
       "    </tr>\n",
       "    <tr>\n",
       "      <th>Department Name</th>\n",
       "      <th></th>\n",
       "    </tr>\n",
       "  </thead>\n",
       "  <tbody>\n",
       "    <tr>\n",
       "      <th>Corrections and Rehabilitation, Department of</th>\n",
       "      <td>10862</td>\n",
       "    </tr>\n",
       "    <tr>\n",
       "      <th>Correctional Health Care Services</th>\n",
       "      <td>6591</td>\n",
       "    </tr>\n",
       "    <tr>\n",
       "      <th>Water Resources, Department of</th>\n",
       "      <td>4567</td>\n",
       "    </tr>\n",
       "    <tr>\n",
       "      <th>Forestry and Fire Protection, Department of</th>\n",
       "      <td>4513</td>\n",
       "    </tr>\n",
       "    <tr>\n",
       "      <th>State Hospitals, Department of</th>\n",
       "      <td>4258</td>\n",
       "    </tr>\n",
       "  </tbody>\n",
       "</table>\n",
       "</div>"
      ],
      "text/plain": [
       "                                               count\n",
       "Department Name                                     \n",
       "Corrections and Rehabilitation, Department of  10862\n",
       "Correctional Health Care Services               6591\n",
       "Water Resources, Department of                  4567\n",
       "Forestry and Fire Protection, Department of     4513\n",
       "State Hospitals, Department of                  4258"
      ]
     },
     "execution_count": 35,
     "metadata": {},
     "output_type": "execute_result"
    }
   ],
   "source": [
    "# Get 5 most common departments name\n",
    "common_5 = df1['Department Name'].value_counts().head(5)\n",
    "# Print values to frame\n",
    "common_5.to_frame()"
   ]
  },
  {
   "cell_type": "code",
   "execution_count": 36,
   "metadata": {},
   "outputs": [
    {
     "data": {
      "text/html": [
       "<div>\n",
       "<style scoped>\n",
       "    .dataframe tbody tr th:only-of-type {\n",
       "        vertical-align: middle;\n",
       "    }\n",
       "\n",
       "    .dataframe tbody tr th {\n",
       "        vertical-align: top;\n",
       "    }\n",
       "\n",
       "    .dataframe thead th {\n",
       "        text-align: right;\n",
       "    }\n",
       "</style>\n",
       "<table border=\"1\" class=\"dataframe\">\n",
       "  <thead>\n",
       "    <tr style=\"text-align: right;\">\n",
       "      <th></th>\n",
       "      <th></th>\n",
       "    </tr>\n",
       "    <tr>\n",
       "      <th>Department Name</th>\n",
       "      <th>Total Price</th>\n",
       "    </tr>\n",
       "  </thead>\n",
       "  <tbody>\n",
       "    <tr>\n",
       "      <th rowspan=\"3\" valign=\"top\">Administrative Law, Office of</th>\n",
       "      <th>5000.0</th>\n",
       "    </tr>\n",
       "    <tr>\n",
       "      <th>10000.0</th>\n",
       "    </tr>\n",
       "    <tr>\n",
       "      <th>35000.0</th>\n",
       "    </tr>\n",
       "    <tr>\n",
       "      <th rowspan=\"2\" valign=\"top\">African American Museum, California</th>\n",
       "      <th>5450.0</th>\n",
       "    </tr>\n",
       "    <tr>\n",
       "      <th>5677.0</th>\n",
       "    </tr>\n",
       "    <tr>\n",
       "      <th>...</th>\n",
       "      <th>...</th>\n",
       "    </tr>\n",
       "    <tr>\n",
       "      <th rowspan=\"5\" valign=\"top\">Water Resources, Department of</th>\n",
       "      <th>25000000.0</th>\n",
       "    </tr>\n",
       "    <tr>\n",
       "      <th>34000000.0</th>\n",
       "    </tr>\n",
       "    <tr>\n",
       "      <th>59000000.0</th>\n",
       "    </tr>\n",
       "    <tr>\n",
       "      <th>62400000.0</th>\n",
       "    </tr>\n",
       "    <tr>\n",
       "      <th>167610000.0</th>\n",
       "    </tr>\n",
       "  </tbody>\n",
       "</table>\n",
       "<p>49874 rows × 0 columns</p>\n",
       "</div>"
      ],
      "text/plain": [
       "Empty DataFrame\n",
       "Columns: []\n",
       "Index: [(Administrative Law, Office of, 5000.0), (Administrative Law, Office of, 10000.0), (Administrative Law, Office of, 35000.0), (African American Museum, California, 5450.0), (African American Museum, California, 5677.0), (African American Museum, California, 6025.05), (African American Museum, California, 8530.4), (African American Museum, California, 9999.99), (African American Museum, California, 24000.0), (African American Museum, California, 43440.0), (Aging, Department of, 0.0), (Aging, Department of, 0.91), (Aging, Department of, 4.0), (Aging, Department of, 4.93), (Aging, Department of, 8.49), (Aging, Department of, 8.69), (Aging, Department of, 9.58), (Aging, Department of, 9.68), (Aging, Department of, 9.79), (Aging, Department of, 10.88), (Aging, Department of, 12.36), (Aging, Department of, 14.29), (Aging, Department of, 14.99), (Aging, Department of, 15.54), (Aging, Department of, 15.9), (Aging, Department of, 17.56), (Aging, Department of, 20.64), (Aging, Department of, 24.87), (Aging, Department of, 28.72), (Aging, Department of, 49.54), (Aging, Department of, 50.56), (Aging, Department of, 52.7), (Aging, Department of, 57.6), (Aging, Department of, 57.72), (Aging, Department of, 58.16), (Aging, Department of, 90.0), (Aging, Department of, 98.0), (Aging, Department of, 112.0), (Aging, Department of, 196.0), (Aging, Department of, 204.0), (Aging, Department of, 300.0), (Aging, Department of, 304.0), (Aging, Department of, 350.0), (Aging, Department of, 1074.0), (Aging, Department of, 1285.0), (Aging, Department of, 1644.0), (Aging, Department of, 1974.0), (Aging, Department of, 2520.0), (Aging, Department of, 2625.0), (Aging, Department of, 2930.0), (Aging, Department of, 7000.0), (Aging, Department of, 31930.0), (Aging, Department of, 82034.0), (Aging, Department of, 91149.0), (Aging, Department of, 100264.0), (Aging, Department of, 125863.0), (Aging, Department of, 150872.0), (Aging, Department of, 154954.0), (Aging, Department of, 182299.0), (Aging, Department of, 209965.0), (Aging, Department of, 264486.0), (Aging, Department of, 264653.0), (Aging, Department of, 320707.0), (Aging, Department of, 328407.0), (Aging, Department of, 364032.0), (Aging, Department of, 373713.0), (Aging, Department of, 397912.0), (Aging, Department of, 406878.0), (Aging, Department of, 460272.0), (Aging, Department of, 481619.0), (Aging, Department of, 531472.0), (Aging, Department of, 608537.0), (Aging, Department of, 685600.0), (Aging, Department of, 732901.0), (Aging, Department of, 738989.0), (Aging, Department of, 774770.0), (Aging, Department of, 783885.0), (Aging, Department of, 904666.0), (Aging, Department of, 922304.0), (Aging, Department of, 1075535.0), (Aging, Department of, 1088168.0), (Aging, Department of, 1100485.0), (Aging, Department of, 1351927.0), (Aging, Department of, 1498095.0), (Aging, Department of, 1760801.0), (Aging, Department of, 1765763.0), (Aging, Department of, 1949675.0), (Aging, Department of, 2054081.0), (Aging, Department of, 2225622.0), (Aging, Department of, 2356750.0), (Aging, Department of, 2519580.0), (Aging, Department of, 2774818.0), (Aging, Department of, 2801691.0), (Aging, Department of, 3235175.0), (Aging, Department of, 3931083.0), (Aging, Department of, 5754422.0), (Aging, Department of, 6730063.0), (Aging, Department of, 7663782.0), (Aging, Department of, 10380294.0), (Agricultural Labor Relations Board, 20.0), ...]\n",
       "\n",
       "[49874 rows x 0 columns]"
      ]
     },
     "execution_count": 36,
     "metadata": {},
     "output_type": "execute_result"
    }
   ],
   "source": [
    "# Extra task: 3 most common departments using most money\n",
    "# FIXME: NOT WORKING\n",
    "common_3 = df1[['Department Name', 'Total Price']].groupby(['Department Name','Total Price']).sum()\n",
    "common_3"
   ]
  },
  {
   "attachments": {},
   "cell_type": "markdown",
   "metadata": {},
   "source": [
    "<li>Sort the data by Department Name</li>"
   ]
  },
  {
   "cell_type": "code",
   "execution_count": 37,
   "metadata": {},
   "outputs": [
    {
     "data": {
      "text/html": [
       "<div>\n",
       "<style scoped>\n",
       "    .dataframe tbody tr th:only-of-type {\n",
       "        vertical-align: middle;\n",
       "    }\n",
       "\n",
       "    .dataframe tbody tr th {\n",
       "        vertical-align: top;\n",
       "    }\n",
       "\n",
       "    .dataframe thead th {\n",
       "        text-align: right;\n",
       "    }\n",
       "</style>\n",
       "<table border=\"1\" class=\"dataframe\">\n",
       "  <thead>\n",
       "    <tr style=\"text-align: right;\">\n",
       "      <th></th>\n",
       "      <th>Creation Date</th>\n",
       "      <th>Purchase Date</th>\n",
       "      <th>Fiscal Year</th>\n",
       "      <th>LPA Number</th>\n",
       "      <th>Purchase Order Number</th>\n",
       "      <th>Requisition Number</th>\n",
       "      <th>Acquisition Type</th>\n",
       "      <th>Acquisition Method</th>\n",
       "      <th>Department Name</th>\n",
       "      <th>Supplier Code</th>\n",
       "      <th>...</th>\n",
       "      <th>Classification Codes</th>\n",
       "      <th>Normalized UNSPSC</th>\n",
       "      <th>Commodity Title</th>\n",
       "      <th>Class</th>\n",
       "      <th>Class Title</th>\n",
       "      <th>Family</th>\n",
       "      <th>Family Title</th>\n",
       "      <th>Segment</th>\n",
       "      <th>Segment Title</th>\n",
       "      <th>Location</th>\n",
       "    </tr>\n",
       "  </thead>\n",
       "  <tbody>\n",
       "    <tr>\n",
       "      <th>519</th>\n",
       "      <td>11/30/2012</td>\n",
       "      <td>06/15/2012</td>\n",
       "      <td>2012-2013</td>\n",
       "      <td>NaN</td>\n",
       "      <td>11OAL09</td>\n",
       "      <td>NaN</td>\n",
       "      <td>NON-IT Goods</td>\n",
       "      <td>NCB</td>\n",
       "      <td>Administrative Law, Office of</td>\n",
       "      <td>1657720.0</td>\n",
       "      <td>...</td>\n",
       "      <td>55101524</td>\n",
       "      <td>55101524.0</td>\n",
       "      <td>Reference books</td>\n",
       "      <td>55101500.0</td>\n",
       "      <td>Printed publications</td>\n",
       "      <td>55100000.0</td>\n",
       "      <td>Printed media</td>\n",
       "      <td>55000000.0</td>\n",
       "      <td>Published Products</td>\n",
       "      <td>55123\\n(44.807169, -93.136157)</td>\n",
       "    </tr>\n",
       "    <tr>\n",
       "      <th>6</th>\n",
       "      <td>11/30/2012</td>\n",
       "      <td>06/15/2012</td>\n",
       "      <td>2012-2013</td>\n",
       "      <td>NaN</td>\n",
       "      <td>11OAL07</td>\n",
       "      <td>NaN</td>\n",
       "      <td>NON-IT Goods</td>\n",
       "      <td>NCB</td>\n",
       "      <td>Administrative Law, Office of</td>\n",
       "      <td>1001493.0</td>\n",
       "      <td>...</td>\n",
       "      <td>55101524</td>\n",
       "      <td>55101524.0</td>\n",
       "      <td>Reference books</td>\n",
       "      <td>55101500.0</td>\n",
       "      <td>Printed publications</td>\n",
       "      <td>55100000.0</td>\n",
       "      <td>Printed media</td>\n",
       "      <td>55000000.0</td>\n",
       "      <td>Published Products</td>\n",
       "      <td>95833\\n(38.615723, -121.50562)</td>\n",
       "    </tr>\n",
       "    <tr>\n",
       "      <th>20018</th>\n",
       "      <td>11/30/2012</td>\n",
       "      <td>06/15/2012</td>\n",
       "      <td>2012-2013</td>\n",
       "      <td>NaN</td>\n",
       "      <td>11OAL10</td>\n",
       "      <td>NaN</td>\n",
       "      <td>NON-IT Goods</td>\n",
       "      <td>NCB</td>\n",
       "      <td>Administrative Law, Office of</td>\n",
       "      <td>1657720.0</td>\n",
       "      <td>...</td>\n",
       "      <td>55101524</td>\n",
       "      <td>55101524.0</td>\n",
       "      <td>Reference books</td>\n",
       "      <td>55101500.0</td>\n",
       "      <td>Printed publications</td>\n",
       "      <td>55100000.0</td>\n",
       "      <td>Printed media</td>\n",
       "      <td>55000000.0</td>\n",
       "      <td>Published Products</td>\n",
       "      <td>55123\\n(44.807169, -93.136157)</td>\n",
       "    </tr>\n",
       "    <tr>\n",
       "      <th>31381</th>\n",
       "      <td>02/21/2013</td>\n",
       "      <td>03/20/2013</td>\n",
       "      <td>2012-2013</td>\n",
       "      <td>NaN</td>\n",
       "      <td>11-12201</td>\n",
       "      <td>NaN</td>\n",
       "      <td>NON-IT Services</td>\n",
       "      <td>Informal Competitive</td>\n",
       "      <td>African American Museum, California</td>\n",
       "      <td>7341.0</td>\n",
       "      <td>...</td>\n",
       "      <td>82101801</td>\n",
       "      <td>82101801.0</td>\n",
       "      <td>Advertising campaign services</td>\n",
       "      <td>82101800.0</td>\n",
       "      <td>Advertising agency services</td>\n",
       "      <td>82100000.0</td>\n",
       "      <td>Advertising</td>\n",
       "      <td>82000000.0</td>\n",
       "      <td>Editorial and Design and Graphic and Fine Art ...</td>\n",
       "      <td>90017\\n(34.052895, -118.2642)</td>\n",
       "    </tr>\n",
       "    <tr>\n",
       "      <th>666</th>\n",
       "      <td>01/02/2013</td>\n",
       "      <td>12/13/2011</td>\n",
       "      <td>2012-2013</td>\n",
       "      <td>NaN</td>\n",
       "      <td>11-12115</td>\n",
       "      <td>NaN</td>\n",
       "      <td>NON-IT Goods</td>\n",
       "      <td>Informal Competitive</td>\n",
       "      <td>African American Museum, California</td>\n",
       "      <td>1748984.0</td>\n",
       "      <td>...</td>\n",
       "      <td>82151504</td>\n",
       "      <td>82151504.0</td>\n",
       "      <td>Sculptors services</td>\n",
       "      <td>82151500.0</td>\n",
       "      <td>Visual art services</td>\n",
       "      <td>82150000.0</td>\n",
       "      <td>Professional artists and performers</td>\n",
       "      <td>82000000.0</td>\n",
       "      <td>Editorial and Design and Graphic and Fine Art ...</td>\n",
       "      <td>NaN</td>\n",
       "    </tr>\n",
       "    <tr>\n",
       "      <th>...</th>\n",
       "      <td>...</td>\n",
       "      <td>...</td>\n",
       "      <td>...</td>\n",
       "      <td>...</td>\n",
       "      <td>...</td>\n",
       "      <td>...</td>\n",
       "      <td>...</td>\n",
       "      <td>...</td>\n",
       "      <td>...</td>\n",
       "      <td>...</td>\n",
       "      <td>...</td>\n",
       "      <td>...</td>\n",
       "      <td>...</td>\n",
       "      <td>...</td>\n",
       "      <td>...</td>\n",
       "      <td>...</td>\n",
       "      <td>...</td>\n",
       "      <td>...</td>\n",
       "      <td>...</td>\n",
       "      <td>...</td>\n",
       "      <td>...</td>\n",
       "    </tr>\n",
       "    <tr>\n",
       "      <th>51643</th>\n",
       "      <td>06/20/2013</td>\n",
       "      <td>06/18/2013</td>\n",
       "      <td>2012-2013</td>\n",
       "      <td>NaN</td>\n",
       "      <td>4500199233</td>\n",
       "      <td>NaN</td>\n",
       "      <td>NON-IT Goods</td>\n",
       "      <td>Informal Competitive</td>\n",
       "      <td>Water Resources, Department of</td>\n",
       "      <td>27490.0</td>\n",
       "      <td>...</td>\n",
       "      <td>39121529\\n40151607</td>\n",
       "      <td>39121529.0</td>\n",
       "      <td>Contactors</td>\n",
       "      <td>39121500.0</td>\n",
       "      <td>Electrical controls and accessories</td>\n",
       "      <td>39120000.0</td>\n",
       "      <td>Electrical equipment and components and supplies</td>\n",
       "      <td>39000000.0</td>\n",
       "      <td>Electrical Systems and Lighting and Components...</td>\n",
       "      <td>93307\\n(35.277962, -118.942809)</td>\n",
       "    </tr>\n",
       "    <tr>\n",
       "      <th>51637</th>\n",
       "      <td>06/21/2013</td>\n",
       "      <td>06/15/2013</td>\n",
       "      <td>2012-2013</td>\n",
       "      <td>NaN</td>\n",
       "      <td>4500199115</td>\n",
       "      <td>NaN</td>\n",
       "      <td>NON-IT Goods</td>\n",
       "      <td>Informal Competitive</td>\n",
       "      <td>Water Resources, Department of</td>\n",
       "      <td>6523.0</td>\n",
       "      <td>...</td>\n",
       "      <td>46181503\\n46182306</td>\n",
       "      <td>46181503.0</td>\n",
       "      <td>Protective coveralls</td>\n",
       "      <td>46181500.0</td>\n",
       "      <td>Safety apparel</td>\n",
       "      <td>46180000.0</td>\n",
       "      <td>Personal safety and protection</td>\n",
       "      <td>46000000.0</td>\n",
       "      <td>Defense and Law Enforcement and Security and S...</td>\n",
       "      <td>98733\\n</td>\n",
       "    </tr>\n",
       "    <tr>\n",
       "      <th>14229</th>\n",
       "      <td>09/14/2012</td>\n",
       "      <td>09/14/2012</td>\n",
       "      <td>2012-2013</td>\n",
       "      <td>NaN</td>\n",
       "      <td>4500189319</td>\n",
       "      <td>NaN</td>\n",
       "      <td>NON-IT Goods</td>\n",
       "      <td>Informal Competitive</td>\n",
       "      <td>Water Resources, Department of</td>\n",
       "      <td>1015614.0</td>\n",
       "      <td>...</td>\n",
       "      <td>31181503\\n31181509\\n31181504</td>\n",
       "      <td>31181503.0</td>\n",
       "      <td>Metal gaskets</td>\n",
       "      <td>31181500.0</td>\n",
       "      <td>Gaskets</td>\n",
       "      <td>31180000.0</td>\n",
       "      <td>Gaskets and seals</td>\n",
       "      <td>31000000.0</td>\n",
       "      <td>Manufacturing Components and Supplies</td>\n",
       "      <td>92880\\n(33.9357, -117.595283)</td>\n",
       "    </tr>\n",
       "    <tr>\n",
       "      <th>51777</th>\n",
       "      <td>03/26/2014</td>\n",
       "      <td>03/25/2014</td>\n",
       "      <td>2013-2014</td>\n",
       "      <td>NaN</td>\n",
       "      <td>4500208992</td>\n",
       "      <td>NaN</td>\n",
       "      <td>NON-IT Goods</td>\n",
       "      <td>State Programs</td>\n",
       "      <td>Water Resources, Department of</td>\n",
       "      <td>1743406.0</td>\n",
       "      <td>...</td>\n",
       "      <td>15101506</td>\n",
       "      <td>15101506.0</td>\n",
       "      <td>Gasoline or Petrol</td>\n",
       "      <td>15101500.0</td>\n",
       "      <td>Petroleum and distillates</td>\n",
       "      <td>15100000.0</td>\n",
       "      <td>Fuels</td>\n",
       "      <td>15000000.0</td>\n",
       "      <td>Fuels and Fuel Additives and Lubricants and An...</td>\n",
       "      <td>NaN</td>\n",
       "    </tr>\n",
       "    <tr>\n",
       "      <th>10047</th>\n",
       "      <td>08/25/2012</td>\n",
       "      <td>08/25/2012</td>\n",
       "      <td>2012-2013</td>\n",
       "      <td>1-10-75-55</td>\n",
       "      <td>4500188586</td>\n",
       "      <td>NaN</td>\n",
       "      <td>NON-IT Goods</td>\n",
       "      <td>Statewide Contract</td>\n",
       "      <td>Water Resources, Department of</td>\n",
       "      <td>36519.0</td>\n",
       "      <td>...</td>\n",
       "      <td>14111507\\n14111511\\n14111514\\n44121714\\n312015...</td>\n",
       "      <td>14111507.0</td>\n",
       "      <td>Printer or copier paper</td>\n",
       "      <td>14111500.0</td>\n",
       "      <td>Printing and writing paper</td>\n",
       "      <td>14110000.0</td>\n",
       "      <td>Paper products</td>\n",
       "      <td>14000000.0</td>\n",
       "      <td>Paper Materials and Products</td>\n",
       "      <td>94526\\n(37.814603, -121.985857)</td>\n",
       "    </tr>\n",
       "  </tbody>\n",
       "</table>\n",
       "<p>62506 rows × 29 columns</p>\n",
       "</div>"
      ],
      "text/plain": [
       "      Creation Date Purchase Date Fiscal Year  LPA Number  \\\n",
       "519      11/30/2012    06/15/2012   2012-2013         NaN   \n",
       "6        11/30/2012    06/15/2012   2012-2013         NaN   \n",
       "20018    11/30/2012    06/15/2012   2012-2013         NaN   \n",
       "31381    02/21/2013    03/20/2013   2012-2013         NaN   \n",
       "666      01/02/2013    12/13/2011   2012-2013         NaN   \n",
       "...             ...           ...         ...         ...   \n",
       "51643    06/20/2013    06/18/2013   2012-2013         NaN   \n",
       "51637    06/21/2013    06/15/2013   2012-2013         NaN   \n",
       "14229    09/14/2012    09/14/2012   2012-2013         NaN   \n",
       "51777    03/26/2014    03/25/2014   2013-2014         NaN   \n",
       "10047    08/25/2012    08/25/2012   2012-2013  1-10-75-55   \n",
       "\n",
       "      Purchase Order Number  Requisition Number Acquisition Type  \\\n",
       "519                 11OAL09                 NaN     NON-IT Goods   \n",
       "6                   11OAL07                 NaN     NON-IT Goods   \n",
       "20018               11OAL10                 NaN     NON-IT Goods   \n",
       "31381              11-12201                 NaN  NON-IT Services   \n",
       "666                11-12115                 NaN     NON-IT Goods   \n",
       "...                     ...                 ...              ...   \n",
       "51643            4500199233                 NaN     NON-IT Goods   \n",
       "51637            4500199115                 NaN     NON-IT Goods   \n",
       "14229            4500189319                 NaN     NON-IT Goods   \n",
       "51777            4500208992                 NaN     NON-IT Goods   \n",
       "10047            4500188586                 NaN     NON-IT Goods   \n",
       "\n",
       "         Acquisition Method                      Department Name  \\\n",
       "519                     NCB        Administrative Law, Office of   \n",
       "6                       NCB        Administrative Law, Office of   \n",
       "20018                   NCB        Administrative Law, Office of   \n",
       "31381  Informal Competitive  African American Museum, California   \n",
       "666    Informal Competitive  African American Museum, California   \n",
       "...                     ...                                  ...   \n",
       "51643  Informal Competitive       Water Resources, Department of   \n",
       "51637  Informal Competitive       Water Resources, Department of   \n",
       "14229  Informal Competitive       Water Resources, Department of   \n",
       "51777        State Programs       Water Resources, Department of   \n",
       "10047    Statewide Contract       Water Resources, Department of   \n",
       "\n",
       "       Supplier Code  ...                               Classification Codes  \\\n",
       "519        1657720.0  ...                                           55101524   \n",
       "6          1001493.0  ...                                           55101524   \n",
       "20018      1657720.0  ...                                           55101524   \n",
       "31381         7341.0  ...                                           82101801   \n",
       "666        1748984.0  ...                                           82151504   \n",
       "...              ...  ...                                                ...   \n",
       "51643        27490.0  ...                                 39121529\\n40151607   \n",
       "51637         6523.0  ...                                 46181503\\n46182306   \n",
       "14229      1015614.0  ...                       31181503\\n31181509\\n31181504   \n",
       "51777      1743406.0  ...                                           15101506   \n",
       "10047        36519.0  ...  14111507\\n14111511\\n14111514\\n44121714\\n312015...   \n",
       "\n",
       "      Normalized UNSPSC                Commodity Title       Class  \\\n",
       "519          55101524.0                Reference books  55101500.0   \n",
       "6            55101524.0                Reference books  55101500.0   \n",
       "20018        55101524.0                Reference books  55101500.0   \n",
       "31381        82101801.0  Advertising campaign services  82101800.0   \n",
       "666          82151504.0             Sculptors services  82151500.0   \n",
       "...                 ...                            ...         ...   \n",
       "51643        39121529.0                     Contactors  39121500.0   \n",
       "51637        46181503.0           Protective coveralls  46181500.0   \n",
       "14229        31181503.0                  Metal gaskets  31181500.0   \n",
       "51777        15101506.0             Gasoline or Petrol  15101500.0   \n",
       "10047        14111507.0        Printer or copier paper  14111500.0   \n",
       "\n",
       "                               Class Title      Family  \\\n",
       "519                   Printed publications  55100000.0   \n",
       "6                     Printed publications  55100000.0   \n",
       "20018                 Printed publications  55100000.0   \n",
       "31381          Advertising agency services  82100000.0   \n",
       "666                    Visual art services  82150000.0   \n",
       "...                                    ...         ...   \n",
       "51643  Electrical controls and accessories  39120000.0   \n",
       "51637                       Safety apparel  46180000.0   \n",
       "14229                              Gaskets  31180000.0   \n",
       "51777            Petroleum and distillates  15100000.0   \n",
       "10047           Printing and writing paper  14110000.0   \n",
       "\n",
       "                                           Family Title     Segment  \\\n",
       "519                                       Printed media  55000000.0   \n",
       "6                                         Printed media  55000000.0   \n",
       "20018                                     Printed media  55000000.0   \n",
       "31381                                       Advertising  82000000.0   \n",
       "666                 Professional artists and performers  82000000.0   \n",
       "...                                                 ...         ...   \n",
       "51643  Electrical equipment and components and supplies  39000000.0   \n",
       "51637                    Personal safety and protection  46000000.0   \n",
       "14229                                 Gaskets and seals  31000000.0   \n",
       "51777                                             Fuels  15000000.0   \n",
       "10047                                    Paper products  14000000.0   \n",
       "\n",
       "                                           Segment Title  \\\n",
       "519                                   Published Products   \n",
       "6                                     Published Products   \n",
       "20018                                 Published Products   \n",
       "31381  Editorial and Design and Graphic and Fine Art ...   \n",
       "666    Editorial and Design and Graphic and Fine Art ...   \n",
       "...                                                  ...   \n",
       "51643  Electrical Systems and Lighting and Components...   \n",
       "51637  Defense and Law Enforcement and Security and S...   \n",
       "14229              Manufacturing Components and Supplies   \n",
       "51777  Fuels and Fuel Additives and Lubricants and An...   \n",
       "10047                       Paper Materials and Products   \n",
       "\n",
       "                              Location  \n",
       "519     55123\\n(44.807169, -93.136157)  \n",
       "6       95833\\n(38.615723, -121.50562)  \n",
       "20018   55123\\n(44.807169, -93.136157)  \n",
       "31381    90017\\n(34.052895, -118.2642)  \n",
       "666                                NaN  \n",
       "...                                ...  \n",
       "51643  93307\\n(35.277962, -118.942809)  \n",
       "51637                          98733\\n  \n",
       "14229    92880\\n(33.9357, -117.595283)  \n",
       "51777                              NaN  \n",
       "10047  94526\\n(37.814603, -121.985857)  \n",
       "\n",
       "[62506 rows x 29 columns]"
      ]
     },
     "execution_count": 37,
     "metadata": {},
     "output_type": "execute_result"
    }
   ],
   "source": [
    "# sort the data by department name\n",
    "sorted_by_name = df1.sort_values('Department Name', axis=0, ascending=True)\n",
    "sorted_by_name"
   ]
  },
  {
   "attachments": {},
   "cell_type": "markdown",
   "metadata": {},
   "source": [
    "<ul>\n",
    "<li><b>Small extra tasks for extra points</b></li>\n",
    "<ul>\n",
    "<li>How many purchases in the data were IT Goods and had the total price more than 50000 dollars?</li>\n",
    "<li>How many of the purchases have anything to do with IT? (IT Goods, IT Services, IT Telecommunications)</li>\n",
    "\n",
    "</ul>\n",
    "</ul>"
   ]
  },
  {
   "cell_type": "code",
   "execution_count": 38,
   "metadata": {},
   "outputs": [
    {
     "data": {
      "text/plain": [
       "array(['NON-IT Goods', 'NON-IT Services', 'IT Goods',\n",
       "       'IT Telecommunications', 'IT Services'], dtype=object)"
      ]
     },
     "execution_count": 38,
     "metadata": {},
     "output_type": "execute_result"
    }
   ],
   "source": [
    "# Extra Task\n",
    "# How many purchases in the data were IT Goods and had the total price more than 50000 dollars?\n",
    "# Check how many 'Acquisition Type' categories are there\n",
    "categories = df1['Acquisition Type'].unique()\n",
    "categories"
   ]
  },
  {
   "cell_type": "code",
   "execution_count": 39,
   "metadata": {},
   "outputs": [
    {
     "data": {
      "text/plain": [
       "{'NON-IT Goods': 0,\n",
       " 'NON-IT Services': 1,\n",
       " 'IT Goods': 2,\n",
       " 'IT Telecommunications': 3,\n",
       " 'IT Services': 4}"
      ]
     },
     "execution_count": 39,
     "metadata": {},
     "output_type": "execute_result"
    }
   ],
   "source": [
    "# Populate list with number values 0..4\n",
    "cat_values = [x for x in range(5)]\n",
    "# Create dictionary with ordinal category from categories and cat_values\n",
    "category_mapper = {categories[i]: cat_values[i] for i in range(len(categories))}\n",
    "# Check dictionary\n",
    "category_mapper"
   ]
  },
  {
   "cell_type": "code",
   "execution_count": 40,
   "metadata": {},
   "outputs": [
    {
     "data": {
      "text/html": [
       "<div>\n",
       "<style scoped>\n",
       "    .dataframe tbody tr th:only-of-type {\n",
       "        vertical-align: middle;\n",
       "    }\n",
       "\n",
       "    .dataframe tbody tr th {\n",
       "        vertical-align: top;\n",
       "    }\n",
       "\n",
       "    .dataframe thead th {\n",
       "        text-align: right;\n",
       "    }\n",
       "</style>\n",
       "<table border=\"1\" class=\"dataframe\">\n",
       "  <thead>\n",
       "    <tr style=\"text-align: right;\">\n",
       "      <th></th>\n",
       "      <th>Creation Date</th>\n",
       "      <th>Purchase Date</th>\n",
       "      <th>Fiscal Year</th>\n",
       "      <th>LPA Number</th>\n",
       "      <th>Purchase Order Number</th>\n",
       "      <th>Requisition Number</th>\n",
       "      <th>Acquisition Type</th>\n",
       "      <th>Acquisition Method</th>\n",
       "      <th>Department Name</th>\n",
       "      <th>Supplier Code</th>\n",
       "      <th>...</th>\n",
       "      <th>Normalized UNSPSC</th>\n",
       "      <th>Commodity Title</th>\n",
       "      <th>Class</th>\n",
       "      <th>Class Title</th>\n",
       "      <th>Family</th>\n",
       "      <th>Family Title</th>\n",
       "      <th>Segment</th>\n",
       "      <th>Segment Title</th>\n",
       "      <th>Location</th>\n",
       "      <th>Acquisition Value</th>\n",
       "    </tr>\n",
       "  </thead>\n",
       "  <tbody>\n",
       "    <tr>\n",
       "      <th>0</th>\n",
       "      <td>09/05/2012</td>\n",
       "      <td>08/31/2012</td>\n",
       "      <td>2012-2013</td>\n",
       "      <td>NaN</td>\n",
       "      <td>4500149558</td>\n",
       "      <td>NaN</td>\n",
       "      <td>NON-IT Goods</td>\n",
       "      <td>Formal Competitive</td>\n",
       "      <td>Corrections and Rehabilitation, Department of</td>\n",
       "      <td>48199.0</td>\n",
       "      <td>...</td>\n",
       "      <td>50405625.0</td>\n",
       "      <td>Jalapeno peppers</td>\n",
       "      <td>50405600.0</td>\n",
       "      <td>Peppers</td>\n",
       "      <td>50400000.0</td>\n",
       "      <td>Fresh vegetables</td>\n",
       "      <td>50000000.0</td>\n",
       "      <td>Food Beverage and Tobacco Products</td>\n",
       "      <td>93706\\n(36.675079, -119.865393)</td>\n",
       "      <td>0</td>\n",
       "    </tr>\n",
       "    <tr>\n",
       "      <th>1</th>\n",
       "      <td>10/18/2012</td>\n",
       "      <td>10/18/2012</td>\n",
       "      <td>2012-2013</td>\n",
       "      <td>NaN</td>\n",
       "      <td>4500156192</td>\n",
       "      <td>NaN</td>\n",
       "      <td>NON-IT Goods</td>\n",
       "      <td>Informal Competitive</td>\n",
       "      <td>Corrections and Rehabilitation, Department of</td>\n",
       "      <td>1327540.0</td>\n",
       "      <td>...</td>\n",
       "      <td>50301541.0</td>\n",
       "      <td>Ida red apples</td>\n",
       "      <td>50301500.0</td>\n",
       "      <td>Apples</td>\n",
       "      <td>50300000.0</td>\n",
       "      <td>Fresh fruits</td>\n",
       "      <td>50000000.0</td>\n",
       "      <td>Food Beverage and Tobacco Products</td>\n",
       "      <td>91360\\n(34.210392, -118.874313)</td>\n",
       "      <td>0</td>\n",
       "    </tr>\n",
       "    <tr>\n",
       "      <th>2</th>\n",
       "      <td>10/17/2012</td>\n",
       "      <td>10/17/2012</td>\n",
       "      <td>2012-2013</td>\n",
       "      <td>NaN</td>\n",
       "      <td>4500156124</td>\n",
       "      <td>NaN</td>\n",
       "      <td>NON-IT Goods</td>\n",
       "      <td>Fair and Reasonable</td>\n",
       "      <td>Correctional Health Care Services</td>\n",
       "      <td>45803.0</td>\n",
       "      <td>...</td>\n",
       "      <td>55101506.0</td>\n",
       "      <td>Magazines</td>\n",
       "      <td>55101500.0</td>\n",
       "      <td>Printed publications</td>\n",
       "      <td>55100000.0</td>\n",
       "      <td>Printed media</td>\n",
       "      <td>55000000.0</td>\n",
       "      <td>Published Products</td>\n",
       "      <td>95827\\n(38.563097, -121.328511)</td>\n",
       "      <td>0</td>\n",
       "    </tr>\n",
       "    <tr>\n",
       "      <th>3</th>\n",
       "      <td>10/30/2012</td>\n",
       "      <td>10/24/2012</td>\n",
       "      <td>2012-2013</td>\n",
       "      <td>NaN</td>\n",
       "      <td>S2556056</td>\n",
       "      <td>NaN</td>\n",
       "      <td>NON-IT Goods</td>\n",
       "      <td>Informal Competitive</td>\n",
       "      <td>Parks &amp; Recreation, Department of</td>\n",
       "      <td>1746707.0</td>\n",
       "      <td>...</td>\n",
       "      <td>10121505.0</td>\n",
       "      <td>Hay</td>\n",
       "      <td>10121500.0</td>\n",
       "      <td>Livestock feed</td>\n",
       "      <td>10120000.0</td>\n",
       "      <td>Animal feed</td>\n",
       "      <td>10000000.0</td>\n",
       "      <td>Live Plant and Animal Material and Accessories...</td>\n",
       "      <td>NaN</td>\n",
       "      <td>0</td>\n",
       "    </tr>\n",
       "    <tr>\n",
       "      <th>4</th>\n",
       "      <td>11/14/2012</td>\n",
       "      <td>11/14/2012</td>\n",
       "      <td>2012-2013</td>\n",
       "      <td>NaN</td>\n",
       "      <td>4500159228</td>\n",
       "      <td>NaN</td>\n",
       "      <td>NON-IT Goods</td>\n",
       "      <td>Informal Competitive</td>\n",
       "      <td>Corrections and Rehabilitation, Department of</td>\n",
       "      <td>1065902.0</td>\n",
       "      <td>...</td>\n",
       "      <td>50201706.0</td>\n",
       "      <td>Coffee</td>\n",
       "      <td>50201700.0</td>\n",
       "      <td>Coffee and tea</td>\n",
       "      <td>50200000.0</td>\n",
       "      <td>Beverages</td>\n",
       "      <td>50000000.0</td>\n",
       "      <td>Food Beverage and Tobacco Products</td>\n",
       "      <td>95696\\n(38.43, -122.02)</td>\n",
       "      <td>0</td>\n",
       "    </tr>\n",
       "  </tbody>\n",
       "</table>\n",
       "<p>5 rows × 30 columns</p>\n",
       "</div>"
      ],
      "text/plain": [
       "  Creation Date Purchase Date Fiscal Year LPA Number Purchase Order Number  \\\n",
       "0    09/05/2012    08/31/2012   2012-2013        NaN            4500149558   \n",
       "1    10/18/2012    10/18/2012   2012-2013        NaN            4500156192   \n",
       "2    10/17/2012    10/17/2012   2012-2013        NaN            4500156124   \n",
       "3    10/30/2012    10/24/2012   2012-2013        NaN              S2556056   \n",
       "4    11/14/2012    11/14/2012   2012-2013        NaN            4500159228   \n",
       "\n",
       "   Requisition Number Acquisition Type    Acquisition Method  \\\n",
       "0                 NaN     NON-IT Goods    Formal Competitive   \n",
       "1                 NaN     NON-IT Goods  Informal Competitive   \n",
       "2                 NaN     NON-IT Goods   Fair and Reasonable   \n",
       "3                 NaN     NON-IT Goods  Informal Competitive   \n",
       "4                 NaN     NON-IT Goods  Informal Competitive   \n",
       "\n",
       "                                 Department Name  Supplier Code  ...  \\\n",
       "0  Corrections and Rehabilitation, Department of        48199.0  ...   \n",
       "1  Corrections and Rehabilitation, Department of      1327540.0  ...   \n",
       "2              Correctional Health Care Services        45803.0  ...   \n",
       "3              Parks & Recreation, Department of      1746707.0  ...   \n",
       "4  Corrections and Rehabilitation, Department of      1065902.0  ...   \n",
       "\n",
       "  Normalized UNSPSC   Commodity Title       Class           Class Title  \\\n",
       "0        50405625.0  Jalapeno peppers  50405600.0               Peppers   \n",
       "1        50301541.0    Ida red apples  50301500.0                Apples   \n",
       "2        55101506.0         Magazines  55101500.0  Printed publications   \n",
       "3        10121505.0               Hay  10121500.0        Livestock feed   \n",
       "4        50201706.0            Coffee  50201700.0        Coffee and tea   \n",
       "\n",
       "       Family      Family Title     Segment  \\\n",
       "0  50400000.0  Fresh vegetables  50000000.0   \n",
       "1  50300000.0      Fresh fruits  50000000.0   \n",
       "2  55100000.0     Printed media  55000000.0   \n",
       "3  10120000.0       Animal feed  10000000.0   \n",
       "4  50200000.0         Beverages  50000000.0   \n",
       "\n",
       "                                       Segment Title  \\\n",
       "0                 Food Beverage and Tobacco Products   \n",
       "1                 Food Beverage and Tobacco Products   \n",
       "2                                 Published Products   \n",
       "3  Live Plant and Animal Material and Accessories...   \n",
       "4                 Food Beverage and Tobacco Products   \n",
       "\n",
       "                          Location Acquisition Value  \n",
       "0  93706\\n(36.675079, -119.865393)                 0  \n",
       "1  91360\\n(34.210392, -118.874313)                 0  \n",
       "2  95827\\n(38.563097, -121.328511)                 0  \n",
       "3                              NaN                 0  \n",
       "4          95696\\n(38.43, -122.02)                 0  \n",
       "\n",
       "[5 rows x 30 columns]"
      ]
     },
     "execution_count": 40,
     "metadata": {},
     "output_type": "execute_result"
    }
   ],
   "source": [
    "# Create new column for mapping 'Acquisition Type\n",
    "df1['Acquisition Value'] = df1['Acquisition Type'].replace(category_mapper)\n",
    "df1.head()"
   ]
  },
  {
   "cell_type": "code",
   "execution_count": 41,
   "metadata": {},
   "outputs": [
    {
     "data": {
      "text/plain": [
       "698"
      ]
     },
     "execution_count": 41,
     "metadata": {},
     "output_type": "execute_result"
    }
   ],
   "source": [
    "# Now using mapping column query is possible\n",
    "purchases = df1.query(\"`Acquisition Value` == 2 and `Total Price` > 50000\")\n",
    "# Print length of array\n",
    "len(purchases.index)"
   ]
  },
  {
   "cell_type": "code",
   "execution_count": 42,
   "metadata": {},
   "outputs": [
    {
     "data": {
      "text/plain": [
       "array(['IT Goods', 'IT Telecommunications', 'IT Services'], dtype=object)"
      ]
     },
     "execution_count": 42,
     "metadata": {},
     "output_type": "execute_result"
    }
   ],
   "source": [
    "# Extra Task\n",
    "# How many of the purchases have anything to do with IT?\n",
    "# (IT Goods, IT Services, IT Telecommunications)\n",
    "it_purchases = df1.query(\"`Acquisition Value`.between(2, 4)\")\n",
    "# Check if query is succesfull\n",
    "it_purchases['Acquisition Type'].unique()"
   ]
  },
  {
   "cell_type": "code",
   "execution_count": 43,
   "metadata": {},
   "outputs": [
    {
     "data": {
      "text/plain": [
       "9526"
      ]
     },
     "execution_count": 43,
     "metadata": {},
     "output_type": "execute_result"
    }
   ],
   "source": [
    "# Print row count of it_purchases\n",
    "len(it_purchases.index)"
   ]
  },
  {
   "cell_type": "markdown",
   "metadata": {},
   "source": [
    "<ul>\n",
    "<li><b>Other extra tasks for extra points</b></li>\n",
    "<ul>\n",
    "<li>Create a new DataFrame, where you have filtered out purchases that have a Total Price of 0 or less</li>\n",
    "<li>For this DataFrame, use groupby() –function twice to group the purchases data by Acquisition Type, and then calculating the result first by sum() and then by mean()</li>\n",
    "<li>Which two acquisition types have the largest sums and means after grouping the data?</li>\n",
    "</ul>\n",
    "</ul>"
   ]
  },
  {
   "attachments": {},
   "cell_type": "markdown",
   "metadata": {},
   "source": [
    "<h4><b>3. Download the data_salaries_india.csv from Moodle, and consider the following questions of the data. Use any means in pandas (or even NumPy) you wish to explain your answers.</b></h4>\n"
   ]
  },
  {
   "attachments": {},
   "cell_type": "markdown",
   "metadata": {},
   "source": [
    "<ul>\n",
    "<li>Before we can do anything with the salaries, we have to convert them into something more usable</li>\n",
    "<ul>\n",
    "<li>Note: the salaries can be yearly, monthly or hourly salaries</li>\n",
    "<ul>\n",
    "<li>We don't also need the Indian rupee –sign (₹)</li>\n",
    "</ul>\n",
    "<li>You can use the template in Moodle to help you out with this (Salary filtering, pandas exercise 3)</li>\n",
    "</ul>\n",
    "</ul>"
   ]
  },
  {
   "cell_type": "code",
   "execution_count": 44,
   "metadata": {},
   "outputs": [
    {
     "data": {
      "text/html": [
       "<div>\n",
       "<style scoped>\n",
       "    .dataframe tbody tr th:only-of-type {\n",
       "        vertical-align: middle;\n",
       "    }\n",
       "\n",
       "    .dataframe tbody tr th {\n",
       "        vertical-align: top;\n",
       "    }\n",
       "\n",
       "    .dataframe thead th {\n",
       "        text-align: right;\n",
       "    }\n",
       "</style>\n",
       "<table border=\"1\" class=\"dataframe\">\n",
       "  <thead>\n",
       "    <tr style=\"text-align: right;\">\n",
       "      <th></th>\n",
       "      <th>Company Name</th>\n",
       "      <th>Job Title</th>\n",
       "      <th>Role</th>\n",
       "      <th>Salaries Reported</th>\n",
       "      <th>Location</th>\n",
       "      <th>Salary</th>\n",
       "    </tr>\n",
       "  </thead>\n",
       "  <tbody>\n",
       "    <tr>\n",
       "      <th>0</th>\n",
       "      <td>Axis Bank</td>\n",
       "      <td>Data Scientist</td>\n",
       "      <td>Specialist</td>\n",
       "      <td>3</td>\n",
       "      <td>Bangalore</td>\n",
       "      <td>₹11,71,687/yr</td>\n",
       "    </tr>\n",
       "    <tr>\n",
       "      <th>1</th>\n",
       "      <td>Globex Digital Solutions</td>\n",
       "      <td>Machine Learning Engineer</td>\n",
       "      <td>Manager</td>\n",
       "      <td>1</td>\n",
       "      <td>Hyderabad</td>\n",
       "      <td>₹32,57,305/yr</td>\n",
       "    </tr>\n",
       "    <tr>\n",
       "      <th>2</th>\n",
       "      <td>Tempworks Services</td>\n",
       "      <td>Data Scientist</td>\n",
       "      <td>Manager</td>\n",
       "      <td>1</td>\n",
       "      <td>Bangalore</td>\n",
       "      <td>₹58,11,205/yr</td>\n",
       "    </tr>\n",
       "    <tr>\n",
       "      <th>3</th>\n",
       "      <td>BlueOptima</td>\n",
       "      <td>Machine Learning Engineer</td>\n",
       "      <td>Specialist</td>\n",
       "      <td>2</td>\n",
       "      <td>Bangalore</td>\n",
       "      <td>₹11,80,965/yr</td>\n",
       "    </tr>\n",
       "    <tr>\n",
       "      <th>4</th>\n",
       "      <td>Dell Technologies</td>\n",
       "      <td>Data Analyst</td>\n",
       "      <td>Specialist</td>\n",
       "      <td>5</td>\n",
       "      <td>New Delhi</td>\n",
       "      <td>₹6,02,930/yr</td>\n",
       "    </tr>\n",
       "  </tbody>\n",
       "</table>\n",
       "</div>"
      ],
      "text/plain": [
       "               Company Name                  Job Title        Role  \\\n",
       "0                 Axis Bank             Data Scientist  Specialist   \n",
       "1  Globex Digital Solutions  Machine Learning Engineer     Manager   \n",
       "2        Tempworks Services             Data Scientist     Manager   \n",
       "3                BlueOptima  Machine Learning Engineer  Specialist   \n",
       "4         Dell Technologies               Data Analyst  Specialist   \n",
       "\n",
       "   Salaries Reported   Location         Salary  \n",
       "0                  3  Bangalore  ₹11,71,687/yr  \n",
       "1                  1  Hyderabad  ₹32,57,305/yr  \n",
       "2                  1  Bangalore  ₹58,11,205/yr  \n",
       "3                  2  Bangalore  ₹11,80,965/yr  \n",
       "4                  5  New Delhi   ₹6,02,930/yr  "
      ]
     },
     "execution_count": 44,
     "metadata": {},
     "output_type": "execute_result"
    }
   ],
   "source": [
    "# Read csv file\n",
    "df2 = pd.read_csv('data_salaries_india.csv')\n",
    "df2.head()"
   ]
  },
  {
   "cell_type": "code",
   "execution_count": 45,
   "metadata": {},
   "outputs": [],
   "source": [
    "# Helper function converting salary to yearly integers\n",
    "def salary_converter(row):\n",
    "    # Last two characters determine salary span (yr, mo, hr)\n",
    "    span = row['Salary'][-2]\n",
    "    # Remove commas and combine numbers\n",
    "    number = int(''.join(filter(str.isdigit, row['Salary'])))\n",
    "\n",
    "    # Find out if salary is other than yearly\n",
    "    if span == \"hr\":\n",
    "        # Average work hours per year is 2117.01 in India\n",
    "        number = int(number * 2117.01)\n",
    "    elif span == \"mo\":\n",
    "        # Multiply by 12 months\n",
    "        number = int(number * 12)\n",
    "\n",
    "    # Return yearly salary in integer format\n",
    "    return number\n"
   ]
  },
  {
   "cell_type": "code",
   "execution_count": 46,
   "metadata": {},
   "outputs": [],
   "source": [
    "# convert the salaries as needed\n",
    "df2['Yearly Salary'] = df2.apply(salary_converter, axis=1)"
   ]
  },
  {
   "attachments": {},
   "cell_type": "markdown",
   "metadata": {},
   "source": [
    "<ul>\n",
    "<li>What are the most common values in different fields (Job Titles, Companies, Location)? <b>Based on the distribution, is the data balanced or not?</b></li>\n",
    "<ul>\n",
    "<li><b>Extra task:</b> there seem to be some Job Titles that are almost the same, like \"Machine Learning Data Associate\" and \"Machine Learning Associate\", combine these into something common</li>\n",
    "</ul>\n",
    "</ul>"
   ]
  },
  {
   "cell_type": "code",
   "execution_count": 47,
   "metadata": {},
   "outputs": [
    {
     "data": {
      "text/html": [
       "<div>\n",
       "<style scoped>\n",
       "    .dataframe tbody tr th:only-of-type {\n",
       "        vertical-align: middle;\n",
       "    }\n",
       "\n",
       "    .dataframe tbody tr th {\n",
       "        vertical-align: top;\n",
       "    }\n",
       "\n",
       "    .dataframe thead th {\n",
       "        text-align: right;\n",
       "    }\n",
       "</style>\n",
       "<table border=\"1\" class=\"dataframe\">\n",
       "  <thead>\n",
       "    <tr style=\"text-align: right;\">\n",
       "      <th></th>\n",
       "      <th>Job Title</th>\n",
       "      <th>Company Name</th>\n",
       "      <th>Location</th>\n",
       "    </tr>\n",
       "  </thead>\n",
       "  <tbody>\n",
       "    <tr>\n",
       "      <th>count</th>\n",
       "      <td>5127</td>\n",
       "      <td>5123</td>\n",
       "      <td>5127</td>\n",
       "    </tr>\n",
       "    <tr>\n",
       "      <th>unique</th>\n",
       "      <td>28</td>\n",
       "      <td>2523</td>\n",
       "      <td>5</td>\n",
       "    </tr>\n",
       "    <tr>\n",
       "      <th>top</th>\n",
       "      <td>Data Scientist</td>\n",
       "      <td>Tata Consultancy Services</td>\n",
       "      <td>Bangalore</td>\n",
       "    </tr>\n",
       "    <tr>\n",
       "      <th>freq</th>\n",
       "      <td>2165</td>\n",
       "      <td>51</td>\n",
       "      <td>1858</td>\n",
       "    </tr>\n",
       "  </tbody>\n",
       "</table>\n",
       "</div>"
      ],
      "text/plain": [
       "             Job Title               Company Name   Location\n",
       "count             5127                       5123       5127\n",
       "unique              28                       2523          5\n",
       "top     Data Scientist  Tata Consultancy Services  Bangalore\n",
       "freq              2165                         51       1858"
      ]
     },
     "execution_count": 47,
     "metadata": {},
     "output_type": "execute_result"
    }
   ],
   "source": [
    "# produce the code that shows the most common values in different fields\n",
    "# and answer the question about the distribution\n",
    "df2[['Job Title', 'Company Name', 'Location']].describe()"
   ]
  },
  {
   "cell_type": "code",
   "execution_count": 48,
   "metadata": {},
   "outputs": [
    {
     "data": {
      "text/html": [
       "<div>\n",
       "<style scoped>\n",
       "    .dataframe tbody tr th:only-of-type {\n",
       "        vertical-align: middle;\n",
       "    }\n",
       "\n",
       "    .dataframe tbody tr th {\n",
       "        vertical-align: top;\n",
       "    }\n",
       "\n",
       "    .dataframe thead th {\n",
       "        text-align: right;\n",
       "    }\n",
       "</style>\n",
       "<table border=\"1\" class=\"dataframe\">\n",
       "  <thead>\n",
       "    <tr style=\"text-align: right;\">\n",
       "      <th></th>\n",
       "      <th>Salaries Reported</th>\n",
       "      <th>Yearly Salary</th>\n",
       "    </tr>\n",
       "  </thead>\n",
       "  <tbody>\n",
       "    <tr>\n",
       "      <th>count</th>\n",
       "      <td>5127</td>\n",
       "      <td>5127</td>\n",
       "    </tr>\n",
       "    <tr>\n",
       "      <th>mean</th>\n",
       "      <td>2</td>\n",
       "      <td>1232570</td>\n",
       "    </tr>\n",
       "    <tr>\n",
       "      <th>std</th>\n",
       "      <td>4</td>\n",
       "      <td>1816491</td>\n",
       "    </tr>\n",
       "    <tr>\n",
       "      <th>min</th>\n",
       "      <td>1</td>\n",
       "      <td>10814</td>\n",
       "    </tr>\n",
       "    <tr>\n",
       "      <th>25%</th>\n",
       "      <td>1</td>\n",
       "      <td>462977</td>\n",
       "    </tr>\n",
       "    <tr>\n",
       "      <th>50%</th>\n",
       "      <td>1</td>\n",
       "      <td>823971</td>\n",
       "    </tr>\n",
       "    <tr>\n",
       "      <th>75%</th>\n",
       "      <td>2</td>\n",
       "      <td>1435941</td>\n",
       "    </tr>\n",
       "    <tr>\n",
       "      <th>max</th>\n",
       "      <td>105</td>\n",
       "      <td>74445327</td>\n",
       "    </tr>\n",
       "  </tbody>\n",
       "</table>\n",
       "</div>"
      ],
      "text/plain": [
       "       Salaries Reported  Yearly Salary\n",
       "count               5127           5127\n",
       "mean                   2        1232570\n",
       "std                    4        1816491\n",
       "min                    1          10814\n",
       "25%                    1         462977\n",
       "50%                    1         823971\n",
       "75%                    2        1435941\n",
       "max                  105       74445327"
      ]
     },
     "execution_count": 48,
     "metadata": {},
     "output_type": "execute_result"
    }
   ],
   "source": [
    "# Check common statistical features\n",
    "df2.describe().astype('int64')"
   ]
  },
  {
   "cell_type": "markdown",
   "metadata": {},
   "source": [
    "Looks like there is outliers because standard deviation is large compared to mean. Also minimum and maximum values are far from mean."
   ]
  },
  {
   "attachments": {},
   "cell_type": "markdown",
   "metadata": {},
   "source": [
    "<li>Are there any outliers in the data that might affect the averages negatively (certain salaries)? Manage the outliers as you best see fit (either remove them or leave them, based on your analysis) </li>"
   ]
  },
  {
   "cell_type": "code",
   "execution_count": 49,
   "metadata": {},
   "outputs": [],
   "source": [
    "# Let's do some cleaning\n",
    "from scipy import stats"
   ]
  },
  {
   "cell_type": "code",
   "execution_count": 50,
   "metadata": {},
   "outputs": [],
   "source": [
    "# Take only yearly salary for inspection\n",
    "yearly = df2[['Yearly Salary']]"
   ]
  },
  {
   "cell_type": "code",
   "execution_count": 51,
   "metadata": {},
   "outputs": [
    {
     "data": {
      "text/html": [
       "<div>\n",
       "<style scoped>\n",
       "    .dataframe tbody tr th:only-of-type {\n",
       "        vertical-align: middle;\n",
       "    }\n",
       "\n",
       "    .dataframe tbody tr th {\n",
       "        vertical-align: top;\n",
       "    }\n",
       "\n",
       "    .dataframe thead th {\n",
       "        text-align: right;\n",
       "    }\n",
       "</style>\n",
       "<table border=\"1\" class=\"dataframe\">\n",
       "  <thead>\n",
       "    <tr style=\"text-align: right;\">\n",
       "      <th></th>\n",
       "      <th>Yearly Salary</th>\n",
       "    </tr>\n",
       "  </thead>\n",
       "  <tbody>\n",
       "    <tr>\n",
       "      <th>count</th>\n",
       "      <td>5068</td>\n",
       "    </tr>\n",
       "    <tr>\n",
       "      <th>mean</th>\n",
       "      <td>1110742</td>\n",
       "    </tr>\n",
       "    <tr>\n",
       "      <th>std</th>\n",
       "      <td>1003757</td>\n",
       "    </tr>\n",
       "    <tr>\n",
       "      <th>min</th>\n",
       "      <td>10814</td>\n",
       "    </tr>\n",
       "    <tr>\n",
       "      <th>25%</th>\n",
       "      <td>458143</td>\n",
       "    </tr>\n",
       "    <tr>\n",
       "      <th>50%</th>\n",
       "      <td>811676</td>\n",
       "    </tr>\n",
       "    <tr>\n",
       "      <th>75%</th>\n",
       "      <td>1397992</td>\n",
       "    </tr>\n",
       "    <tr>\n",
       "      <th>max</th>\n",
       "      <td>6647045</td>\n",
       "    </tr>\n",
       "  </tbody>\n",
       "</table>\n",
       "</div>"
      ],
      "text/plain": [
       "       Yearly Salary\n",
       "count           5068\n",
       "mean         1110742\n",
       "std          1003757\n",
       "min            10814\n",
       "25%           458143\n",
       "50%           811676\n",
       "75%          1397992\n",
       "max          6647045"
      ]
     },
     "execution_count": 51,
     "metadata": {},
     "output_type": "execute_result"
    }
   ],
   "source": [
    "# Apply zscore and remove all values outside value 3 for standard deviation\n",
    "yearly = yearly[(np.abs(stats.zscore(yearly)) < 3).all(axis=1)]\n",
    "# Check what we got\n",
    "yearly.describe().astype('int64')"
   ]
  },
  {
   "cell_type": "markdown",
   "metadata": {},
   "source": [
    "Now with outliers removed, salary data is much cleaner because mean and standard deviation are closer to each other. Looks like large salary values were more common than smaller ones. So we can remove salaries larger than 3349478 from orginal data."
   ]
  },
  {
   "cell_type": "code",
   "execution_count": 52,
   "metadata": {},
   "outputs": [
    {
     "data": {
      "text/html": [
       "<div>\n",
       "<style scoped>\n",
       "    .dataframe tbody tr th:only-of-type {\n",
       "        vertical-align: middle;\n",
       "    }\n",
       "\n",
       "    .dataframe tbody tr th {\n",
       "        vertical-align: top;\n",
       "    }\n",
       "\n",
       "    .dataframe thead th {\n",
       "        text-align: right;\n",
       "    }\n",
       "</style>\n",
       "<table border=\"1\" class=\"dataframe\">\n",
       "  <thead>\n",
       "    <tr style=\"text-align: right;\">\n",
       "      <th></th>\n",
       "      <th>Company Name</th>\n",
       "      <th>Job Title</th>\n",
       "      <th>Role</th>\n",
       "      <th>Salaries Reported</th>\n",
       "      <th>Location</th>\n",
       "      <th>Yearly Salary</th>\n",
       "    </tr>\n",
       "  </thead>\n",
       "  <tbody>\n",
       "    <tr>\n",
       "      <th>0</th>\n",
       "      <td>Axis Bank</td>\n",
       "      <td>Data Scientist</td>\n",
       "      <td>Specialist</td>\n",
       "      <td>3</td>\n",
       "      <td>Bangalore</td>\n",
       "      <td>1171687</td>\n",
       "    </tr>\n",
       "    <tr>\n",
       "      <th>1</th>\n",
       "      <td>Globex Digital Solutions</td>\n",
       "      <td>Machine Learning Engineer</td>\n",
       "      <td>Manager</td>\n",
       "      <td>1</td>\n",
       "      <td>Hyderabad</td>\n",
       "      <td>3257305</td>\n",
       "    </tr>\n",
       "    <tr>\n",
       "      <th>3</th>\n",
       "      <td>BlueOptima</td>\n",
       "      <td>Machine Learning Engineer</td>\n",
       "      <td>Specialist</td>\n",
       "      <td>2</td>\n",
       "      <td>Bangalore</td>\n",
       "      <td>1180965</td>\n",
       "    </tr>\n",
       "    <tr>\n",
       "      <th>4</th>\n",
       "      <td>Dell Technologies</td>\n",
       "      <td>Data Analyst</td>\n",
       "      <td>Specialist</td>\n",
       "      <td>5</td>\n",
       "      <td>New Delhi</td>\n",
       "      <td>602930</td>\n",
       "    </tr>\n",
       "    <tr>\n",
       "      <th>5</th>\n",
       "      <td>Algo Engines</td>\n",
       "      <td>Data Engineer</td>\n",
       "      <td>Specialist</td>\n",
       "      <td>1</td>\n",
       "      <td>Mumbai</td>\n",
       "      <td>1200000</td>\n",
       "    </tr>\n",
       "  </tbody>\n",
       "</table>\n",
       "</div>"
      ],
      "text/plain": [
       "               Company Name                  Job Title        Role  \\\n",
       "0                 Axis Bank             Data Scientist  Specialist   \n",
       "1  Globex Digital Solutions  Machine Learning Engineer     Manager   \n",
       "3                BlueOptima  Machine Learning Engineer  Specialist   \n",
       "4         Dell Technologies               Data Analyst  Specialist   \n",
       "5              Algo Engines              Data Engineer  Specialist   \n",
       "\n",
       "   Salaries Reported   Location  Yearly Salary  \n",
       "0                  3  Bangalore        1171687  \n",
       "1                  1  Hyderabad        3257305  \n",
       "3                  2  Bangalore        1180965  \n",
       "4                  5  New Delhi         602930  \n",
       "5                  1     Mumbai        1200000  "
      ]
     },
     "execution_count": 52,
     "metadata": {},
     "output_type": "execute_result"
    }
   ],
   "source": [
    "# Remove max outliers based on analysis\n",
    "df2 = df2[df2['Yearly Salary'] < 3349479]\n",
    "# Drop also old salary column\n",
    "df2 = df2.drop('Salary', axis=1)\n",
    "df2.head()"
   ]
  },
  {
   "attachments": {},
   "cell_type": "markdown",
   "metadata": {},
   "source": [
    "<ul>\n",
    "<li>If we want to correlate upon categories (ordinal or binary), we need to use factorize(). <b>Factorize the Role-column, and add the new column to the DataFrame.</b></li>\n",
    "<ul>\n",
    "<li><b>Note:</b> using <b>factorize()</b> for nominal categories (Job Title, Location, Company Name) doesn't work well, because the numbers do not have any numeric magnitude. In other words, these categories don't measure anything, they just group data, so numerical comparison / correlation doesn't mean anything statistically.</li>\n",
    "</ul>\n",
    "</ul>"
   ]
  },
  {
   "cell_type": "code",
   "execution_count": 53,
   "metadata": {},
   "outputs": [
    {
     "data": {
      "text/plain": [
       "array(['Specialist', 'Manager'], dtype=object)"
      ]
     },
     "execution_count": 53,
     "metadata": {},
     "output_type": "execute_result"
    }
   ],
   "source": [
    "# Check Role column for unique values\n",
    "df2['Role'].unique()"
   ]
  },
  {
   "cell_type": "code",
   "execution_count": 54,
   "metadata": {},
   "outputs": [],
   "source": [
    "# Use factorize to assign number for each category\n",
    "role_values, role_names = pd.factorize(df2['Role'], sort=False)\n",
    "# Add assigned numbers to new column in df\n",
    "df2['Role Values'] = role_values"
   ]
  },
  {
   "cell_type": "code",
   "execution_count": 55,
   "metadata": {},
   "outputs": [
    {
     "data": {
      "text/html": [
       "<div>\n",
       "<style scoped>\n",
       "    .dataframe tbody tr th:only-of-type {\n",
       "        vertical-align: middle;\n",
       "    }\n",
       "\n",
       "    .dataframe tbody tr th {\n",
       "        vertical-align: top;\n",
       "    }\n",
       "\n",
       "    .dataframe thead th {\n",
       "        text-align: right;\n",
       "    }\n",
       "</style>\n",
       "<table border=\"1\" class=\"dataframe\">\n",
       "  <thead>\n",
       "    <tr style=\"text-align: right;\">\n",
       "      <th></th>\n",
       "      <th>Company Name</th>\n",
       "      <th>Job Title</th>\n",
       "      <th>Role</th>\n",
       "      <th>Salaries Reported</th>\n",
       "      <th>Location</th>\n",
       "      <th>Yearly Salary</th>\n",
       "      <th>Role Values</th>\n",
       "    </tr>\n",
       "  </thead>\n",
       "  <tbody>\n",
       "    <tr>\n",
       "      <th>0</th>\n",
       "      <td>Axis Bank</td>\n",
       "      <td>Data Scientist</td>\n",
       "      <td>Specialist</td>\n",
       "      <td>3</td>\n",
       "      <td>Bangalore</td>\n",
       "      <td>1171687</td>\n",
       "      <td>0</td>\n",
       "    </tr>\n",
       "    <tr>\n",
       "      <th>1</th>\n",
       "      <td>Globex Digital Solutions</td>\n",
       "      <td>Machine Learning Engineer</td>\n",
       "      <td>Manager</td>\n",
       "      <td>1</td>\n",
       "      <td>Hyderabad</td>\n",
       "      <td>3257305</td>\n",
       "      <td>1</td>\n",
       "    </tr>\n",
       "    <tr>\n",
       "      <th>3</th>\n",
       "      <td>BlueOptima</td>\n",
       "      <td>Machine Learning Engineer</td>\n",
       "      <td>Specialist</td>\n",
       "      <td>2</td>\n",
       "      <td>Bangalore</td>\n",
       "      <td>1180965</td>\n",
       "      <td>0</td>\n",
       "    </tr>\n",
       "    <tr>\n",
       "      <th>4</th>\n",
       "      <td>Dell Technologies</td>\n",
       "      <td>Data Analyst</td>\n",
       "      <td>Specialist</td>\n",
       "      <td>5</td>\n",
       "      <td>New Delhi</td>\n",
       "      <td>602930</td>\n",
       "      <td>0</td>\n",
       "    </tr>\n",
       "    <tr>\n",
       "      <th>5</th>\n",
       "      <td>Algo Engines</td>\n",
       "      <td>Data Engineer</td>\n",
       "      <td>Specialist</td>\n",
       "      <td>1</td>\n",
       "      <td>Mumbai</td>\n",
       "      <td>1200000</td>\n",
       "      <td>0</td>\n",
       "    </tr>\n",
       "  </tbody>\n",
       "</table>\n",
       "</div>"
      ],
      "text/plain": [
       "               Company Name                  Job Title        Role  \\\n",
       "0                 Axis Bank             Data Scientist  Specialist   \n",
       "1  Globex Digital Solutions  Machine Learning Engineer     Manager   \n",
       "3                BlueOptima  Machine Learning Engineer  Specialist   \n",
       "4         Dell Technologies               Data Analyst  Specialist   \n",
       "5              Algo Engines              Data Engineer  Specialist   \n",
       "\n",
       "   Salaries Reported   Location  Yearly Salary  Role Values  \n",
       "0                  3  Bangalore        1171687            0  \n",
       "1                  1  Hyderabad        3257305            1  \n",
       "3                  2  Bangalore        1180965            0  \n",
       "4                  5  New Delhi         602930            0  \n",
       "5                  1     Mumbai        1200000            0  "
      ]
     },
     "execution_count": 55,
     "metadata": {},
     "output_type": "execute_result"
    }
   ],
   "source": [
    "# Check data\n",
    "df2.head()"
   ]
  },
  {
   "cell_type": "code",
   "execution_count": 56,
   "metadata": {},
   "outputs": [],
   "source": [
    "# Remove old Role column\n",
    "df2 = df2.drop('Role', axis=1)"
   ]
  },
  {
   "cell_type": "code",
   "execution_count": 57,
   "metadata": {},
   "outputs": [
    {
     "data": {
      "text/html": [
       "<div>\n",
       "<style scoped>\n",
       "    .dataframe tbody tr th:only-of-type {\n",
       "        vertical-align: middle;\n",
       "    }\n",
       "\n",
       "    .dataframe tbody tr th {\n",
       "        vertical-align: top;\n",
       "    }\n",
       "\n",
       "    .dataframe thead th {\n",
       "        text-align: right;\n",
       "    }\n",
       "</style>\n",
       "<table border=\"1\" class=\"dataframe\">\n",
       "  <thead>\n",
       "    <tr style=\"text-align: right;\">\n",
       "      <th></th>\n",
       "      <th>Company Name</th>\n",
       "      <th>Job Title</th>\n",
       "      <th>Salaries Reported</th>\n",
       "      <th>Location</th>\n",
       "      <th>Yearly Salary</th>\n",
       "      <th>Role Values</th>\n",
       "    </tr>\n",
       "  </thead>\n",
       "  <tbody>\n",
       "    <tr>\n",
       "      <th>0</th>\n",
       "      <td>Axis Bank</td>\n",
       "      <td>Data Scientist</td>\n",
       "      <td>3</td>\n",
       "      <td>Bangalore</td>\n",
       "      <td>1171687</td>\n",
       "      <td>0</td>\n",
       "    </tr>\n",
       "    <tr>\n",
       "      <th>1</th>\n",
       "      <td>Globex Digital Solutions</td>\n",
       "      <td>Machine Learning Engineer</td>\n",
       "      <td>1</td>\n",
       "      <td>Hyderabad</td>\n",
       "      <td>3257305</td>\n",
       "      <td>1</td>\n",
       "    </tr>\n",
       "    <tr>\n",
       "      <th>3</th>\n",
       "      <td>BlueOptima</td>\n",
       "      <td>Machine Learning Engineer</td>\n",
       "      <td>2</td>\n",
       "      <td>Bangalore</td>\n",
       "      <td>1180965</td>\n",
       "      <td>0</td>\n",
       "    </tr>\n",
       "    <tr>\n",
       "      <th>4</th>\n",
       "      <td>Dell Technologies</td>\n",
       "      <td>Data Analyst</td>\n",
       "      <td>5</td>\n",
       "      <td>New Delhi</td>\n",
       "      <td>602930</td>\n",
       "      <td>0</td>\n",
       "    </tr>\n",
       "    <tr>\n",
       "      <th>5</th>\n",
       "      <td>Algo Engines</td>\n",
       "      <td>Data Engineer</td>\n",
       "      <td>1</td>\n",
       "      <td>Mumbai</td>\n",
       "      <td>1200000</td>\n",
       "      <td>0</td>\n",
       "    </tr>\n",
       "    <tr>\n",
       "      <th>...</th>\n",
       "      <td>...</td>\n",
       "      <td>...</td>\n",
       "      <td>...</td>\n",
       "      <td>...</td>\n",
       "      <td>...</td>\n",
       "      <td>...</td>\n",
       "    </tr>\n",
       "    <tr>\n",
       "      <th>5120</th>\n",
       "      <td>Mahindra</td>\n",
       "      <td>Data Analyst</td>\n",
       "      <td>1</td>\n",
       "      <td>Mumbai</td>\n",
       "      <td>1000000</td>\n",
       "      <td>0</td>\n",
       "    </tr>\n",
       "    <tr>\n",
       "      <th>5121</th>\n",
       "      <td>Boston Consulting Group</td>\n",
       "      <td>Data Scientist</td>\n",
       "      <td>1</td>\n",
       "      <td>Bangalore</td>\n",
       "      <td>872604</td>\n",
       "      <td>0</td>\n",
       "    </tr>\n",
       "    <tr>\n",
       "      <th>5122</th>\n",
       "      <td>Rejolut</td>\n",
       "      <td>Machine Learning Engineer</td>\n",
       "      <td>1</td>\n",
       "      <td>Mumbai</td>\n",
       "      <td>513690</td>\n",
       "      <td>0</td>\n",
       "    </tr>\n",
       "    <tr>\n",
       "      <th>5123</th>\n",
       "      <td>Bartleby Technologies</td>\n",
       "      <td>Machine Learning Engineer</td>\n",
       "      <td>1</td>\n",
       "      <td>Bangalore</td>\n",
       "      <td>1309535</td>\n",
       "      <td>0</td>\n",
       "    </tr>\n",
       "    <tr>\n",
       "      <th>5126</th>\n",
       "      <td>Unilever</td>\n",
       "      <td>Data Scientist</td>\n",
       "      <td>2</td>\n",
       "      <td>Bangalore</td>\n",
       "      <td>1705561</td>\n",
       "      <td>0</td>\n",
       "    </tr>\n",
       "  </tbody>\n",
       "</table>\n",
       "<p>4833 rows × 6 columns</p>\n",
       "</div>"
      ],
      "text/plain": [
       "                  Company Name                  Job Title  Salaries Reported  \\\n",
       "0                    Axis Bank             Data Scientist                  3   \n",
       "1     Globex Digital Solutions  Machine Learning Engineer                  1   \n",
       "3                   BlueOptima  Machine Learning Engineer                  2   \n",
       "4            Dell Technologies               Data Analyst                  5   \n",
       "5                 Algo Engines              Data Engineer                  1   \n",
       "...                        ...                        ...                ...   \n",
       "5120                  Mahindra               Data Analyst                  1   \n",
       "5121   Boston Consulting Group             Data Scientist                  1   \n",
       "5122                   Rejolut  Machine Learning Engineer                  1   \n",
       "5123     Bartleby Technologies  Machine Learning Engineer                  1   \n",
       "5126                  Unilever             Data Scientist                  2   \n",
       "\n",
       "       Location  Yearly Salary  Role Values  \n",
       "0     Bangalore        1171687            0  \n",
       "1     Hyderabad        3257305            1  \n",
       "3     Bangalore        1180965            0  \n",
       "4     New Delhi         602930            0  \n",
       "5        Mumbai        1200000            0  \n",
       "...         ...            ...          ...  \n",
       "5120     Mumbai        1000000            0  \n",
       "5121  Bangalore         872604            0  \n",
       "5122     Mumbai         513690            0  \n",
       "5123  Bangalore        1309535            0  \n",
       "5126  Bangalore        1705561            0  \n",
       "\n",
       "[4833 rows x 6 columns]"
      ]
     },
     "execution_count": 57,
     "metadata": {},
     "output_type": "execute_result"
    }
   ],
   "source": [
    "# Check again\n",
    "df2"
   ]
  },
  {
   "attachments": {},
   "cell_type": "markdown",
   "metadata": {},
   "source": [
    "<ul>\n",
    "<li><b>Finally, check out the correlations. Does anything correlate with anything? Can we make any assumptions?</b></li>\n",
    "<ul>\n",
    "<li>Tip: When correlating against binary variables, sometimes the Spearman correlation might be more sensitive, in pandas:</li>\n",
    "</ul>\n",
    "</ul>"
   ]
  },
  {
   "cell_type": "code",
   "execution_count": 58,
   "metadata": {},
   "outputs": [
    {
     "data": {
      "text/html": [
       "<div>\n",
       "<style scoped>\n",
       "    .dataframe tbody tr th:only-of-type {\n",
       "        vertical-align: middle;\n",
       "    }\n",
       "\n",
       "    .dataframe tbody tr th {\n",
       "        vertical-align: top;\n",
       "    }\n",
       "\n",
       "    .dataframe thead th {\n",
       "        text-align: right;\n",
       "    }\n",
       "</style>\n",
       "<table border=\"1\" class=\"dataframe\">\n",
       "  <thead>\n",
       "    <tr style=\"text-align: right;\">\n",
       "      <th></th>\n",
       "      <th>Salaries Reported</th>\n",
       "      <th>Yearly Salary</th>\n",
       "      <th>Role Values</th>\n",
       "    </tr>\n",
       "  </thead>\n",
       "  <tbody>\n",
       "    <tr>\n",
       "      <th>Salaries Reported</th>\n",
       "      <td>1.000000</td>\n",
       "      <td>-0.015307</td>\n",
       "      <td>-0.223184</td>\n",
       "    </tr>\n",
       "    <tr>\n",
       "      <th>Yearly Salary</th>\n",
       "      <td>-0.015307</td>\n",
       "      <td>1.000000</td>\n",
       "      <td>0.333731</td>\n",
       "    </tr>\n",
       "    <tr>\n",
       "      <th>Role Values</th>\n",
       "      <td>-0.223184</td>\n",
       "      <td>0.333731</td>\n",
       "      <td>1.000000</td>\n",
       "    </tr>\n",
       "  </tbody>\n",
       "</table>\n",
       "</div>"
      ],
      "text/plain": [
       "                   Salaries Reported  Yearly Salary  Role Values\n",
       "Salaries Reported           1.000000      -0.015307    -0.223184\n",
       "Yearly Salary              -0.015307       1.000000     0.333731\n",
       "Role Values                -0.223184       0.333731     1.000000"
      ]
     },
     "execution_count": 58,
     "metadata": {},
     "output_type": "execute_result"
    }
   ],
   "source": [
    "# Check correlations with Spearman\n",
    "df2.corr(numeric_only=True, method='spearman')"
   ]
  },
  {
   "cell_type": "code",
   "execution_count": 59,
   "metadata": {},
   "outputs": [
    {
     "data": {
      "text/html": [
       "<div>\n",
       "<style scoped>\n",
       "    .dataframe tbody tr th:only-of-type {\n",
       "        vertical-align: middle;\n",
       "    }\n",
       "\n",
       "    .dataframe tbody tr th {\n",
       "        vertical-align: top;\n",
       "    }\n",
       "\n",
       "    .dataframe thead th {\n",
       "        text-align: right;\n",
       "    }\n",
       "</style>\n",
       "<table border=\"1\" class=\"dataframe\">\n",
       "  <thead>\n",
       "    <tr style=\"text-align: right;\">\n",
       "      <th></th>\n",
       "      <th>Salaries Reported</th>\n",
       "      <th>Yearly Salary</th>\n",
       "      <th>Role Values</th>\n",
       "    </tr>\n",
       "  </thead>\n",
       "  <tbody>\n",
       "    <tr>\n",
       "      <th>Salaries Reported</th>\n",
       "      <td>1.000000</td>\n",
       "      <td>-0.052586</td>\n",
       "      <td>-0.09979</td>\n",
       "    </tr>\n",
       "    <tr>\n",
       "      <th>Yearly Salary</th>\n",
       "      <td>-0.052586</td>\n",
       "      <td>1.000000</td>\n",
       "      <td>0.39966</td>\n",
       "    </tr>\n",
       "    <tr>\n",
       "      <th>Role Values</th>\n",
       "      <td>-0.099790</td>\n",
       "      <td>0.399660</td>\n",
       "      <td>1.00000</td>\n",
       "    </tr>\n",
       "  </tbody>\n",
       "</table>\n",
       "</div>"
      ],
      "text/plain": [
       "                   Salaries Reported  Yearly Salary  Role Values\n",
       "Salaries Reported           1.000000      -0.052586     -0.09979\n",
       "Yearly Salary              -0.052586       1.000000      0.39966\n",
       "Role Values                -0.099790       0.399660      1.00000"
      ]
     },
     "execution_count": 59,
     "metadata": {},
     "output_type": "execute_result"
    }
   ],
   "source": [
    "# Check correlations with Pearson\n",
    "df2.corr(numeric_only=True, method='pearson')"
   ]
  },
  {
   "cell_type": "markdown",
   "metadata": {},
   "source": [
    "#### Looks like Yearly Salary and Role Values have some positive correlation."
   ]
  },
  {
   "attachments": {},
   "cell_type": "markdown",
   "metadata": {},
   "source": [
    "<b>Extra tasks for this dataset</b><br><br>\n",
    "\n",
    "<ul>\n",
    "<li>After all salaries have been converted to correct format by using the helper function (check Moodle), use quantiles and split the data into four different parts:</li>\n",
    "<ul>\n",
    "<li><span style=\"color: red;\">Top 25%</span><br>=> quantile(0.75)</li>\n",
    "<li><span style=\"color: red;\">Above average, values between top 25-50%</span><br>\n",
    "=> quantile(0.5)  - quantile(0.75)</li>\n",
    "<li><span style=\"color: red;\">Below average, values between top 50-75% </span><br>\n",
    "=> quantile(0.25) – quantile(0.5)\n",
    "</li>\n",
    "<li><span style=\"color: red;\">Bottom 25%</span><br>=> quantile(0.25)</li>\n",
    "<br>\n",
    "<li>What are the salary ranges for each quantile?</li><li>\n",
    "See examples in pandas-materials on how to use quantiles\n",
    "</li>\n",
    "</ul>\n",
    "</ul>\n",
    "<hr>\n",
    "\n",
    "<ul>\n",
    "<li>Did you get any ideas how this data could be improved? Do we need some particular new data or some other operations on the data? Should we filter something out based on some other column?<br><br><b>Provide arguments for your answers in code comments.</b><br><br> </li>\n",
    "<ul>\n",
    "<li>Note: There are many good possible answers here!</li>\n",
    "<li>Tip: How about replacing the \"Salaries Reported\" column with actual rows based on that number? Try doing this with the data!</li>\n",
    "<li>Remember: This data only represents data engineering salaries based on selected Indian cities.\n",
    "The world is a vast place :)\n",
    "</li>\n",
    "</ul>\n",
    "</ul>"
   ]
  },
  {
   "cell_type": "code",
   "execution_count": 60,
   "metadata": {},
   "outputs": [],
   "source": [
    "# code for the extra tasks"
   ]
  },
  {
   "attachments": {},
   "cell_type": "markdown",
   "metadata": {},
   "source": [
    "\n",
    "<h2><b>Advanced extra tasks for extra points (varying challenges, some require Googling):</b></h2>"
   ]
  },
  {
   "attachments": {},
   "cell_type": "markdown",
   "metadata": {},
   "source": [
    "<ul>\n",
    "<li><b>1. Data merge is a useful tool when you have multiple files of data that have the exact same structure.</b><br><br>Download the two csv-files from Moodle (videogames1.csv, videogames2.csv), and combine them into one Data Frame. Lastly, save the Data Frame into a new csv-file => combined.csv.</li>\n",
    "</ul>"
   ]
  },
  {
   "cell_type": "code",
   "execution_count": 66,
   "metadata": {},
   "outputs": [],
   "source": [
    "# code for the advanced extra task\n",
    "# Read csv files to data frames, use index column\n",
    "df_video1 = pd.read_csv('videogames1.csv', index_col=0)\n",
    "df_video2 = pd.read_csv('videogames2.csv', index_col=0)"
   ]
  },
  {
   "cell_type": "code",
   "execution_count": 67,
   "metadata": {},
   "outputs": [
    {
     "data": {
      "text/html": [
       "<div>\n",
       "<style scoped>\n",
       "    .dataframe tbody tr th:only-of-type {\n",
       "        vertical-align: middle;\n",
       "    }\n",
       "\n",
       "    .dataframe tbody tr th {\n",
       "        vertical-align: top;\n",
       "    }\n",
       "\n",
       "    .dataframe thead th {\n",
       "        text-align: right;\n",
       "    }\n",
       "</style>\n",
       "<table border=\"1\" class=\"dataframe\">\n",
       "  <thead>\n",
       "    <tr style=\"text-align: right;\">\n",
       "      <th></th>\n",
       "      <th>Name</th>\n",
       "      <th>Platform</th>\n",
       "      <th>Year_of_Release</th>\n",
       "      <th>Genre</th>\n",
       "      <th>Publisher</th>\n",
       "      <th>NA_Sales</th>\n",
       "      <th>EU_Sales</th>\n",
       "      <th>JP_Sales</th>\n",
       "      <th>Other_Sales</th>\n",
       "      <th>Global_Sales</th>\n",
       "      <th>Critic_Score</th>\n",
       "      <th>Critic_Count</th>\n",
       "      <th>User_Score</th>\n",
       "      <th>User_Count</th>\n",
       "      <th>Developer</th>\n",
       "      <th>Rating</th>\n",
       "    </tr>\n",
       "  </thead>\n",
       "  <tbody>\n",
       "    <tr>\n",
       "      <th>0</th>\n",
       "      <td>Wii Sports</td>\n",
       "      <td>Wii</td>\n",
       "      <td>2006.0</td>\n",
       "      <td>Sports</td>\n",
       "      <td>Nintendo</td>\n",
       "      <td>41.36</td>\n",
       "      <td>28.96</td>\n",
       "      <td>3.77</td>\n",
       "      <td>8.45</td>\n",
       "      <td>82.53</td>\n",
       "      <td>76.0</td>\n",
       "      <td>51.0</td>\n",
       "      <td>8.0</td>\n",
       "      <td>322.0</td>\n",
       "      <td>Nintendo</td>\n",
       "      <td>E</td>\n",
       "    </tr>\n",
       "    <tr>\n",
       "      <th>1</th>\n",
       "      <td>Super Mario Bros.</td>\n",
       "      <td>NES</td>\n",
       "      <td>1985.0</td>\n",
       "      <td>Platform</td>\n",
       "      <td>Nintendo</td>\n",
       "      <td>29.08</td>\n",
       "      <td>3.58</td>\n",
       "      <td>6.81</td>\n",
       "      <td>0.77</td>\n",
       "      <td>40.24</td>\n",
       "      <td>NaN</td>\n",
       "      <td>NaN</td>\n",
       "      <td>NaN</td>\n",
       "      <td>NaN</td>\n",
       "      <td>NaN</td>\n",
       "      <td>NaN</td>\n",
       "    </tr>\n",
       "    <tr>\n",
       "      <th>2</th>\n",
       "      <td>Mario Kart Wii</td>\n",
       "      <td>Wii</td>\n",
       "      <td>2008.0</td>\n",
       "      <td>Racing</td>\n",
       "      <td>Nintendo</td>\n",
       "      <td>15.68</td>\n",
       "      <td>12.76</td>\n",
       "      <td>3.79</td>\n",
       "      <td>3.29</td>\n",
       "      <td>35.52</td>\n",
       "      <td>82.0</td>\n",
       "      <td>73.0</td>\n",
       "      <td>8.3</td>\n",
       "      <td>709.0</td>\n",
       "      <td>Nintendo</td>\n",
       "      <td>E</td>\n",
       "    </tr>\n",
       "    <tr>\n",
       "      <th>3</th>\n",
       "      <td>Wii Sports Resort</td>\n",
       "      <td>Wii</td>\n",
       "      <td>2009.0</td>\n",
       "      <td>Sports</td>\n",
       "      <td>Nintendo</td>\n",
       "      <td>15.61</td>\n",
       "      <td>10.93</td>\n",
       "      <td>3.28</td>\n",
       "      <td>2.95</td>\n",
       "      <td>32.77</td>\n",
       "      <td>80.0</td>\n",
       "      <td>73.0</td>\n",
       "      <td>8.0</td>\n",
       "      <td>192.0</td>\n",
       "      <td>Nintendo</td>\n",
       "      <td>E</td>\n",
       "    </tr>\n",
       "    <tr>\n",
       "      <th>4</th>\n",
       "      <td>Pokemon Red/Pokemon Blue</td>\n",
       "      <td>GB</td>\n",
       "      <td>1996.0</td>\n",
       "      <td>Role-Playing</td>\n",
       "      <td>Nintendo</td>\n",
       "      <td>11.27</td>\n",
       "      <td>8.89</td>\n",
       "      <td>10.22</td>\n",
       "      <td>1.00</td>\n",
       "      <td>31.37</td>\n",
       "      <td>NaN</td>\n",
       "      <td>NaN</td>\n",
       "      <td>NaN</td>\n",
       "      <td>NaN</td>\n",
       "      <td>NaN</td>\n",
       "      <td>NaN</td>\n",
       "    </tr>\n",
       "    <tr>\n",
       "      <th>...</th>\n",
       "      <td>...</td>\n",
       "      <td>...</td>\n",
       "      <td>...</td>\n",
       "      <td>...</td>\n",
       "      <td>...</td>\n",
       "      <td>...</td>\n",
       "      <td>...</td>\n",
       "      <td>...</td>\n",
       "      <td>...</td>\n",
       "      <td>...</td>\n",
       "      <td>...</td>\n",
       "      <td>...</td>\n",
       "      <td>...</td>\n",
       "      <td>...</td>\n",
       "      <td>...</td>\n",
       "      <td>...</td>\n",
       "    </tr>\n",
       "    <tr>\n",
       "      <th>8359</th>\n",
       "      <td>Samurai Warriors: Sanada Maru</td>\n",
       "      <td>PS3</td>\n",
       "      <td>2016.0</td>\n",
       "      <td>Action</td>\n",
       "      <td>Tecmo Koei</td>\n",
       "      <td>0.00</td>\n",
       "      <td>0.00</td>\n",
       "      <td>0.01</td>\n",
       "      <td>0.00</td>\n",
       "      <td>0.01</td>\n",
       "      <td>NaN</td>\n",
       "      <td>NaN</td>\n",
       "      <td>NaN</td>\n",
       "      <td>NaN</td>\n",
       "      <td>NaN</td>\n",
       "      <td>NaN</td>\n",
       "    </tr>\n",
       "    <tr>\n",
       "      <th>8360</th>\n",
       "      <td>LMA Manager 2007</td>\n",
       "      <td>X360</td>\n",
       "      <td>2006.0</td>\n",
       "      <td>Sports</td>\n",
       "      <td>Codemasters</td>\n",
       "      <td>0.00</td>\n",
       "      <td>0.01</td>\n",
       "      <td>0.00</td>\n",
       "      <td>0.00</td>\n",
       "      <td>0.01</td>\n",
       "      <td>NaN</td>\n",
       "      <td>NaN</td>\n",
       "      <td>NaN</td>\n",
       "      <td>NaN</td>\n",
       "      <td>NaN</td>\n",
       "      <td>NaN</td>\n",
       "    </tr>\n",
       "    <tr>\n",
       "      <th>8361</th>\n",
       "      <td>Haitaka no Psychedelica</td>\n",
       "      <td>PSV</td>\n",
       "      <td>2016.0</td>\n",
       "      <td>Adventure</td>\n",
       "      <td>Idea Factory</td>\n",
       "      <td>0.00</td>\n",
       "      <td>0.00</td>\n",
       "      <td>0.01</td>\n",
       "      <td>0.00</td>\n",
       "      <td>0.01</td>\n",
       "      <td>NaN</td>\n",
       "      <td>NaN</td>\n",
       "      <td>NaN</td>\n",
       "      <td>NaN</td>\n",
       "      <td>NaN</td>\n",
       "      <td>NaN</td>\n",
       "    </tr>\n",
       "    <tr>\n",
       "      <th>8362</th>\n",
       "      <td>Spirits &amp; Spells</td>\n",
       "      <td>GBA</td>\n",
       "      <td>2003.0</td>\n",
       "      <td>Platform</td>\n",
       "      <td>Wanadoo</td>\n",
       "      <td>0.01</td>\n",
       "      <td>0.00</td>\n",
       "      <td>0.00</td>\n",
       "      <td>0.00</td>\n",
       "      <td>0.01</td>\n",
       "      <td>NaN</td>\n",
       "      <td>NaN</td>\n",
       "      <td>NaN</td>\n",
       "      <td>NaN</td>\n",
       "      <td>NaN</td>\n",
       "      <td>NaN</td>\n",
       "    </tr>\n",
       "    <tr>\n",
       "      <th>8363</th>\n",
       "      <td>Winning Post 8 2016</td>\n",
       "      <td>PSV</td>\n",
       "      <td>2016.0</td>\n",
       "      <td>Simulation</td>\n",
       "      <td>Tecmo Koei</td>\n",
       "      <td>0.00</td>\n",
       "      <td>0.00</td>\n",
       "      <td>0.01</td>\n",
       "      <td>0.00</td>\n",
       "      <td>0.01</td>\n",
       "      <td>NaN</td>\n",
       "      <td>NaN</td>\n",
       "      <td>NaN</td>\n",
       "      <td>NaN</td>\n",
       "      <td>NaN</td>\n",
       "      <td>NaN</td>\n",
       "    </tr>\n",
       "  </tbody>\n",
       "</table>\n",
       "<p>16719 rows × 16 columns</p>\n",
       "</div>"
      ],
      "text/plain": [
       "                               Name Platform  Year_of_Release         Genre  \\\n",
       "0                        Wii Sports      Wii           2006.0        Sports   \n",
       "1                 Super Mario Bros.      NES           1985.0      Platform   \n",
       "2                    Mario Kart Wii      Wii           2008.0        Racing   \n",
       "3                 Wii Sports Resort      Wii           2009.0        Sports   \n",
       "4          Pokemon Red/Pokemon Blue       GB           1996.0  Role-Playing   \n",
       "...                             ...      ...              ...           ...   \n",
       "8359  Samurai Warriors: Sanada Maru      PS3           2016.0        Action   \n",
       "8360               LMA Manager 2007     X360           2006.0        Sports   \n",
       "8361        Haitaka no Psychedelica      PSV           2016.0     Adventure   \n",
       "8362               Spirits & Spells      GBA           2003.0      Platform   \n",
       "8363            Winning Post 8 2016      PSV           2016.0    Simulation   \n",
       "\n",
       "         Publisher  NA_Sales  EU_Sales  JP_Sales  Other_Sales  Global_Sales  \\\n",
       "0         Nintendo     41.36     28.96      3.77         8.45         82.53   \n",
       "1         Nintendo     29.08      3.58      6.81         0.77         40.24   \n",
       "2         Nintendo     15.68     12.76      3.79         3.29         35.52   \n",
       "3         Nintendo     15.61     10.93      3.28         2.95         32.77   \n",
       "4         Nintendo     11.27      8.89     10.22         1.00         31.37   \n",
       "...            ...       ...       ...       ...          ...           ...   \n",
       "8359    Tecmo Koei      0.00      0.00      0.01         0.00          0.01   \n",
       "8360   Codemasters      0.00      0.01      0.00         0.00          0.01   \n",
       "8361  Idea Factory      0.00      0.00      0.01         0.00          0.01   \n",
       "8362       Wanadoo      0.01      0.00      0.00         0.00          0.01   \n",
       "8363    Tecmo Koei      0.00      0.00      0.01         0.00          0.01   \n",
       "\n",
       "      Critic_Score  Critic_Count  User_Score  User_Count Developer Rating  \n",
       "0             76.0          51.0         8.0       322.0  Nintendo      E  \n",
       "1              NaN           NaN         NaN         NaN       NaN    NaN  \n",
       "2             82.0          73.0         8.3       709.0  Nintendo      E  \n",
       "3             80.0          73.0         8.0       192.0  Nintendo      E  \n",
       "4              NaN           NaN         NaN         NaN       NaN    NaN  \n",
       "...            ...           ...         ...         ...       ...    ...  \n",
       "8359           NaN           NaN         NaN         NaN       NaN    NaN  \n",
       "8360           NaN           NaN         NaN         NaN       NaN    NaN  \n",
       "8361           NaN           NaN         NaN         NaN       NaN    NaN  \n",
       "8362           NaN           NaN         NaN         NaN       NaN    NaN  \n",
       "8363           NaN           NaN         NaN         NaN       NaN    NaN  \n",
       "\n",
       "[16719 rows x 16 columns]"
      ]
     },
     "execution_count": 67,
     "metadata": {},
     "output_type": "execute_result"
    }
   ],
   "source": [
    "# Combine two scv files into one\n",
    "df_combi = pd.concat([df_video1, df_video2])\n",
    "df_combi"
   ]
  },
  {
   "cell_type": "code",
   "execution_count": 68,
   "metadata": {},
   "outputs": [],
   "source": [
    "# Save concat file to scv\n",
    "df_combi.to_csv('combined.csv')"
   ]
  },
  {
   "attachments": {},
   "cell_type": "markdown",
   "metadata": {},
   "source": [
    "<ul>\n",
    "<li><b>2. Functions and lambdas allow us to extend the operations we wish to do to columns and rows in pandas. </b><br><br>For example, the built-in functions may not be enough in all cases. Use the data of exercise 1 (loans.csv), and create a new column called \"Income Group\" that holds a text value. <br><br>Create either a function or a lambda, that determines the True or False –value based on the Annual Income –column. Use the following table to create the values:</li>\n",
    "</ul>\n",
    "\n",
    "<img src=\"http://srv.plab.fi/~tuomasv/data_analytics_2023_images/exercise_set_2/es2_3.png\"/>"
   ]
  },
  {
   "attachments": {},
   "cell_type": "markdown",
   "metadata": {},
   "source": [
    "<li>After creating the function/lambda, you can use it by using pandas' .apply() –function.<br><br></li>\n",
    "\n",
    "<li>Finally, get the amount of rows grouped by each of the new Income Group –field values and print them out.</li> \n"
   ]
  },
  {
   "cell_type": "code",
   "execution_count": 64,
   "metadata": {},
   "outputs": [],
   "source": [
    "# code for the advanced extra task"
   ]
  },
  {
   "attachments": {},
   "cell_type": "markdown",
   "metadata": {},
   "source": [
    "<ul>\n",
    "<li><b>3.\tNormalization allows us to convert the values of numeric columns to be between 0 and 1.</b> This is helpful when two different numbers seem to follow the same trend, but have completely different value ranges. For example, gold and silver prices tend to follow similar patterns, but their market worth is quite different. By using normalization, we can compare these trends more easily. <br>\n",
    "\n",
    "Get historical prices of both gold and silver, and compare them without and with normalization. You can plot the prices by using df.plot() –function. Check the dataset in list in Moodle for some alternatives for gold and silver prices.\n",
    "</li>\n",
    "</ul>\n",
    "<img src=\"http://srv.plab.fi/~tuomasv/data_analytics_2023_images/exercise_set_2/es2_4.png\" />"
   ]
  },
  {
   "attachments": {},
   "cell_type": "markdown",
   "metadata": {},
   "source": [
    "<ul>\n",
    "<li><b>4.\tCreate an account to kaggle.com, and find any dataset that interests you. </b><br>\n",
    "\n",
    "There's a list of possibly interesting datasets listed in Moodle as well.\n",
    "<br><br>\n",
    "<b>Try to find interesting features in data, in particular:</b>\n",
    "</li>\n",
    "<ul>\n",
    "<li>Clean up data first (rows with too many NaN –values), values that are way too big or small, insignificant columns etc.)</li>\n",
    "<li>You can create new columns as well if it seems suitable! (either by using functions or other means)</li>\n",
    "<li>Interesting correlations (.corr() –function) and other interesting features in the data. Is something surprising in the data?</li>\n",
    "<li><b>Note: </b>There are many ways on how to approach this exercise.</li>\n",
    "</ul>\n",
    "</ul>\n",
    "\n",
    "<img src=\"http://srv.plab.fi/~tuomasv/data_analytics_2023_images/exercise_set_2/es2_5.png\" />"
   ]
  },
  {
   "cell_type": "code",
   "execution_count": 65,
   "metadata": {},
   "outputs": [],
   "source": [
    "# do any Kaggle.com -related extra tasks in their own Jupyter notebooks for easier coding"
   ]
  },
  {
   "cell_type": "markdown",
   "metadata": {},
   "source": []
  }
 ],
 "metadata": {
  "kernelspec": {
   "display_name": ".venv",
   "language": "python",
   "name": "python3"
  },
  "language_info": {
   "codemirror_mode": {
    "name": "ipython",
    "version": 3
   },
   "file_extension": ".py",
   "mimetype": "text/x-python",
   "name": "python",
   "nbconvert_exporter": "python",
   "pygments_lexer": "ipython3",
   "version": "3.10.11"
  },
  "orig_nbformat": 4,
  "vscode": {
   "interpreter": {
    "hash": "7b393597a1a01400f99fd0b0bd7e53e32f7c09a6c4e3f1d7dcfe73f5e3a50c61"
   }
  }
 },
 "nbformat": 4,
 "nbformat_minor": 2
}

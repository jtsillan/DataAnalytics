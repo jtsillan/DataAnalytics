{
 "cells": [
  {
   "cell_type": "markdown",
   "metadata": {},
   "source": [
    "<h3>Timestamps / datetimes into separate columns</h3>"
   ]
  },
  {
   "cell_type": "code",
   "execution_count": 1,
   "metadata": {},
   "outputs": [],
   "source": [
    "import numpy as np\n",
    "import pandas as pd\n",
    "\n",
    "from numpy.random import randint\n",
    "\n",
    "np.random.seed(321)\n",
    "\n",
    "commpanies = [\"Jolly Good Toys Ltd\",\n",
    "              \"Pristine Machines Inc\",\n",
    "              \"Piggy Bank Corporation\",\n",
    "              \"Cars & Gears Foundation\"]\n",
    "\n",
    "areas = [\"Europe\", \"North_America\", \"South_America\", \"Asia\", \"Africa\", \"Other\"]\n",
    "\n",
    "sales = randint(99999, size=(4, 6))\n",
    "\n",
    "# Create timestamps (year-month-day)\n",
    "dates = [\"2023-10-05\", \"2022-07-22\", \"2022-02-15\", \"2020-09-29\"]\n",
    "\n",
    "df = pd.DataFrame(sales, commpanies, areas)\n",
    "df['LastUpdateDate'] = dates"
   ]
  },
  {
   "cell_type": "code",
   "execution_count": 2,
   "metadata": {},
   "outputs": [
    {
     "data": {
      "text/html": [
       "<div>\n",
       "<style scoped>\n",
       "    .dataframe tbody tr th:only-of-type {\n",
       "        vertical-align: middle;\n",
       "    }\n",
       "\n",
       "    .dataframe tbody tr th {\n",
       "        vertical-align: top;\n",
       "    }\n",
       "\n",
       "    .dataframe thead th {\n",
       "        text-align: right;\n",
       "    }\n",
       "</style>\n",
       "<table border=\"1\" class=\"dataframe\">\n",
       "  <thead>\n",
       "    <tr style=\"text-align: right;\">\n",
       "      <th></th>\n",
       "      <th>Europe</th>\n",
       "      <th>North_America</th>\n",
       "      <th>South_America</th>\n",
       "      <th>Asia</th>\n",
       "      <th>Africa</th>\n",
       "      <th>Other</th>\n",
       "      <th>LastUpdateDate</th>\n",
       "    </tr>\n",
       "  </thead>\n",
       "  <tbody>\n",
       "    <tr>\n",
       "      <th>Jolly Good Toys Ltd</th>\n",
       "      <td>97268</td>\n",
       "      <td>6682</td>\n",
       "      <td>4220</td>\n",
       "      <td>43807</td>\n",
       "      <td>5929</td>\n",
       "      <td>91537</td>\n",
       "      <td>2023-10-05</td>\n",
       "    </tr>\n",
       "    <tr>\n",
       "      <th>Pristine Machines Inc</th>\n",
       "      <td>24744</td>\n",
       "      <td>69018</td>\n",
       "      <td>99288</td>\n",
       "      <td>14068</td>\n",
       "      <td>90469</td>\n",
       "      <td>94536</td>\n",
       "      <td>2022-07-22</td>\n",
       "    </tr>\n",
       "    <tr>\n",
       "      <th>Piggy Bank Corporation</th>\n",
       "      <td>28243</td>\n",
       "      <td>44245</td>\n",
       "      <td>21633</td>\n",
       "      <td>78619</td>\n",
       "      <td>45594</td>\n",
       "      <td>37389</td>\n",
       "      <td>2022-02-15</td>\n",
       "    </tr>\n",
       "    <tr>\n",
       "      <th>Cars &amp; Gears Foundation</th>\n",
       "      <td>57643</td>\n",
       "      <td>46518</td>\n",
       "      <td>71742</td>\n",
       "      <td>99722</td>\n",
       "      <td>48613</td>\n",
       "      <td>97335</td>\n",
       "      <td>2020-09-29</td>\n",
       "    </tr>\n",
       "  </tbody>\n",
       "</table>\n",
       "</div>"
      ],
      "text/plain": [
       "                         Europe  North_America  South_America   Asia  Africa  \\\n",
       "Jolly Good Toys Ltd       97268           6682           4220  43807    5929   \n",
       "Pristine Machines Inc     24744          69018          99288  14068   90469   \n",
       "Piggy Bank Corporation    28243          44245          21633  78619   45594   \n",
       "Cars & Gears Foundation   57643          46518          71742  99722   48613   \n",
       "\n",
       "                         Other LastUpdateDate  \n",
       "Jolly Good Toys Ltd      91537     2023-10-05  \n",
       "Pristine Machines Inc    94536     2022-07-22  \n",
       "Piggy Bank Corporation   37389     2022-02-15  \n",
       "Cars & Gears Foundation  97335     2020-09-29  "
      ]
     },
     "execution_count": 2,
     "metadata": {},
     "output_type": "execute_result"
    }
   ],
   "source": [
    "df"
   ]
  },
  {
   "cell_type": "code",
   "execution_count": 3,
   "metadata": {},
   "outputs": [
    {
     "data": {
      "text/plain": [
       "Europe             int32\n",
       "North_America      int32\n",
       "South_America      int32\n",
       "Asia               int32\n",
       "Africa             int32\n",
       "Other              int32\n",
       "LastUpdateDate    object\n",
       "dtype: object"
      ]
     },
     "execution_count": 3,
     "metadata": {},
     "output_type": "execute_result"
    }
   ],
   "source": [
    "# in this case, LastUpdateDate --> object (string)\n",
    "df.dtypes"
   ]
  },
  {
   "cell_type": "code",
   "execution_count": 4,
   "metadata": {},
   "outputs": [],
   "source": [
    "df['LastUpdateDate'] = pd.to_datetime(df['LastUpdateDate'])"
   ]
  },
  {
   "cell_type": "code",
   "execution_count": 5,
   "metadata": {},
   "outputs": [
    {
     "data": {
      "text/plain": [
       "Europe                     int32\n",
       "North_America              int32\n",
       "South_America              int32\n",
       "Asia                       int32\n",
       "Africa                     int32\n",
       "Other                      int32\n",
       "LastUpdateDate    datetime64[ns]\n",
       "dtype: object"
      ]
     },
     "execution_count": 5,
     "metadata": {},
     "output_type": "execute_result"
    }
   ],
   "source": [
    "df.dtypes"
   ]
  },
  {
   "cell_type": "code",
   "execution_count": 6,
   "metadata": {},
   "outputs": [],
   "source": [
    "# Let's split datetime-data to year, month, day\n",
    "df['Year'] = df['LastUpdateDate'].dt.year\n",
    "df['Month'] = df['LastUpdateDate'].dt.month\n",
    "df['Day'] = df['LastUpdateDate'].dt.day"
   ]
  },
  {
   "cell_type": "code",
   "execution_count": 7,
   "metadata": {},
   "outputs": [
    {
     "data": {
      "text/html": [
       "<div>\n",
       "<style scoped>\n",
       "    .dataframe tbody tr th:only-of-type {\n",
       "        vertical-align: middle;\n",
       "    }\n",
       "\n",
       "    .dataframe tbody tr th {\n",
       "        vertical-align: top;\n",
       "    }\n",
       "\n",
       "    .dataframe thead th {\n",
       "        text-align: right;\n",
       "    }\n",
       "</style>\n",
       "<table border=\"1\" class=\"dataframe\">\n",
       "  <thead>\n",
       "    <tr style=\"text-align: right;\">\n",
       "      <th></th>\n",
       "      <th>Europe</th>\n",
       "      <th>North_America</th>\n",
       "      <th>South_America</th>\n",
       "      <th>Asia</th>\n",
       "      <th>Africa</th>\n",
       "      <th>Other</th>\n",
       "      <th>LastUpdateDate</th>\n",
       "      <th>Year</th>\n",
       "      <th>Month</th>\n",
       "      <th>Day</th>\n",
       "    </tr>\n",
       "  </thead>\n",
       "  <tbody>\n",
       "    <tr>\n",
       "      <th>Jolly Good Toys Ltd</th>\n",
       "      <td>97268</td>\n",
       "      <td>6682</td>\n",
       "      <td>4220</td>\n",
       "      <td>43807</td>\n",
       "      <td>5929</td>\n",
       "      <td>91537</td>\n",
       "      <td>2023-10-05</td>\n",
       "      <td>2023</td>\n",
       "      <td>10</td>\n",
       "      <td>5</td>\n",
       "    </tr>\n",
       "    <tr>\n",
       "      <th>Pristine Machines Inc</th>\n",
       "      <td>24744</td>\n",
       "      <td>69018</td>\n",
       "      <td>99288</td>\n",
       "      <td>14068</td>\n",
       "      <td>90469</td>\n",
       "      <td>94536</td>\n",
       "      <td>2022-07-22</td>\n",
       "      <td>2022</td>\n",
       "      <td>7</td>\n",
       "      <td>22</td>\n",
       "    </tr>\n",
       "    <tr>\n",
       "      <th>Piggy Bank Corporation</th>\n",
       "      <td>28243</td>\n",
       "      <td>44245</td>\n",
       "      <td>21633</td>\n",
       "      <td>78619</td>\n",
       "      <td>45594</td>\n",
       "      <td>37389</td>\n",
       "      <td>2022-02-15</td>\n",
       "      <td>2022</td>\n",
       "      <td>2</td>\n",
       "      <td>15</td>\n",
       "    </tr>\n",
       "    <tr>\n",
       "      <th>Cars &amp; Gears Foundation</th>\n",
       "      <td>57643</td>\n",
       "      <td>46518</td>\n",
       "      <td>71742</td>\n",
       "      <td>99722</td>\n",
       "      <td>48613</td>\n",
       "      <td>97335</td>\n",
       "      <td>2020-09-29</td>\n",
       "      <td>2020</td>\n",
       "      <td>9</td>\n",
       "      <td>29</td>\n",
       "    </tr>\n",
       "  </tbody>\n",
       "</table>\n",
       "</div>"
      ],
      "text/plain": [
       "                         Europe  North_America  South_America   Asia  Africa  \\\n",
       "Jolly Good Toys Ltd       97268           6682           4220  43807    5929   \n",
       "Pristine Machines Inc     24744          69018          99288  14068   90469   \n",
       "Piggy Bank Corporation    28243          44245          21633  78619   45594   \n",
       "Cars & Gears Foundation   57643          46518          71742  99722   48613   \n",
       "\n",
       "                         Other LastUpdateDate  Year  Month  Day  \n",
       "Jolly Good Toys Ltd      91537     2023-10-05  2023     10    5  \n",
       "Pristine Machines Inc    94536     2022-07-22  2022      7   22  \n",
       "Piggy Bank Corporation   37389     2022-02-15  2022      2   15  \n",
       "Cars & Gears Foundation  97335     2020-09-29  2020      9   29  "
      ]
     },
     "execution_count": 7,
     "metadata": {},
     "output_type": "execute_result"
    }
   ],
   "source": [
    "df"
   ]
  },
  {
   "cell_type": "code",
   "execution_count": 8,
   "metadata": {},
   "outputs": [],
   "source": [
    "# drop orginal datetime\n",
    "df = df.drop(\"LastUpdateDate\", axis=1)"
   ]
  },
  {
   "cell_type": "code",
   "execution_count": 9,
   "metadata": {},
   "outputs": [
    {
     "data": {
      "text/html": [
       "<div>\n",
       "<style scoped>\n",
       "    .dataframe tbody tr th:only-of-type {\n",
       "        vertical-align: middle;\n",
       "    }\n",
       "\n",
       "    .dataframe tbody tr th {\n",
       "        vertical-align: top;\n",
       "    }\n",
       "\n",
       "    .dataframe thead th {\n",
       "        text-align: right;\n",
       "    }\n",
       "</style>\n",
       "<table border=\"1\" class=\"dataframe\">\n",
       "  <thead>\n",
       "    <tr style=\"text-align: right;\">\n",
       "      <th></th>\n",
       "      <th>Europe</th>\n",
       "      <th>North_America</th>\n",
       "      <th>South_America</th>\n",
       "      <th>Asia</th>\n",
       "      <th>Africa</th>\n",
       "      <th>Other</th>\n",
       "      <th>Year</th>\n",
       "      <th>Month</th>\n",
       "      <th>Day</th>\n",
       "    </tr>\n",
       "  </thead>\n",
       "  <tbody>\n",
       "    <tr>\n",
       "      <th>Jolly Good Toys Ltd</th>\n",
       "      <td>97268</td>\n",
       "      <td>6682</td>\n",
       "      <td>4220</td>\n",
       "      <td>43807</td>\n",
       "      <td>5929</td>\n",
       "      <td>91537</td>\n",
       "      <td>2023</td>\n",
       "      <td>10</td>\n",
       "      <td>5</td>\n",
       "    </tr>\n",
       "    <tr>\n",
       "      <th>Pristine Machines Inc</th>\n",
       "      <td>24744</td>\n",
       "      <td>69018</td>\n",
       "      <td>99288</td>\n",
       "      <td>14068</td>\n",
       "      <td>90469</td>\n",
       "      <td>94536</td>\n",
       "      <td>2022</td>\n",
       "      <td>7</td>\n",
       "      <td>22</td>\n",
       "    </tr>\n",
       "    <tr>\n",
       "      <th>Piggy Bank Corporation</th>\n",
       "      <td>28243</td>\n",
       "      <td>44245</td>\n",
       "      <td>21633</td>\n",
       "      <td>78619</td>\n",
       "      <td>45594</td>\n",
       "      <td>37389</td>\n",
       "      <td>2022</td>\n",
       "      <td>2</td>\n",
       "      <td>15</td>\n",
       "    </tr>\n",
       "    <tr>\n",
       "      <th>Cars &amp; Gears Foundation</th>\n",
       "      <td>57643</td>\n",
       "      <td>46518</td>\n",
       "      <td>71742</td>\n",
       "      <td>99722</td>\n",
       "      <td>48613</td>\n",
       "      <td>97335</td>\n",
       "      <td>2020</td>\n",
       "      <td>9</td>\n",
       "      <td>29</td>\n",
       "    </tr>\n",
       "  </tbody>\n",
       "</table>\n",
       "</div>"
      ],
      "text/plain": [
       "                         Europe  North_America  South_America   Asia  Africa  \\\n",
       "Jolly Good Toys Ltd       97268           6682           4220  43807    5929   \n",
       "Pristine Machines Inc     24744          69018          99288  14068   90469   \n",
       "Piggy Bank Corporation    28243          44245          21633  78619   45594   \n",
       "Cars & Gears Foundation   57643          46518          71742  99722   48613   \n",
       "\n",
       "                         Other  Year  Month  Day  \n",
       "Jolly Good Toys Ltd      91537  2023     10    5  \n",
       "Pristine Machines Inc    94536  2022      7   22  \n",
       "Piggy Bank Corporation   37389  2022      2   15  \n",
       "Cars & Gears Foundation  97335  2020      9   29  "
      ]
     },
     "execution_count": 9,
     "metadata": {},
     "output_type": "execute_result"
    }
   ],
   "source": [
    "df"
   ]
  },
  {
   "cell_type": "code",
   "execution_count": null,
   "metadata": {},
   "outputs": [],
   "source": []
  }
 ],
 "metadata": {
  "kernelspec": {
   "display_name": ".venv",
   "language": "python",
   "name": "python3"
  },
  "language_info": {
   "codemirror_mode": {
    "name": "ipython",
    "version": 3
   },
   "file_extension": ".py",
   "mimetype": "text/x-python",
   "name": "python",
   "nbconvert_exporter": "python",
   "pygments_lexer": "ipython3",
   "version": "3.10.11"
  }
 },
 "nbformat": 4,
 "nbformat_minor": 2
}

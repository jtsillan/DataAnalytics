{
 "cells": [
  {
   "cell_type": "code",
   "execution_count": 6,
   "metadata": {},
   "outputs": [],
   "source": [
    "import numpy as np\n",
    "import pandas as pd\n",
    "import seaborn as sns"
   ]
  },
  {
   "cell_type": "code",
   "execution_count": 7,
   "metadata": {},
   "outputs": [],
   "source": [
    "# GDP = BKT\n",
    "df = pd.read_csv('GDP_FINLAND.csv')"
   ]
  },
  {
   "cell_type": "code",
   "execution_count": 8,
   "metadata": {},
   "outputs": [
    {
     "data": {
      "text/html": [
       "<div>\n",
       "<style scoped>\n",
       "    .dataframe tbody tr th:only-of-type {\n",
       "        vertical-align: middle;\n",
       "    }\n",
       "\n",
       "    .dataframe tbody tr th {\n",
       "        vertical-align: top;\n",
       "    }\n",
       "\n",
       "    .dataframe thead th {\n",
       "        text-align: right;\n",
       "    }\n",
       "</style>\n",
       "<table border=\"1\" class=\"dataframe\">\n",
       "  <thead>\n",
       "    <tr style=\"text-align: right;\">\n",
       "      <th></th>\n",
       "      <th>time</th>\n",
       "      <th>geo</th>\n",
       "      <th>unit</th>\n",
       "      <th>s_adj</th>\n",
       "      <th>na_item</th>\n",
       "      <th>value</th>\n",
       "    </tr>\n",
       "  </thead>\n",
       "  <tbody>\n",
       "    <tr>\n",
       "      <th>0</th>\n",
       "      <td>1975Q1</td>\n",
       "      <td>Finlande</td>\n",
       "      <td>Volumes chaînés (2010), millions d'euros</td>\n",
       "      <td>Données désaisonnalisées et corrigées des effe...</td>\n",
       "      <td>Produit intérieur brut aux prix du marché</td>\n",
       "      <td>NaN</td>\n",
       "    </tr>\n",
       "    <tr>\n",
       "      <th>1</th>\n",
       "      <td>1975Q2</td>\n",
       "      <td>Finlande</td>\n",
       "      <td>Volumes chaînés (2010), millions d'euros</td>\n",
       "      <td>Données désaisonnalisées et corrigées des effe...</td>\n",
       "      <td>Produit intérieur brut aux prix du marché</td>\n",
       "      <td>NaN</td>\n",
       "    </tr>\n",
       "    <tr>\n",
       "      <th>2</th>\n",
       "      <td>1975Q3</td>\n",
       "      <td>Finlande</td>\n",
       "      <td>Volumes chaînés (2010), millions d'euros</td>\n",
       "      <td>Données désaisonnalisées et corrigées des effe...</td>\n",
       "      <td>Produit intérieur brut aux prix du marché</td>\n",
       "      <td>NaN</td>\n",
       "    </tr>\n",
       "    <tr>\n",
       "      <th>3</th>\n",
       "      <td>1975Q4</td>\n",
       "      <td>Finlande</td>\n",
       "      <td>Volumes chaînés (2010), millions d'euros</td>\n",
       "      <td>Données désaisonnalisées et corrigées des effe...</td>\n",
       "      <td>Produit intérieur brut aux prix du marché</td>\n",
       "      <td>NaN</td>\n",
       "    </tr>\n",
       "    <tr>\n",
       "      <th>4</th>\n",
       "      <td>1976Q1</td>\n",
       "      <td>Finlande</td>\n",
       "      <td>Volumes chaînés (2010), millions d'euros</td>\n",
       "      <td>Données désaisonnalisées et corrigées des effe...</td>\n",
       "      <td>Produit intérieur brut aux prix du marché</td>\n",
       "      <td>NaN</td>\n",
       "    </tr>\n",
       "  </tbody>\n",
       "</table>\n",
       "</div>"
      ],
      "text/plain": [
       "     time       geo                                      unit  \\\n",
       "0  1975Q1  Finlande  Volumes chaînés (2010), millions d'euros   \n",
       "1  1975Q2  Finlande  Volumes chaînés (2010), millions d'euros   \n",
       "2  1975Q3  Finlande  Volumes chaînés (2010), millions d'euros   \n",
       "3  1975Q4  Finlande  Volumes chaînés (2010), millions d'euros   \n",
       "4  1976Q1  Finlande  Volumes chaînés (2010), millions d'euros   \n",
       "\n",
       "                                               s_adj  \\\n",
       "0  Données désaisonnalisées et corrigées des effe...   \n",
       "1  Données désaisonnalisées et corrigées des effe...   \n",
       "2  Données désaisonnalisées et corrigées des effe...   \n",
       "3  Données désaisonnalisées et corrigées des effe...   \n",
       "4  Données désaisonnalisées et corrigées des effe...   \n",
       "\n",
       "                                     na_item  value  \n",
       "0  Produit intérieur brut aux prix du marché    NaN  \n",
       "1  Produit intérieur brut aux prix du marché    NaN  \n",
       "2  Produit intérieur brut aux prix du marché    NaN  \n",
       "3  Produit intérieur brut aux prix du marché    NaN  \n",
       "4  Produit intérieur brut aux prix du marché    NaN  "
      ]
     },
     "execution_count": 8,
     "metadata": {},
     "output_type": "execute_result"
    }
   ],
   "source": [
    "df.head()"
   ]
  },
  {
   "cell_type": "markdown",
   "metadata": {},
   "source": [
    "### Remove unneeded meta-variables"
   ]
  },
  {
   "cell_type": "code",
   "execution_count": 9,
   "metadata": {},
   "outputs": [],
   "source": [
    "df = df.drop(['geo', 'unit', 's_adj', 'na_item'], axis=1)"
   ]
  },
  {
   "cell_type": "code",
   "execution_count": 10,
   "metadata": {},
   "outputs": [
    {
     "data": {
      "text/html": [
       "<div>\n",
       "<style scoped>\n",
       "    .dataframe tbody tr th:only-of-type {\n",
       "        vertical-align: middle;\n",
       "    }\n",
       "\n",
       "    .dataframe tbody tr th {\n",
       "        vertical-align: top;\n",
       "    }\n",
       "\n",
       "    .dataframe thead th {\n",
       "        text-align: right;\n",
       "    }\n",
       "</style>\n",
       "<table border=\"1\" class=\"dataframe\">\n",
       "  <thead>\n",
       "    <tr style=\"text-align: right;\">\n",
       "      <th></th>\n",
       "      <th>time</th>\n",
       "      <th>value</th>\n",
       "    </tr>\n",
       "  </thead>\n",
       "  <tbody>\n",
       "    <tr>\n",
       "      <th>0</th>\n",
       "      <td>1975Q1</td>\n",
       "      <td>NaN</td>\n",
       "    </tr>\n",
       "    <tr>\n",
       "      <th>1</th>\n",
       "      <td>1975Q2</td>\n",
       "      <td>NaN</td>\n",
       "    </tr>\n",
       "    <tr>\n",
       "      <th>2</th>\n",
       "      <td>1975Q3</td>\n",
       "      <td>NaN</td>\n",
       "    </tr>\n",
       "    <tr>\n",
       "      <th>3</th>\n",
       "      <td>1975Q4</td>\n",
       "      <td>NaN</td>\n",
       "    </tr>\n",
       "    <tr>\n",
       "      <th>4</th>\n",
       "      <td>1976Q1</td>\n",
       "      <td>NaN</td>\n",
       "    </tr>\n",
       "    <tr>\n",
       "      <th>...</th>\n",
       "      <td>...</td>\n",
       "      <td>...</td>\n",
       "    </tr>\n",
       "    <tr>\n",
       "      <th>177</th>\n",
       "      <td>2019Q2</td>\n",
       "      <td>51513.0</td>\n",
       "    </tr>\n",
       "    <tr>\n",
       "      <th>178</th>\n",
       "      <td>2019Q3</td>\n",
       "      <td>51673.0</td>\n",
       "    </tr>\n",
       "    <tr>\n",
       "      <th>179</th>\n",
       "      <td>2019Q4</td>\n",
       "      <td>51498.0</td>\n",
       "    </tr>\n",
       "    <tr>\n",
       "      <th>180</th>\n",
       "      <td>2020Q1</td>\n",
       "      <td>50521.0</td>\n",
       "    </tr>\n",
       "    <tr>\n",
       "      <th>181</th>\n",
       "      <td>2020Q2</td>\n",
       "      <td>NaN</td>\n",
       "    </tr>\n",
       "  </tbody>\n",
       "</table>\n",
       "<p>182 rows × 2 columns</p>\n",
       "</div>"
      ],
      "text/plain": [
       "       time    value\n",
       "0    1975Q1      NaN\n",
       "1    1975Q2      NaN\n",
       "2    1975Q3      NaN\n",
       "3    1975Q4      NaN\n",
       "4    1976Q1      NaN\n",
       "..      ...      ...\n",
       "177  2019Q2  51513.0\n",
       "178  2019Q3  51673.0\n",
       "179  2019Q4  51498.0\n",
       "180  2020Q1  50521.0\n",
       "181  2020Q2      NaN\n",
       "\n",
       "[182 rows x 2 columns]"
      ]
     },
     "execution_count": 10,
     "metadata": {},
     "output_type": "execute_result"
    }
   ],
   "source": [
    "df"
   ]
  },
  {
   "cell_type": "code",
   "execution_count": 12,
   "metadata": {},
   "outputs": [
    {
     "data": {
      "text/html": [
       "<div>\n",
       "<style scoped>\n",
       "    .dataframe tbody tr th:only-of-type {\n",
       "        vertical-align: middle;\n",
       "    }\n",
       "\n",
       "    .dataframe tbody tr th {\n",
       "        vertical-align: top;\n",
       "    }\n",
       "\n",
       "    .dataframe thead th {\n",
       "        text-align: right;\n",
       "    }\n",
       "</style>\n",
       "<table border=\"1\" class=\"dataframe\">\n",
       "  <thead>\n",
       "    <tr style=\"text-align: right;\">\n",
       "      <th></th>\n",
       "      <th>time</th>\n",
       "      <th>value</th>\n",
       "    </tr>\n",
       "  </thead>\n",
       "  <tbody>\n",
       "    <tr>\n",
       "      <th>176</th>\n",
       "      <td>2019Q1</td>\n",
       "      <td>51093.0</td>\n",
       "    </tr>\n",
       "    <tr>\n",
       "      <th>177</th>\n",
       "      <td>2019Q2</td>\n",
       "      <td>51513.0</td>\n",
       "    </tr>\n",
       "    <tr>\n",
       "      <th>178</th>\n",
       "      <td>2019Q3</td>\n",
       "      <td>51673.0</td>\n",
       "    </tr>\n",
       "    <tr>\n",
       "      <th>179</th>\n",
       "      <td>2019Q4</td>\n",
       "      <td>51498.0</td>\n",
       "    </tr>\n",
       "    <tr>\n",
       "      <th>180</th>\n",
       "      <td>2020Q1</td>\n",
       "      <td>50521.0</td>\n",
       "    </tr>\n",
       "  </tbody>\n",
       "</table>\n",
       "</div>"
      ],
      "text/plain": [
       "       time    value\n",
       "176  2019Q1  51093.0\n",
       "177  2019Q2  51513.0\n",
       "178  2019Q3  51673.0\n",
       "179  2019Q4  51498.0\n",
       "180  2020Q1  50521.0"
      ]
     },
     "execution_count": 12,
     "metadata": {},
     "output_type": "execute_result"
    }
   ],
   "source": [
    "# We are missing years 1675 - 1989 and years after 2020 Q1\n",
    "df = df.dropna()\n",
    "df.tail()"
   ]
  },
  {
   "cell_type": "markdown",
   "metadata": {},
   "source": [
    "### For pivot table, we need two time variables and one continous variable\n",
    "#### Let's split time into year and quarter"
   ]
  },
  {
   "cell_type": "code",
   "execution_count": 13,
   "metadata": {},
   "outputs": [
    {
     "name": "stderr",
     "output_type": "stream",
     "text": [
      "C:\\Users\\jtsil\\AppData\\Local\\Temp\\ipykernel_25212\\2761620078.py:1: SettingWithCopyWarning: \n",
      "A value is trying to be set on a copy of a slice from a DataFrame.\n",
      "Try using .loc[row_indexer,col_indexer] = value instead\n",
      "\n",
      "See the caveats in the documentation: https://pandas.pydata.org/pandas-docs/stable/user_guide/indexing.html#returning-a-view-versus-a-copy\n",
      "  df['year'] = df['time'].str.slice(0, 4).astype(int)\n",
      "C:\\Users\\jtsil\\AppData\\Local\\Temp\\ipykernel_25212\\2761620078.py:2: SettingWithCopyWarning: \n",
      "A value is trying to be set on a copy of a slice from a DataFrame.\n",
      "Try using .loc[row_indexer,col_indexer] = value instead\n",
      "\n",
      "See the caveats in the documentation: https://pandas.pydata.org/pandas-docs/stable/user_guide/indexing.html#returning-a-view-versus-a-copy\n",
      "  df['quarter'] = df['time'].str.slice(5, 6).astype(int)\n"
     ]
    }
   ],
   "source": [
    "df['year'] = df['time'].str.slice(0, 4).astype(int)\n",
    "df['quarter'] = df['time'].str.slice(5, 6).astype(int)"
   ]
  },
  {
   "cell_type": "code",
   "execution_count": 15,
   "metadata": {},
   "outputs": [],
   "source": [
    "df = df.drop('time', axis=1)"
   ]
  },
  {
   "cell_type": "code",
   "execution_count": 16,
   "metadata": {},
   "outputs": [
    {
     "data": {
      "text/html": [
       "<div>\n",
       "<style scoped>\n",
       "    .dataframe tbody tr th:only-of-type {\n",
       "        vertical-align: middle;\n",
       "    }\n",
       "\n",
       "    .dataframe tbody tr th {\n",
       "        vertical-align: top;\n",
       "    }\n",
       "\n",
       "    .dataframe thead th {\n",
       "        text-align: right;\n",
       "    }\n",
       "</style>\n",
       "<table border=\"1\" class=\"dataframe\">\n",
       "  <thead>\n",
       "    <tr style=\"text-align: right;\">\n",
       "      <th></th>\n",
       "      <th>value</th>\n",
       "      <th>year</th>\n",
       "      <th>quarter</th>\n",
       "    </tr>\n",
       "  </thead>\n",
       "  <tbody>\n",
       "    <tr>\n",
       "      <th>60</th>\n",
       "      <td>32134.0</td>\n",
       "      <td>1990</td>\n",
       "      <td>1</td>\n",
       "    </tr>\n",
       "    <tr>\n",
       "      <th>61</th>\n",
       "      <td>31690.0</td>\n",
       "      <td>1990</td>\n",
       "      <td>2</td>\n",
       "    </tr>\n",
       "    <tr>\n",
       "      <th>62</th>\n",
       "      <td>31022.0</td>\n",
       "      <td>1990</td>\n",
       "      <td>3</td>\n",
       "    </tr>\n",
       "    <tr>\n",
       "      <th>63</th>\n",
       "      <td>30837.0</td>\n",
       "      <td>1990</td>\n",
       "      <td>4</td>\n",
       "    </tr>\n",
       "    <tr>\n",
       "      <th>64</th>\n",
       "      <td>30223.0</td>\n",
       "      <td>1991</td>\n",
       "      <td>1</td>\n",
       "    </tr>\n",
       "  </tbody>\n",
       "</table>\n",
       "</div>"
      ],
      "text/plain": [
       "      value  year  quarter\n",
       "60  32134.0  1990        1\n",
       "61  31690.0  1990        2\n",
       "62  31022.0  1990        3\n",
       "63  30837.0  1990        4\n",
       "64  30223.0  1991        1"
      ]
     },
     "execution_count": 16,
     "metadata": {},
     "output_type": "execute_result"
    }
   ],
   "source": [
    "df.head()"
   ]
  },
  {
   "cell_type": "markdown",
   "metadata": {},
   "source": [
    "### Now we have two time columns and one numeric column\n",
    "#### Next step => convert DataFrame into pivot table"
   ]
  },
  {
   "cell_type": "code",
   "execution_count": 17,
   "metadata": {},
   "outputs": [],
   "source": [
    "# Define index and columns => time variables for example months and years\n",
    "# Values => visualize numeric values\n",
    "df_pivot = df.pivot_table(index='quarter', columns='year', values='value')"
   ]
  },
  {
   "cell_type": "code",
   "execution_count": 18,
   "metadata": {},
   "outputs": [
    {
     "data": {
      "text/html": [
       "<div>\n",
       "<style scoped>\n",
       "    .dataframe tbody tr th:only-of-type {\n",
       "        vertical-align: middle;\n",
       "    }\n",
       "\n",
       "    .dataframe tbody tr th {\n",
       "        vertical-align: top;\n",
       "    }\n",
       "\n",
       "    .dataframe thead th {\n",
       "        text-align: right;\n",
       "    }\n",
       "</style>\n",
       "<table border=\"1\" class=\"dataframe\">\n",
       "  <thead>\n",
       "    <tr style=\"text-align: right;\">\n",
       "      <th>year</th>\n",
       "      <th>1990</th>\n",
       "      <th>1991</th>\n",
       "      <th>1992</th>\n",
       "      <th>1993</th>\n",
       "      <th>1994</th>\n",
       "      <th>1995</th>\n",
       "      <th>1996</th>\n",
       "      <th>1997</th>\n",
       "      <th>1998</th>\n",
       "      <th>1999</th>\n",
       "      <th>...</th>\n",
       "      <th>2011</th>\n",
       "      <th>2012</th>\n",
       "      <th>2013</th>\n",
       "      <th>2014</th>\n",
       "      <th>2015</th>\n",
       "      <th>2016</th>\n",
       "      <th>2017</th>\n",
       "      <th>2018</th>\n",
       "      <th>2019</th>\n",
       "      <th>2020</th>\n",
       "    </tr>\n",
       "    <tr>\n",
       "      <th>quarter</th>\n",
       "      <th></th>\n",
       "      <th></th>\n",
       "      <th></th>\n",
       "      <th></th>\n",
       "      <th></th>\n",
       "      <th></th>\n",
       "      <th></th>\n",
       "      <th></th>\n",
       "      <th></th>\n",
       "      <th></th>\n",
       "      <th></th>\n",
       "      <th></th>\n",
       "      <th></th>\n",
       "      <th></th>\n",
       "      <th></th>\n",
       "      <th></th>\n",
       "      <th></th>\n",
       "      <th></th>\n",
       "      <th></th>\n",
       "      <th></th>\n",
       "      <th></th>\n",
       "    </tr>\n",
       "  </thead>\n",
       "  <tbody>\n",
       "    <tr>\n",
       "      <th>1</th>\n",
       "      <td>32134.0</td>\n",
       "      <td>30223.0</td>\n",
       "      <td>29013.0</td>\n",
       "      <td>28307.0</td>\n",
       "      <td>28826.0</td>\n",
       "      <td>30232.0</td>\n",
       "      <td>31480.0</td>\n",
       "      <td>32607.0</td>\n",
       "      <td>35714.0</td>\n",
       "      <td>36783.0</td>\n",
       "      <td>...</td>\n",
       "      <td>48268.0</td>\n",
       "      <td>48191.0</td>\n",
       "      <td>46926.0</td>\n",
       "      <td>46909.0</td>\n",
       "      <td>46726.0</td>\n",
       "      <td>47997.0</td>\n",
       "      <td>49677.0</td>\n",
       "      <td>50806.0</td>\n",
       "      <td>51093.0</td>\n",
       "      <td>50521.0</td>\n",
       "    </tr>\n",
       "    <tr>\n",
       "      <th>2</th>\n",
       "      <td>31690.0</td>\n",
       "      <td>29873.0</td>\n",
       "      <td>28692.0</td>\n",
       "      <td>28256.0</td>\n",
       "      <td>29082.0</td>\n",
       "      <td>31048.0</td>\n",
       "      <td>31626.0</td>\n",
       "      <td>33378.0</td>\n",
       "      <td>36145.0</td>\n",
       "      <td>37036.0</td>\n",
       "      <td>...</td>\n",
       "      <td>48195.0</td>\n",
       "      <td>47463.0</td>\n",
       "      <td>47125.0</td>\n",
       "      <td>46884.0</td>\n",
       "      <td>47227.0</td>\n",
       "      <td>48397.0</td>\n",
       "      <td>49866.0</td>\n",
       "      <td>50732.0</td>\n",
       "      <td>51513.0</td>\n",
       "      <td>NaN</td>\n",
       "    </tr>\n",
       "    <tr>\n",
       "      <th>3</th>\n",
       "      <td>31022.0</td>\n",
       "      <td>29262.0</td>\n",
       "      <td>28446.0</td>\n",
       "      <td>28429.0</td>\n",
       "      <td>29735.0</td>\n",
       "      <td>30904.0</td>\n",
       "      <td>31999.0</td>\n",
       "      <td>34284.0</td>\n",
       "      <td>35988.0</td>\n",
       "      <td>37372.0</td>\n",
       "      <td>...</td>\n",
       "      <td>48212.0</td>\n",
       "      <td>47360.0</td>\n",
       "      <td>47306.0</td>\n",
       "      <td>47113.0</td>\n",
       "      <td>47310.0</td>\n",
       "      <td>48720.0</td>\n",
       "      <td>50127.0</td>\n",
       "      <td>50859.0</td>\n",
       "      <td>51673.0</td>\n",
       "      <td>NaN</td>\n",
       "    </tr>\n",
       "    <tr>\n",
       "      <th>4</th>\n",
       "      <td>30837.0</td>\n",
       "      <td>28923.0</td>\n",
       "      <td>28237.0</td>\n",
       "      <td>28638.0</td>\n",
       "      <td>30487.0</td>\n",
       "      <td>30933.0</td>\n",
       "      <td>32526.0</td>\n",
       "      <td>35385.0</td>\n",
       "      <td>35210.0</td>\n",
       "      <td>38128.0</td>\n",
       "      <td>...</td>\n",
       "      <td>48261.0</td>\n",
       "      <td>47223.0</td>\n",
       "      <td>47164.0</td>\n",
       "      <td>46928.0</td>\n",
       "      <td>47594.0</td>\n",
       "      <td>48959.0</td>\n",
       "      <td>50747.0</td>\n",
       "      <td>51051.0</td>\n",
       "      <td>51498.0</td>\n",
       "      <td>NaN</td>\n",
       "    </tr>\n",
       "  </tbody>\n",
       "</table>\n",
       "<p>4 rows × 31 columns</p>\n",
       "</div>"
      ],
      "text/plain": [
       "year        1990     1991     1992     1993     1994     1995     1996  \\\n",
       "quarter                                                                  \n",
       "1        32134.0  30223.0  29013.0  28307.0  28826.0  30232.0  31480.0   \n",
       "2        31690.0  29873.0  28692.0  28256.0  29082.0  31048.0  31626.0   \n",
       "3        31022.0  29262.0  28446.0  28429.0  29735.0  30904.0  31999.0   \n",
       "4        30837.0  28923.0  28237.0  28638.0  30487.0  30933.0  32526.0   \n",
       "\n",
       "year        1997     1998     1999  ...     2011     2012     2013     2014  \\\n",
       "quarter                             ...                                       \n",
       "1        32607.0  35714.0  36783.0  ...  48268.0  48191.0  46926.0  46909.0   \n",
       "2        33378.0  36145.0  37036.0  ...  48195.0  47463.0  47125.0  46884.0   \n",
       "3        34284.0  35988.0  37372.0  ...  48212.0  47360.0  47306.0  47113.0   \n",
       "4        35385.0  35210.0  38128.0  ...  48261.0  47223.0  47164.0  46928.0   \n",
       "\n",
       "year        2015     2016     2017     2018     2019     2020  \n",
       "quarter                                                        \n",
       "1        46726.0  47997.0  49677.0  50806.0  51093.0  50521.0  \n",
       "2        47227.0  48397.0  49866.0  50732.0  51513.0      NaN  \n",
       "3        47310.0  48720.0  50127.0  50859.0  51673.0      NaN  \n",
       "4        47594.0  48959.0  50747.0  51051.0  51498.0      NaN  \n",
       "\n",
       "[4 rows x 31 columns]"
      ]
     },
     "execution_count": 18,
     "metadata": {},
     "output_type": "execute_result"
    }
   ],
   "source": [
    "df_pivot"
   ]
  },
  {
   "cell_type": "code",
   "execution_count": 20,
   "metadata": {},
   "outputs": [
    {
     "data": {
      "text/plain": [
       "<Axes: >"
      ]
     },
     "execution_count": 20,
     "metadata": {},
     "output_type": "execute_result"
    },
    {
     "data": {
      "image/png": "[encoded data removed]",
      "text/plain": [
       "<Figure size 640x480 with 2 Axes>"
      ]
     },
     "metadata": {},
     "output_type": "display_data"
    }
   ],
   "source": [
    "# Check correlations matrix with seaborn\n",
    "correlations = df.corr(numeric_only=True)\n",
    "sns.heatmap(correlations, annot=True)"
   ]
  },
  {
   "cell_type": "code",
   "execution_count": 21,
   "metadata": {},
   "outputs": [
    {
     "data": {
      "text/plain": [
       "<Axes: xlabel='year', ylabel='quarter'>"
      ]
     },
     "execution_count": 21,
     "metadata": {},
     "output_type": "execute_result"
    },
    {
     "data": {
      "image/png": "[encoded data removed]",
      "text/plain": [
       "<Figure size 640x480 with 2 Axes>"
      ]
     },
     "metadata": {},
     "output_type": "display_data"
    }
   ],
   "source": [
    "# visualize pivot table\n",
    "sns.heatmap(df_pivot, xticklabels=True, yticklabels=True)"
   ]
  }
 ],
 "metadata": {
  "kernelspec": {
   "display_name": ".venv",
   "language": "python",
   "name": "python3"
  },
  "language_info": {
   "codemirror_mode": {
    "name": "ipython",
    "version": 3
   },
   "file_extension": ".py",
   "mimetype": "text/x-python",
   "name": "python",
   "nbconvert_exporter": "python",
   "pygments_lexer": "ipython3",
   "version": "3.10.11"
  }
 },
 "nbformat": 4,
 "nbformat_minor": 2
}

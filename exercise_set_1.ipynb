{
 "cells": [
  {
   "attachments": {},
   "cell_type": "markdown",
   "metadata": {},
   "source": [
    "<h3><b>Introduction to Data Analytics - Exercise set 1 - Python and NumPy Basics</b></h3>"
   ]
  },
  {
   "cell_type": "code",
   "execution_count": 1,
   "metadata": {},
   "outputs": [],
   "source": [
    "# setup all needed modules and configurations\n",
    "import numpy as np\n",
    "\n",
    "# re-style the NumPy arrays\n",
    "# remember to install needed module first:\n",
    "# pip3 install numpy-html\n",
    "%load_ext numpy_html"
   ]
  },
  {
   "attachments": {},
   "cell_type": "markdown",
   "metadata": {},
   "source": [
    "Run the cell below to enable custom style for NumPy arrays:"
   ]
  },
  {
   "cell_type": "code",
   "execution_count": 2,
   "metadata": {},
   "outputs": [
    {
     "data": {
      "text/html": [
       "<style>\n",
       "table {margin-top: 16pt;}\n",
       "td {font-family: Arial, Helvetica, sans-serif !important; font-weight: 600; white-space: normal !important;}\n",
       "tr:nth-child(even) {background: #b0d9eb !important; color: black}\n",
       "tr:nth-child(odd) {background: #8fb1bf !important; color: black}\n",
       "</style>\n"
      ],
      "text/plain": [
       "<IPython.core.display.HTML object>"
      ]
     },
     "metadata": {},
     "output_type": "display_data"
    }
   ],
   "source": [
    "%%html\n",
    "<style>\n",
    "table {margin-top: 16pt;}\n",
    "td {font-family: Arial, Helvetica, sans-serif !important; font-weight: 600; white-space: normal !important;}\n",
    "tr:nth-child(even) {background: #b0d9eb !important; color: black}\n",
    "tr:nth-child(odd) {background: #8fb1bf !important; color: black}\n",
    "</style>"
   ]
  },
  {
   "attachments": {},
   "cell_type": "markdown",
   "metadata": {},
   "source": [
    "<h4><b>1. Create these lists without NumPy:</b></h4>\n",
    "\n",
    "- List of 15 ones\n",
    "\n",
    "- List of 15 number 7's\n",
    "\n",
    "- List of numbers from 100 to 150\n",
    "\n",
    "- List of even numbers between 0 and 100\n",
    "\n",
    "- List of years that are divisible by 4 between 1950 and 2020\n",
    "\n",
    "<br>"
   ]
  },
  {
   "cell_type": "markdown",
   "metadata": {},
   "source": [
    "<h4>1.1 List of 15 ones</h4>"
   ]
  },
  {
   "cell_type": "code",
   "execution_count": 3,
   "metadata": {},
   "outputs": [
    {
     "data": {
      "text/plain": [
       "[1, 1, 1, 1, 1, 1, 1, 1, 1, 1, 1, 1, 1, 1, 1]"
      ]
     },
     "execution_count": 3,
     "metadata": {},
     "output_type": "execute_result"
    }
   ],
   "source": [
    "# Define new empty list\n",
    "ones_list = []\n",
    "\n",
    "# Populate list with 15 ones\n",
    "for i in range(15):\n",
    "    ones_list.append(1)\n",
    "\n",
    "# Print list\n",
    "ones_list"
   ]
  },
  {
   "cell_type": "markdown",
   "metadata": {},
   "source": [
    "<h4>1.2 List of 15 number 7's</h4>"
   ]
  },
  {
   "cell_type": "code",
   "execution_count": 4,
   "metadata": {},
   "outputs": [
    {
     "data": {
      "text/plain": [
       "[7, 7, 7, 7, 7, 7, 7, 7, 7, 7, 7, 7, 7, 7, 7]"
      ]
     },
     "execution_count": 4,
     "metadata": {},
     "output_type": "execute_result"
    }
   ],
   "source": [
    "# Define new empty list\n",
    "sevens_list = []\n",
    "\n",
    "# Populate list with 15 sevens\n",
    "for j in range(15):\n",
    "    sevens_list.append(7)\n",
    "\n",
    "# Print list\n",
    "sevens_list"
   ]
  },
  {
   "cell_type": "markdown",
   "metadata": {},
   "source": [
    "<h4>1.3 List of numbers from 100 to 150</h4>"
   ]
  },
  {
   "cell_type": "code",
   "execution_count": 5,
   "metadata": {},
   "outputs": [
    {
     "data": {
      "text/plain": [
       "[100,\n",
       " 101,\n",
       " 102,\n",
       " 103,\n",
       " 104,\n",
       " 105,\n",
       " 106,\n",
       " 107,\n",
       " 108,\n",
       " 109,\n",
       " 110,\n",
       " 111,\n",
       " 112,\n",
       " 113,\n",
       " 114,\n",
       " 115,\n",
       " 116,\n",
       " 117,\n",
       " 118,\n",
       " 119,\n",
       " 120,\n",
       " 121,\n",
       " 122,\n",
       " 123,\n",
       " 124,\n",
       " 125,\n",
       " 126,\n",
       " 127,\n",
       " 128,\n",
       " 129,\n",
       " 130,\n",
       " 131,\n",
       " 132,\n",
       " 133,\n",
       " 134,\n",
       " 135,\n",
       " 136,\n",
       " 137,\n",
       " 138,\n",
       " 139,\n",
       " 140,\n",
       " 141,\n",
       " 142,\n",
       " 143,\n",
       " 144,\n",
       " 145,\n",
       " 146,\n",
       " 147,\n",
       " 148,\n",
       " 149,\n",
       " 150]"
      ]
     },
     "execution_count": 5,
     "metadata": {},
     "output_type": "execute_result"
    }
   ],
   "source": [
    "# Define new empty list\n",
    "numbers_list = []\n",
    "\n",
    "# Populate list with numbers between 100..150\n",
    "for x in range(100, 151):\n",
    "    numbers_list.append(x)\n",
    "\n",
    "# Print list\n",
    "numbers_list"
   ]
  },
  {
   "cell_type": "markdown",
   "metadata": {},
   "source": [
    "<h4>1.4 List of even numbers between 0 and 100</h4>"
   ]
  },
  {
   "cell_type": "code",
   "execution_count": 6,
   "metadata": {},
   "outputs": [
    {
     "data": {
      "text/plain": [
       "[0,\n",
       " 2,\n",
       " 4,\n",
       " 6,\n",
       " 8,\n",
       " 10,\n",
       " 12,\n",
       " 14,\n",
       " 16,\n",
       " 18,\n",
       " 20,\n",
       " 22,\n",
       " 24,\n",
       " 26,\n",
       " 28,\n",
       " 30,\n",
       " 32,\n",
       " 34,\n",
       " 36,\n",
       " 38,\n",
       " 40,\n",
       " 42,\n",
       " 44,\n",
       " 46,\n",
       " 48,\n",
       " 50,\n",
       " 52,\n",
       " 54,\n",
       " 56,\n",
       " 58,\n",
       " 60,\n",
       " 62,\n",
       " 64,\n",
       " 66,\n",
       " 68,\n",
       " 70,\n",
       " 72,\n",
       " 74,\n",
       " 76,\n",
       " 78,\n",
       " 80,\n",
       " 82,\n",
       " 84,\n",
       " 86,\n",
       " 88,\n",
       " 90,\n",
       " 92,\n",
       " 94,\n",
       " 96,\n",
       " 98,\n",
       " 100]"
      ]
     },
     "execution_count": 6,
     "metadata": {},
     "output_type": "execute_result"
    }
   ],
   "source": [
    "# Define new empty list\n",
    "evens_list = []\n",
    "\n",
    "# Populate list with even numbers between 0..100\n",
    "for y in range(0, 101):\n",
    "    if y % 2 == 0:\n",
    "        evens_list.append(y)\n",
    "\n",
    "# Print list\n",
    "evens_list"
   ]
  },
  {
   "cell_type": "markdown",
   "metadata": {},
   "source": [
    "<h4>1.5 List of years that are divisible by 4 between 1950 and 2020</h4>"
   ]
  },
  {
   "cell_type": "code",
   "execution_count": 7,
   "metadata": {},
   "outputs": [
    {
     "data": {
      "text/plain": [
       "[1952,\n",
       " 1956,\n",
       " 1960,\n",
       " 1964,\n",
       " 1968,\n",
       " 1972,\n",
       " 1976,\n",
       " 1980,\n",
       " 1984,\n",
       " 1988,\n",
       " 1992,\n",
       " 1996,\n",
       " 2000,\n",
       " 2004,\n",
       " 2008,\n",
       " 2012,\n",
       " 2016,\n",
       " 2020]"
      ]
     },
     "execution_count": 7,
     "metadata": {},
     "output_type": "execute_result"
    }
   ],
   "source": [
    "# Define new empty list\n",
    "years_list = []\n",
    "\n",
    "# Populate list with years that are divisible by 4 between 1950 and 2020\n",
    "for x in range(1950, 2021):\n",
    "    if x % 4 == 0:\n",
    "        years_list.append(x)\n",
    "\n",
    "# Print list\n",
    "years_list"
   ]
  },
  {
   "attachments": {},
   "cell_type": "markdown",
   "metadata": {},
   "source": [
    "<h4><b>2.\tNow, create these arrays with NumPy!</b></h4>\n",
    "\n",
    "- Array of 15 zeroes\n",
    "\n",
    "- Array of 15 ones\n",
    "\n",
    "- Array of 15 number 7's\n",
    "\n",
    "- Array of numbers from 100 to 150\n",
    "\n",
    "- Array of numbers from 1900 to 2021\n",
    "\n",
    "- Array of even numbers between 0 and 100\n",
    "\n",
    "- Array of years that are divisible by 4 between 1950 and 2020\n",
    "\n"
   ]
  },
  {
   "cell_type": "markdown",
   "metadata": {},
   "source": [
    "<h4>2.1 Array of 15 zeroes</h4>"
   ]
  },
  {
   "cell_type": "code",
   "execution_count": 8,
   "metadata": {},
   "outputs": [
    {
     "data": {
      "text/html": [
       "<table style='border-style:solid;border-width:1px;'>\n",
       "<tr><td style=\"font-family:monospace;white-space: pre;\" title=\"0\"><center>0</center></td></tr>\n",
       "<tr><td style=\"font-family:monospace;white-space: pre;\" title=\"1\"><center>0</center></td></tr>\n",
       "<tr><td style=\"font-family:monospace;white-space: pre;\" title=\"2\"><center>0</center></td></tr>\n",
       "<tr><td style=\"font-family:monospace;white-space: pre;\" title=\"3\"><center>0</center></td></tr>\n",
       "<tr><td style=\"font-family:monospace;white-space: pre;\" title=\"4\"><center>0</center></td></tr>\n",
       "<tr><td style=\"font-family:monospace;white-space: pre;\" title=\"5\"><center>0</center></td></tr>\n",
       "<tr><td style=\"font-family:monospace;white-space: pre;\" title=\"6\"><center>0</center></td></tr>\n",
       "<tr><td style=\"font-family:monospace;white-space: pre;\" title=\"7\"><center>0</center></td></tr>\n",
       "<tr><td style=\"font-family:monospace;white-space: pre;\" title=\"8\"><center>0</center></td></tr>\n",
       "<tr><td style=\"font-family:monospace;white-space: pre;\" title=\"9\"><center>0</center></td></tr>\n",
       "<tr><td style=\"font-family:monospace;white-space: pre;\" title=\"10\"><center>0</center></td></tr>\n",
       "<tr><td style=\"font-family:monospace;white-space: pre;\" title=\"11\"><center>0</center></td></tr>\n",
       "<tr><td style=\"font-family:monospace;white-space: pre;\" title=\"12\"><center>0</center></td></tr>\n",
       "<tr><td style=\"font-family:monospace;white-space: pre;\" title=\"13\"><center>0</center></td></tr>\n",
       "<tr><td style=\"font-family:monospace;white-space: pre;\" title=\"14\"><center>0</center></td></tr>\n",
       "</table>"
      ],
      "text/plain": [
       "array([0, 0, 0, 0, 0, 0, 0, 0, 0, 0, 0, 0, 0, 0, 0])"
      ]
     },
     "execution_count": 8,
     "metadata": {},
     "output_type": "execute_result"
    }
   ],
   "source": [
    "# Create array of 15 zeros\n",
    "np.zeros(15, dtype=int)"
   ]
  },
  {
   "cell_type": "markdown",
   "metadata": {},
   "source": [
    "<h4>2.2 Array of 15 ones</h4>"
   ]
  },
  {
   "cell_type": "code",
   "execution_count": 9,
   "metadata": {},
   "outputs": [
    {
     "data": {
      "text/html": [
       "<table style='border-style:solid;border-width:1px;'>\n",
       "<tr><td style=\"font-family:monospace;white-space: pre;\" title=\"0\"><center>1</center></td></tr>\n",
       "<tr><td style=\"font-family:monospace;white-space: pre;\" title=\"1\"><center>1</center></td></tr>\n",
       "<tr><td style=\"font-family:monospace;white-space: pre;\" title=\"2\"><center>1</center></td></tr>\n",
       "<tr><td style=\"font-family:monospace;white-space: pre;\" title=\"3\"><center>1</center></td></tr>\n",
       "<tr><td style=\"font-family:monospace;white-space: pre;\" title=\"4\"><center>1</center></td></tr>\n",
       "<tr><td style=\"font-family:monospace;white-space: pre;\" title=\"5\"><center>1</center></td></tr>\n",
       "<tr><td style=\"font-family:monospace;white-space: pre;\" title=\"6\"><center>1</center></td></tr>\n",
       "<tr><td style=\"font-family:monospace;white-space: pre;\" title=\"7\"><center>1</center></td></tr>\n",
       "<tr><td style=\"font-family:monospace;white-space: pre;\" title=\"8\"><center>1</center></td></tr>\n",
       "<tr><td style=\"font-family:monospace;white-space: pre;\" title=\"9\"><center>1</center></td></tr>\n",
       "<tr><td style=\"font-family:monospace;white-space: pre;\" title=\"10\"><center>1</center></td></tr>\n",
       "<tr><td style=\"font-family:monospace;white-space: pre;\" title=\"11\"><center>1</center></td></tr>\n",
       "<tr><td style=\"font-family:monospace;white-space: pre;\" title=\"12\"><center>1</center></td></tr>\n",
       "<tr><td style=\"font-family:monospace;white-space: pre;\" title=\"13\"><center>1</center></td></tr>\n",
       "<tr><td style=\"font-family:monospace;white-space: pre;\" title=\"14\"><center>1</center></td></tr>\n",
       "</table>"
      ],
      "text/plain": [
       "array([1, 1, 1, 1, 1, 1, 1, 1, 1, 1, 1, 1, 1, 1, 1])"
      ]
     },
     "execution_count": 9,
     "metadata": {},
     "output_type": "execute_result"
    }
   ],
   "source": [
    "# Create array of 15 ones\n",
    "np.ones(15, dtype=int)"
   ]
  },
  {
   "cell_type": "markdown",
   "metadata": {},
   "source": [
    "<h4>2.3 Array of 15 number 7's</h4>"
   ]
  },
  {
   "cell_type": "code",
   "execution_count": 10,
   "metadata": {},
   "outputs": [
    {
     "data": {
      "text/html": [
       "<table style='border-style:solid;border-width:1px;'>\n",
       "<tr><td style=\"font-family:monospace;white-space: pre;\" title=\"0\"><center>7</center></td></tr>\n",
       "<tr><td style=\"font-family:monospace;white-space: pre;\" title=\"1\"><center>7</center></td></tr>\n",
       "<tr><td style=\"font-family:monospace;white-space: pre;\" title=\"2\"><center>7</center></td></tr>\n",
       "<tr><td style=\"font-family:monospace;white-space: pre;\" title=\"3\"><center>7</center></td></tr>\n",
       "<tr><td style=\"font-family:monospace;white-space: pre;\" title=\"4\"><center>7</center></td></tr>\n",
       "<tr><td style=\"font-family:monospace;white-space: pre;\" title=\"5\"><center>7</center></td></tr>\n",
       "<tr><td style=\"font-family:monospace;white-space: pre;\" title=\"6\"><center>7</center></td></tr>\n",
       "<tr><td style=\"font-family:monospace;white-space: pre;\" title=\"7\"><center>7</center></td></tr>\n",
       "<tr><td style=\"font-family:monospace;white-space: pre;\" title=\"8\"><center>7</center></td></tr>\n",
       "<tr><td style=\"font-family:monospace;white-space: pre;\" title=\"9\"><center>7</center></td></tr>\n",
       "<tr><td style=\"font-family:monospace;white-space: pre;\" title=\"10\"><center>7</center></td></tr>\n",
       "<tr><td style=\"font-family:monospace;white-space: pre;\" title=\"11\"><center>7</center></td></tr>\n",
       "<tr><td style=\"font-family:monospace;white-space: pre;\" title=\"12\"><center>7</center></td></tr>\n",
       "<tr><td style=\"font-family:monospace;white-space: pre;\" title=\"13\"><center>7</center></td></tr>\n",
       "<tr><td style=\"font-family:monospace;white-space: pre;\" title=\"14\"><center>7</center></td></tr>\n",
       "</table>"
      ],
      "text/plain": [
       "array([7, 7, 7, 7, 7, 7, 7, 7, 7, 7, 7, 7, 7, 7, 7])"
      ]
     },
     "execution_count": 10,
     "metadata": {},
     "output_type": "execute_result"
    }
   ],
   "source": [
    "# Create array of 15 sevens\n",
    "np.full(15, 7)"
   ]
  },
  {
   "cell_type": "markdown",
   "metadata": {},
   "source": [
    "<h4>2.4 Array of numbers from 100 to 150</h4>"
   ]
  },
  {
   "cell_type": "code",
   "execution_count": 11,
   "metadata": {},
   "outputs": [
    {
     "data": {
      "text/html": [
       "<table style='border-style:solid;border-width:1px;'>\n",
       "<tr><td style=\"font-family:monospace;white-space: pre;\" title=\"0\"><center>100</center></td></tr>\n",
       "<tr><td style=\"font-family:monospace;white-space: pre;\" title=\"1\"><center>101</center></td></tr>\n",
       "<tr><td style=\"font-family:monospace;white-space: pre;\" title=\"2\"><center>102</center></td></tr>\n",
       "<tr><td style=\"font-family:monospace;white-space: pre;\" title=\"3\"><center>103</center></td></tr>\n",
       "<tr><td style=\"font-family:monospace;white-space: pre;\" title=\"4\"><center>104</center></td></tr>\n",
       "<tr><td style=\"font-family:monospace;white-space: pre;\" title=\"5\"><center>105</center></td></tr>\n",
       "<tr><td style=\"font-family:monospace;white-space: pre;\" title=\"6\"><center>106</center></td></tr>\n",
       "<tr><td style=\"font-family:monospace;white-space: pre;\" title=\"7\"><center>107</center></td></tr>\n",
       "<tr><td style=\"font-family:monospace;white-space: pre;\" title=\"8\"><center>108</center></td></tr>\n",
       "<tr><td style=\"font-family:monospace;white-space: pre;\" title=\"9\"><center>109</center></td></tr>\n",
       "<tr><td style=\"font-family:monospace;white-space: pre;\" title=\"10\"><center>110</center></td></tr>\n",
       "<tr><td style=\"font-family:monospace;white-space: pre;\" title=\"11\"><center>111</center></td></tr>\n",
       "<tr><td style=\"font-family:monospace;white-space: pre;\" title=\"12\"><center>112</center></td></tr>\n",
       "<tr><td style=\"font-family:monospace;white-space: pre;\" title=\"13\"><center>113</center></td></tr>\n",
       "<tr><td style=\"font-family:monospace;white-space: pre;\" title=\"14\"><center>114</center></td></tr>\n",
       "<tr><td style=\"font-family:monospace;white-space: pre;\" title=\"15\"><center>115</center></td></tr>\n",
       "<tr><td style=\"font-family:monospace;white-space: pre;\" title=\"16\"><center>116</center></td></tr>\n",
       "<tr><td style=\"font-family:monospace;white-space: pre;\" title=\"17\"><center>117</center></td></tr>\n",
       "<tr><td style=\"font-family:monospace;white-space: pre;\" title=\"18\"><center>118</center></td></tr>\n",
       "<tr><td style=\"font-family:monospace;white-space: pre;\" title=\"19\"><center>119</center></td></tr>\n",
       "<tr><td style=\"font-family:monospace;white-space: pre;\" title=\"20\"><center>120</center></td></tr>\n",
       "<tr><td style=\"font-family:monospace;white-space: pre;\" title=\"21\"><center>121</center></td></tr>\n",
       "<tr><td style=\"font-family:monospace;white-space: pre;\" title=\"22\"><center>122</center></td></tr>\n",
       "<tr><td style=\"font-family:monospace;white-space: pre;\" title=\"23\"><center>123</center></td></tr>\n",
       "<tr><td style=\"font-family:monospace;white-space: pre;\" title=\"24\"><center>124</center></td></tr>\n",
       "<tr><td style=\"font-family:monospace;white-space: pre;\" title=\"25\"><center>125</center></td></tr>\n",
       "<tr><td style=\"font-family:monospace;white-space: pre;\" title=\"26\"><center>126</center></td></tr>\n",
       "<tr><td style=\"font-family:monospace;white-space: pre;\" title=\"27\"><center>127</center></td></tr>\n",
       "<tr><td style=\"font-family:monospace;white-space: pre;\" title=\"28\"><center>128</center></td></tr>\n",
       "<tr><td style=\"font-family:monospace;white-space: pre;\" title=\"29\"><center>129</center></td></tr>\n",
       "<tr><td style=\"font-family:monospace;white-space: pre;\" title=\"30\"><center>130</center></td></tr>\n",
       "<tr><td style=\"font-family:monospace;white-space: pre;\" title=\"31\"><center>131</center></td></tr>\n",
       "<tr><td style=\"font-family:monospace;white-space: pre;\" title=\"32\"><center>132</center></td></tr>\n",
       "<tr><td style=\"font-family:monospace;white-space: pre;\" title=\"33\"><center>133</center></td></tr>\n",
       "<tr><td style=\"font-family:monospace;white-space: pre;\" title=\"34\"><center>134</center></td></tr>\n",
       "<tr><td style=\"font-family:monospace;white-space: pre;\" title=\"35\"><center>135</center></td></tr>\n",
       "<tr><td style=\"font-family:monospace;white-space: pre;\" title=\"36\"><center>136</center></td></tr>\n",
       "<tr><td style=\"font-family:monospace;white-space: pre;\" title=\"37\"><center>137</center></td></tr>\n",
       "<tr><td style=\"font-family:monospace;white-space: pre;\" title=\"38\"><center>138</center></td></tr>\n",
       "<tr><td style=\"font-family:monospace;white-space: pre;\" title=\"39\"><center>139</center></td></tr>\n",
       "<tr><td style=\"font-family:monospace;white-space: pre;\" title=\"40\"><center>140</center></td></tr>\n",
       "<tr><td style=\"font-family:monospace;white-space: pre;\" title=\"41\"><center>141</center></td></tr>\n",
       "<tr><td style=\"font-family:monospace;white-space: pre;\" title=\"42\"><center>142</center></td></tr>\n",
       "<tr><td style=\"font-family:monospace;white-space: pre;\" title=\"43\"><center>143</center></td></tr>\n",
       "<tr><td style=\"font-family:monospace;white-space: pre;\" title=\"44\"><center>144</center></td></tr>\n",
       "<tr><td style=\"font-family:monospace;white-space: pre;\" title=\"45\"><center>145</center></td></tr>\n",
       "<tr><td style=\"font-family:monospace;white-space: pre;\" title=\"46\"><center>146</center></td></tr>\n",
       "<tr><td style=\"font-family:monospace;white-space: pre;\" title=\"47\"><center>147</center></td></tr>\n",
       "<tr><td style=\"font-family:monospace;white-space: pre;\" title=\"48\"><center>148</center></td></tr>\n",
       "<tr><td style=\"font-family:monospace;white-space: pre;\" title=\"49\"><center>149</center></td></tr>\n",
       "<tr><td style=\"font-family:monospace;white-space: pre;\" title=\"50\"><center>150</center></td></tr>\n",
       "</table>"
      ],
      "text/plain": [
       "array([100, 101, 102, 103, 104, 105, 106, 107, 108, 109, 110, 111, 112,\n",
       "       113, 114, 115, 116, 117, 118, 119, 120, 121, 122, 123, 124, 125,\n",
       "       126, 127, 128, 129, 130, 131, 132, 133, 134, 135, 136, 137, 138,\n",
       "       139, 140, 141, 142, 143, 144, 145, 146, 147, 148, 149, 150])"
      ]
     },
     "execution_count": 11,
     "metadata": {},
     "output_type": "execute_result"
    }
   ],
   "source": [
    "# Create array of numbers between 100..150\n",
    "np.arange(100, 151, 1)"
   ]
  },
  {
   "cell_type": "markdown",
   "metadata": {},
   "source": [
    "<h4>2.5 Array of numbers from 1900 to 2021</h4>"
   ]
  },
  {
   "cell_type": "code",
   "execution_count": 12,
   "metadata": {},
   "outputs": [
    {
     "data": {
      "text/html": [
       "<table style='border-style:solid;border-width:1px;'>\n",
       "<tr><td style=\"font-family:monospace;white-space: pre;\" title=\"0\"><center>1900</center></td></tr>\n",
       "<tr><td style=\"font-family:monospace;white-space: pre;\" title=\"1\"><center>1901</center></td></tr>\n",
       "<tr><td style=\"font-family:monospace;white-space: pre;\" title=\"2\"><center>1902</center></td></tr>\n",
       "<tr><td style=\"font-family:monospace;white-space: pre;\" title=\"3\"><center>1903</center></td></tr>\n",
       "<tr><td style=\"font-family:monospace;white-space: pre;\" title=\"4\"><center>1904</center></td></tr>\n",
       "<tr><td style=\"font-family:monospace;white-space: pre;\" title=\"5\"><center>1905</center></td></tr>\n",
       "<tr><td style=\"font-family:monospace;white-space: pre;\" title=\"6\"><center>1906</center></td></tr>\n",
       "<tr><td style=\"font-family:monospace;white-space: pre;\" title=\"7\"><center>1907</center></td></tr>\n",
       "<tr><td style=\"font-family:monospace;white-space: pre;\" title=\"8\"><center>1908</center></td></tr>\n",
       "<tr><td style=\"font-family:monospace;white-space: pre;\" title=\"9\"><center>1909</center></td></tr>\n",
       "<tr><td style=\"font-family:monospace;white-space: pre;\" title=\"10\"><center>1910</center></td></tr>\n",
       "<tr><td style=\"font-family:monospace;white-space: pre;\" title=\"11\"><center>1911</center></td></tr>\n",
       "<tr><td style=\"font-family:monospace;white-space: pre;\" title=\"12\"><center>1912</center></td></tr>\n",
       "<tr><td style=\"font-family:monospace;white-space: pre;\" title=\"13\"><center>1913</center></td></tr>\n",
       "<tr><td style=\"font-family:monospace;white-space: pre;\" title=\"14\"><center>1914</center></td></tr>\n",
       "<tr><td style=\"font-family:monospace;white-space: pre;\" title=\"15\"><center>1915</center></td></tr>\n",
       "<tr><td style=\"font-family:monospace;white-space: pre;\" title=\"16\"><center>1916</center></td></tr>\n",
       "<tr><td style=\"font-family:monospace;white-space: pre;\" title=\"17\"><center>1917</center></td></tr>\n",
       "<tr><td style=\"font-family:monospace;white-space: pre;\" title=\"18\"><center>1918</center></td></tr>\n",
       "<tr><td style=\"font-family:monospace;white-space: pre;\" title=\"19\"><center>1919</center></td></tr>\n",
       "<tr><td style=\"font-family:monospace;white-space: pre;\" title=\"20\"><center>1920</center></td></tr>\n",
       "<tr><td style=\"font-family:monospace;white-space: pre;\" title=\"21\"><center>1921</center></td></tr>\n",
       "<tr><td style=\"font-family:monospace;white-space: pre;\" title=\"22\"><center>1922</center></td></tr>\n",
       "<tr><td style=\"font-family:monospace;white-space: pre;\" title=\"23\"><center>1923</center></td></tr>\n",
       "<tr><td style=\"font-family:monospace;white-space: pre;\" title=\"24\"><center>1924</center></td></tr>\n",
       "<tr><td style=\"font-family:monospace;white-space: pre;\" title=\"25\"><center>1925</center></td></tr>\n",
       "<tr><td style=\"font-family:monospace;white-space: pre;\" title=\"26\"><center>1926</center></td></tr>\n",
       "<tr><td style=\"font-family:monospace;white-space: pre;\" title=\"27\"><center>1927</center></td></tr>\n",
       "<tr><td style=\"font-family:monospace;white-space: pre;\" title=\"28\"><center>1928</center></td></tr>\n",
       "<tr><td style=\"font-family:monospace;white-space: pre;\" title=\"29\"><center>1929</center></td></tr>\n",
       "<tr><td style=\"font-family:monospace;white-space: pre;\" title=\"30\"><center>1930</center></td></tr>\n",
       "<tr><td style=\"font-family:monospace;white-space: pre;\" title=\"31\"><center>1931</center></td></tr>\n",
       "<tr><td style=\"font-family:monospace;white-space: pre;\" title=\"32\"><center>1932</center></td></tr>\n",
       "<tr><td style=\"font-family:monospace;white-space: pre;\" title=\"33\"><center>1933</center></td></tr>\n",
       "<tr><td style=\"font-family:monospace;white-space: pre;\" title=\"34\"><center>1934</center></td></tr>\n",
       "<tr><td style=\"font-family:monospace;white-space: pre;\" title=\"35\"><center>1935</center></td></tr>\n",
       "<tr><td style=\"font-family:monospace;white-space: pre;\" title=\"36\"><center>1936</center></td></tr>\n",
       "<tr><td style=\"font-family:monospace;white-space: pre;\" title=\"37\"><center>1937</center></td></tr>\n",
       "<tr><td style=\"font-family:monospace;white-space: pre;\" title=\"38\"><center>1938</center></td></tr>\n",
       "<tr><td style=\"font-family:monospace;white-space: pre;\" title=\"39\"><center>1939</center></td></tr>\n",
       "<tr><td style=\"font-family:monospace;white-space: pre;\" title=\"40\"><center>1940</center></td></tr>\n",
       "<tr><td style=\"font-family:monospace;white-space: pre;\" title=\"41\"><center>1941</center></td></tr>\n",
       "<tr><td style=\"font-family:monospace;white-space: pre;\" title=\"42\"><center>1942</center></td></tr>\n",
       "<tr><td style=\"font-family:monospace;white-space: pre;\" title=\"43\"><center>1943</center></td></tr>\n",
       "<tr><td style=\"font-family:monospace;white-space: pre;\" title=\"44\"><center>1944</center></td></tr>\n",
       "<tr><td style=\"font-family:monospace;white-space: pre;\" title=\"45\"><center>1945</center></td></tr>\n",
       "<tr><td style=\"font-family:monospace;white-space: pre;\" title=\"46\"><center>1946</center></td></tr>\n",
       "<tr><td style=\"font-family:monospace;white-space: pre;\" title=\"47\"><center>1947</center></td></tr>\n",
       "<tr><td style=\"font-family:monospace;white-space: pre;\" title=\"48\"><center>1948</center></td></tr>\n",
       "<tr><td style=\"font-family:monospace;white-space: pre;\" title=\"49\"><center>1949</center></td></tr>\n",
       "<tr><td style=\"font-family:monospace;white-space: pre;\" title=\"50\"><center>1950</center></td></tr>\n",
       "<tr><td style=\"font-family:monospace;white-space: pre;\" title=\"51\"><center>1951</center></td></tr>\n",
       "<tr><td style=\"font-family:monospace;white-space: pre;\" title=\"52\"><center>1952</center></td></tr>\n",
       "<tr><td style=\"font-family:monospace;white-space: pre;\" title=\"53\"><center>1953</center></td></tr>\n",
       "<tr><td style=\"font-family:monospace;white-space: pre;\" title=\"54\"><center>1954</center></td></tr>\n",
       "<tr><td style=\"font-family:monospace;white-space: pre;\" title=\"55\"><center>1955</center></td></tr>\n",
       "<tr><td style=\"font-family:monospace;white-space: pre;\" title=\"56\"><center>1956</center></td></tr>\n",
       "<tr><td style=\"font-family:monospace;white-space: pre;\" title=\"57\"><center>1957</center></td></tr>\n",
       "<tr><td style=\"font-family:monospace;white-space: pre;\" title=\"58\"><center>1958</center></td></tr>\n",
       "<tr><td style=\"font-family:monospace;white-space: pre;\" title=\"59\"><center>1959</center></td></tr>\n",
       "<tr><td style=\"font-family:monospace;white-space: pre;\" title=\"60\"><center>1960</center></td></tr>\n",
       "<tr><td style=\"font-family:monospace;white-space: pre;\" title=\"61\"><center>1961</center></td></tr>\n",
       "<tr><td style=\"font-family:monospace;white-space: pre;\" title=\"62\"><center>1962</center></td></tr>\n",
       "<tr><td style=\"font-family:monospace;white-space: pre;\" title=\"63\"><center>1963</center></td></tr>\n",
       "<tr><td style=\"font-family:monospace;white-space: pre;\" title=\"64\"><center>1964</center></td></tr>\n",
       "<tr><td style=\"font-family:monospace;white-space: pre;\" title=\"65\"><center>1965</center></td></tr>\n",
       "<tr><td style=\"font-family:monospace;white-space: pre;\" title=\"66\"><center>1966</center></td></tr>\n",
       "<tr><td style=\"font-family:monospace;white-space: pre;\" title=\"67\"><center>1967</center></td></tr>\n",
       "<tr><td style=\"font-family:monospace;white-space: pre;\" title=\"68\"><center>1968</center></td></tr>\n",
       "<tr><td style=\"font-family:monospace;white-space: pre;\" title=\"69\"><center>1969</center></td></tr>\n",
       "<tr><td style=\"font-family:monospace;white-space: pre;\" title=\"70\"><center>1970</center></td></tr>\n",
       "<tr><td style=\"font-family:monospace;white-space: pre;\" title=\"71\"><center>1971</center></td></tr>\n",
       "<tr><td style=\"font-family:monospace;white-space: pre;\" title=\"72\"><center>1972</center></td></tr>\n",
       "<tr><td style=\"font-family:monospace;white-space: pre;\" title=\"73\"><center>1973</center></td></tr>\n",
       "<tr><td style=\"font-family:monospace;white-space: pre;\" title=\"74\"><center>1974</center></td></tr>\n",
       "<tr><td style=\"font-family:monospace;white-space: pre;\" title=\"75\"><center>1975</center></td></tr>\n",
       "<tr><td style=\"font-family:monospace;white-space: pre;\" title=\"76\"><center>1976</center></td></tr>\n",
       "<tr><td style=\"font-family:monospace;white-space: pre;\" title=\"77\"><center>1977</center></td></tr>\n",
       "<tr><td style=\"font-family:monospace;white-space: pre;\" title=\"78\"><center>1978</center></td></tr>\n",
       "<tr><td style=\"font-family:monospace;white-space: pre;\" title=\"79\"><center>1979</center></td></tr>\n",
       "<tr><td style=\"font-family:monospace;white-space: pre;\" title=\"80\"><center>1980</center></td></tr>\n",
       "<tr><td style=\"font-family:monospace;white-space: pre;\" title=\"81\"><center>1981</center></td></tr>\n",
       "<tr><td style=\"font-family:monospace;white-space: pre;\" title=\"82\"><center>1982</center></td></tr>\n",
       "<tr><td style=\"font-family:monospace;white-space: pre;\" title=\"83\"><center>1983</center></td></tr>\n",
       "<tr><td style=\"font-family:monospace;white-space: pre;\" title=\"84\"><center>1984</center></td></tr>\n",
       "<tr><td style=\"font-family:monospace;white-space: pre;\" title=\"85\"><center>1985</center></td></tr>\n",
       "<tr><td style=\"font-family:monospace;white-space: pre;\" title=\"86\"><center>1986</center></td></tr>\n",
       "<tr><td style=\"font-family:monospace;white-space: pre;\" title=\"87\"><center>1987</center></td></tr>\n",
       "<tr><td style=\"font-family:monospace;white-space: pre;\" title=\"88\"><center>1988</center></td></tr>\n",
       "<tr><td style=\"font-family:monospace;white-space: pre;\" title=\"89\"><center>1989</center></td></tr>\n",
       "<tr><td style=\"font-family:monospace;white-space: pre;\" title=\"90\"><center>1990</center></td></tr>\n",
       "<tr><td style=\"font-family:monospace;white-space: pre;\" title=\"91\"><center>1991</center></td></tr>\n",
       "<tr><td style=\"font-family:monospace;white-space: pre;\" title=\"92\"><center>1992</center></td></tr>\n",
       "<tr><td style=\"font-family:monospace;white-space: pre;\" title=\"93\"><center>1993</center></td></tr>\n",
       "<tr><td style=\"font-family:monospace;white-space: pre;\" title=\"94\"><center>1994</center></td></tr>\n",
       "<tr><td style=\"font-family:monospace;white-space: pre;\" title=\"95\"><center>1995</center></td></tr>\n",
       "<tr><td style=\"font-family:monospace;white-space: pre;\" title=\"96\"><center>1996</center></td></tr>\n",
       "<tr><td style=\"font-family:monospace;white-space: pre;\" title=\"97\"><center>1997</center></td></tr>\n",
       "<tr><td style=\"font-family:monospace;white-space: pre;\" title=\"98\"><center>1998</center></td></tr>\n",
       "<tr><td style=\"font-family:monospace;white-space: pre;\" title=\"99\"><center>1999</center></td></tr>\n",
       "<tr><td style=\"font-family:monospace;white-space: pre;\" title=\"100\"><center>2000</center></td></tr>\n",
       "<tr><td style=\"font-family:monospace;white-space: pre;\" title=\"101\"><center>2001</center></td></tr>\n",
       "<tr><td style=\"font-family:monospace;white-space: pre;\" title=\"102\"><center>2002</center></td></tr>\n",
       "<tr><td style=\"font-family:monospace;white-space: pre;\" title=\"103\"><center>2003</center></td></tr>\n",
       "<tr><td style=\"font-family:monospace;white-space: pre;\" title=\"104\"><center>2004</center></td></tr>\n",
       "<tr><td style=\"font-family:monospace;white-space: pre;\" title=\"105\"><center>2005</center></td></tr>\n",
       "<tr><td style=\"font-family:monospace;white-space: pre;\" title=\"106\"><center>2006</center></td></tr>\n",
       "<tr><td style=\"font-family:monospace;white-space: pre;\" title=\"107\"><center>2007</center></td></tr>\n",
       "<tr><td style=\"font-family:monospace;white-space: pre;\" title=\"108\"><center>2008</center></td></tr>\n",
       "<tr><td style=\"font-family:monospace;white-space: pre;\" title=\"109\"><center>2009</center></td></tr>\n",
       "<tr><td style=\"font-family:monospace;white-space: pre;\" title=\"110\"><center>2010</center></td></tr>\n",
       "<tr><td style=\"font-family:monospace;white-space: pre;\" title=\"111\"><center>2011</center></td></tr>\n",
       "<tr><td style=\"font-family:monospace;white-space: pre;\" title=\"112\"><center>2012</center></td></tr>\n",
       "<tr><td style=\"font-family:monospace;white-space: pre;\" title=\"113\"><center>2013</center></td></tr>\n",
       "<tr><td style=\"font-family:monospace;white-space: pre;\" title=\"114\"><center>2014</center></td></tr>\n",
       "<tr><td style=\"font-family:monospace;white-space: pre;\" title=\"115\"><center>2015</center></td></tr>\n",
       "<tr><td style=\"font-family:monospace;white-space: pre;\" title=\"116\"><center>2016</center></td></tr>\n",
       "<tr><td style=\"font-family:monospace;white-space: pre;\" title=\"117\"><center>2017</center></td></tr>\n",
       "<tr><td style=\"font-family:monospace;white-space: pre;\" title=\"118\"><center>2018</center></td></tr>\n",
       "<tr><td style=\"font-family:monospace;white-space: pre;\" title=\"119\"><center>2019</center></td></tr>\n",
       "<tr><td style=\"font-family:monospace;white-space: pre;\" title=\"120\"><center>2020</center></td></tr>\n",
       "<tr><td style=\"font-family:monospace;white-space: pre;\" title=\"121\"><center>2021</center></td></tr>\n",
       "</table>"
      ],
      "text/plain": [
       "array([1900, 1901, 1902, 1903, 1904, 1905, 1906, 1907, 1908, 1909, 1910,\n",
       "       1911, 1912, 1913, 1914, 1915, 1916, 1917, 1918, 1919, 1920, 1921,\n",
       "       1922, 1923, 1924, 1925, 1926, 1927, 1928, 1929, 1930, 1931, 1932,\n",
       "       1933, 1934, 1935, 1936, 1937, 1938, 1939, 1940, 1941, 1942, 1943,\n",
       "       1944, 1945, 1946, 1947, 1948, 1949, 1950, 1951, 1952, 1953, 1954,\n",
       "       1955, 1956, 1957, 1958, 1959, 1960, 1961, 1962, 1963, 1964, 1965,\n",
       "       1966, 1967, 1968, 1969, 1970, 1971, 1972, 1973, 1974, 1975, 1976,\n",
       "       1977, 1978, 1979, 1980, 1981, 1982, 1983, 1984, 1985, 1986, 1987,\n",
       "       1988, 1989, 1990, 1991, 1992, 1993, 1994, 1995, 1996, 1997, 1998,\n",
       "       1999, 2000, 2001, 2002, 2003, 2004, 2005, 2006, 2007, 2008, 2009,\n",
       "       2010, 2011, 2012, 2013, 2014, 2015, 2016, 2017, 2018, 2019, 2020,\n",
       "       2021])"
      ]
     },
     "execution_count": 12,
     "metadata": {},
     "output_type": "execute_result"
    }
   ],
   "source": [
    "# Create array of numbers between 1900..2021\n",
    "np.arange(1900, 2022, 1)"
   ]
  },
  {
   "cell_type": "markdown",
   "metadata": {},
   "source": [
    "<h4>2.6 Array of even numbers between 0 and 100</h4>"
   ]
  },
  {
   "cell_type": "code",
   "execution_count": 13,
   "metadata": {},
   "outputs": [
    {
     "data": {
      "text/html": [
       "<table style='border-style:solid;border-width:1px;'>\n",
       "<tr><td style=\"font-family:monospace;white-space: pre;\" title=\"0\"><center>0  </center></td></tr>\n",
       "<tr><td style=\"font-family:monospace;white-space: pre;\" title=\"1\"><center>2  </center></td></tr>\n",
       "<tr><td style=\"font-family:monospace;white-space: pre;\" title=\"2\"><center>4  </center></td></tr>\n",
       "<tr><td style=\"font-family:monospace;white-space: pre;\" title=\"3\"><center>6  </center></td></tr>\n",
       "<tr><td style=\"font-family:monospace;white-space: pre;\" title=\"4\"><center>8  </center></td></tr>\n",
       "<tr><td style=\"font-family:monospace;white-space: pre;\" title=\"5\"><center>10 </center></td></tr>\n",
       "<tr><td style=\"font-family:monospace;white-space: pre;\" title=\"6\"><center>12 </center></td></tr>\n",
       "<tr><td style=\"font-family:monospace;white-space: pre;\" title=\"7\"><center>14 </center></td></tr>\n",
       "<tr><td style=\"font-family:monospace;white-space: pre;\" title=\"8\"><center>16 </center></td></tr>\n",
       "<tr><td style=\"font-family:monospace;white-space: pre;\" title=\"9\"><center>18 </center></td></tr>\n",
       "<tr><td style=\"font-family:monospace;white-space: pre;\" title=\"10\"><center>20 </center></td></tr>\n",
       "<tr><td style=\"font-family:monospace;white-space: pre;\" title=\"11\"><center>22 </center></td></tr>\n",
       "<tr><td style=\"font-family:monospace;white-space: pre;\" title=\"12\"><center>24 </center></td></tr>\n",
       "<tr><td style=\"font-family:monospace;white-space: pre;\" title=\"13\"><center>26 </center></td></tr>\n",
       "<tr><td style=\"font-family:monospace;white-space: pre;\" title=\"14\"><center>28 </center></td></tr>\n",
       "<tr><td style=\"font-family:monospace;white-space: pre;\" title=\"15\"><center>30 </center></td></tr>\n",
       "<tr><td style=\"font-family:monospace;white-space: pre;\" title=\"16\"><center>32 </center></td></tr>\n",
       "<tr><td style=\"font-family:monospace;white-space: pre;\" title=\"17\"><center>34 </center></td></tr>\n",
       "<tr><td style=\"font-family:monospace;white-space: pre;\" title=\"18\"><center>36 </center></td></tr>\n",
       "<tr><td style=\"font-family:monospace;white-space: pre;\" title=\"19\"><center>38 </center></td></tr>\n",
       "<tr><td style=\"font-family:monospace;white-space: pre;\" title=\"20\"><center>40 </center></td></tr>\n",
       "<tr><td style=\"font-family:monospace;white-space: pre;\" title=\"21\"><center>42 </center></td></tr>\n",
       "<tr><td style=\"font-family:monospace;white-space: pre;\" title=\"22\"><center>44 </center></td></tr>\n",
       "<tr><td style=\"font-family:monospace;white-space: pre;\" title=\"23\"><center>46 </center></td></tr>\n",
       "<tr><td style=\"font-family:monospace;white-space: pre;\" title=\"24\"><center>48 </center></td></tr>\n",
       "<tr><td style=\"font-family:monospace;white-space: pre;\" title=\"25\"><center>50 </center></td></tr>\n",
       "<tr><td style=\"font-family:monospace;white-space: pre;\" title=\"26\"><center>52 </center></td></tr>\n",
       "<tr><td style=\"font-family:monospace;white-space: pre;\" title=\"27\"><center>54 </center></td></tr>\n",
       "<tr><td style=\"font-family:monospace;white-space: pre;\" title=\"28\"><center>56 </center></td></tr>\n",
       "<tr><td style=\"font-family:monospace;white-space: pre;\" title=\"29\"><center>58 </center></td></tr>\n",
       "<tr><td style=\"font-family:monospace;white-space: pre;\" title=\"30\"><center>60 </center></td></tr>\n",
       "<tr><td style=\"font-family:monospace;white-space: pre;\" title=\"31\"><center>62 </center></td></tr>\n",
       "<tr><td style=\"font-family:monospace;white-space: pre;\" title=\"32\"><center>64 </center></td></tr>\n",
       "<tr><td style=\"font-family:monospace;white-space: pre;\" title=\"33\"><center>66 </center></td></tr>\n",
       "<tr><td style=\"font-family:monospace;white-space: pre;\" title=\"34\"><center>68 </center></td></tr>\n",
       "<tr><td style=\"font-family:monospace;white-space: pre;\" title=\"35\"><center>70 </center></td></tr>\n",
       "<tr><td style=\"font-family:monospace;white-space: pre;\" title=\"36\"><center>72 </center></td></tr>\n",
       "<tr><td style=\"font-family:monospace;white-space: pre;\" title=\"37\"><center>74 </center></td></tr>\n",
       "<tr><td style=\"font-family:monospace;white-space: pre;\" title=\"38\"><center>76 </center></td></tr>\n",
       "<tr><td style=\"font-family:monospace;white-space: pre;\" title=\"39\"><center>78 </center></td></tr>\n",
       "<tr><td style=\"font-family:monospace;white-space: pre;\" title=\"40\"><center>80 </center></td></tr>\n",
       "<tr><td style=\"font-family:monospace;white-space: pre;\" title=\"41\"><center>82 </center></td></tr>\n",
       "<tr><td style=\"font-family:monospace;white-space: pre;\" title=\"42\"><center>84 </center></td></tr>\n",
       "<tr><td style=\"font-family:monospace;white-space: pre;\" title=\"43\"><center>86 </center></td></tr>\n",
       "<tr><td style=\"font-family:monospace;white-space: pre;\" title=\"44\"><center>88 </center></td></tr>\n",
       "<tr><td style=\"font-family:monospace;white-space: pre;\" title=\"45\"><center>90 </center></td></tr>\n",
       "<tr><td style=\"font-family:monospace;white-space: pre;\" title=\"46\"><center>92 </center></td></tr>\n",
       "<tr><td style=\"font-family:monospace;white-space: pre;\" title=\"47\"><center>94 </center></td></tr>\n",
       "<tr><td style=\"font-family:monospace;white-space: pre;\" title=\"48\"><center>96 </center></td></tr>\n",
       "<tr><td style=\"font-family:monospace;white-space: pre;\" title=\"49\"><center>98 </center></td></tr>\n",
       "<tr><td style=\"font-family:monospace;white-space: pre;\" title=\"50\"><center>100</center></td></tr>\n",
       "</table>"
      ],
      "text/plain": [
       "array([  0,   2,   4,   6,   8,  10,  12,  14,  16,  18,  20,  22,  24,\n",
       "        26,  28,  30,  32,  34,  36,  38,  40,  42,  44,  46,  48,  50,\n",
       "        52,  54,  56,  58,  60,  62,  64,  66,  68,  70,  72,  74,  76,\n",
       "        78,  80,  82,  84,  86,  88,  90,  92,  94,  96,  98, 100])"
      ]
     },
     "execution_count": 13,
     "metadata": {},
     "output_type": "execute_result"
    }
   ],
   "source": [
    "# Create array of even numbers between 0..100\n",
    "np.arange(0, 101, 2)"
   ]
  },
  {
   "cell_type": "markdown",
   "metadata": {},
   "source": [
    "<h4>2.7  Array of years that are divisible by 4 between 1950 and 2020</h4>"
   ]
  },
  {
   "cell_type": "code",
   "execution_count": 14,
   "metadata": {},
   "outputs": [
    {
     "data": {
      "text/html": [
       "<table style='border-style:solid;border-width:1px;'>\n",
       "<tr><td style=\"font-family:monospace;white-space: pre;\" title=\"0\"><center>1952</center></td></tr>\n",
       "<tr><td style=\"font-family:monospace;white-space: pre;\" title=\"1\"><center>1956</center></td></tr>\n",
       "<tr><td style=\"font-family:monospace;white-space: pre;\" title=\"2\"><center>1960</center></td></tr>\n",
       "<tr><td style=\"font-family:monospace;white-space: pre;\" title=\"3\"><center>1964</center></td></tr>\n",
       "<tr><td style=\"font-family:monospace;white-space: pre;\" title=\"4\"><center>1968</center></td></tr>\n",
       "<tr><td style=\"font-family:monospace;white-space: pre;\" title=\"5\"><center>1972</center></td></tr>\n",
       "<tr><td style=\"font-family:monospace;white-space: pre;\" title=\"6\"><center>1976</center></td></tr>\n",
       "<tr><td style=\"font-family:monospace;white-space: pre;\" title=\"7\"><center>1980</center></td></tr>\n",
       "<tr><td style=\"font-family:monospace;white-space: pre;\" title=\"8\"><center>1984</center></td></tr>\n",
       "<tr><td style=\"font-family:monospace;white-space: pre;\" title=\"9\"><center>1988</center></td></tr>\n",
       "<tr><td style=\"font-family:monospace;white-space: pre;\" title=\"10\"><center>1992</center></td></tr>\n",
       "<tr><td style=\"font-family:monospace;white-space: pre;\" title=\"11\"><center>1996</center></td></tr>\n",
       "<tr><td style=\"font-family:monospace;white-space: pre;\" title=\"12\"><center>2000</center></td></tr>\n",
       "<tr><td style=\"font-family:monospace;white-space: pre;\" title=\"13\"><center>2004</center></td></tr>\n",
       "<tr><td style=\"font-family:monospace;white-space: pre;\" title=\"14\"><center>2008</center></td></tr>\n",
       "<tr><td style=\"font-family:monospace;white-space: pre;\" title=\"15\"><center>2012</center></td></tr>\n",
       "<tr><td style=\"font-family:monospace;white-space: pre;\" title=\"16\"><center>2016</center></td></tr>\n",
       "<tr><td style=\"font-family:monospace;white-space: pre;\" title=\"17\"><center>2020</center></td></tr>\n",
       "</table>"
      ],
      "text/plain": [
       "array([1952, 1956, 1960, 1964, 1968, 1972, 1976, 1980, 1984, 1988, 1992,\n",
       "       1996, 2000, 2004, 2008, 2012, 2016, 2020])"
      ]
     },
     "execution_count": 14,
     "metadata": {},
     "output_type": "execute_result"
    }
   ],
   "source": [
    "# Create array of numbers between 1950..2020\n",
    "years = np.arange(1950, 2021)\n",
    "\n",
    "# Filter numbers that are divisible by 4\n",
    "div_four = years[years % 4 == 0]\n",
    "\n",
    "# Print filtered array\n",
    "div_four"
   ]
  },
  {
   "cell_type": "markdown",
   "metadata": {},
   "source": [
    "<h4>Comment about Numpy vs. lists</h4>\n",
    "- Creating arrays with numpy is much easier. Last task was just first to create array data and then filter it. Othervice much simpler than without numpy."
   ]
  },
  {
   "attachments": {},
   "cell_type": "markdown",
   "metadata": {},
   "source": [
    "<h3><b>3. Let's try out NumPy vectors and matrices:</b></h3>\n",
    "\n",
    "- Create a NumPy vector (list) containing these values:<br>\n",
    "<b><i>5, 16, 9, 2, 19, 18, 11, 7</i></b><br>\n",
    "    - Use argmax() to find the position index of the largest value in the vector, and print it\n",
    "<br><br>\n",
    "- Create a 7x7 matrix, with values from 1 to 49\n",
    "\n",
    "    - Extra task: Create this matrix (list of lists) without NumPy in Python!\n",
    "\n",
    "<br>\n",
    "\n",
    "- Generate 8x8 random number matrix, values between 0 and 5\n",
    "\n",
    "- Generate 8x8 random number matrix, using standard normal distribution values (= values are between -3 and 3)\n"
   ]
  },
  {
   "cell_type": "code",
   "execution_count": 15,
   "metadata": {},
   "outputs": [],
   "source": [
    "# exercise 1.3, NumPy vectors and matrices\n",
    "# use different variable names for each subtask\n",
    "# you can also make new code cells if you need\n"
   ]
  },
  {
   "attachments": {},
   "cell_type": "markdown",
   "metadata": {},
   "source": [
    "<h3><b>4. Create a linearly spaced… </b></h3>\n",
    "\n",
    "- array (list/vector) of 10 values between value 0 and 1\n",
    "\n",
    "- 10x10 matrix between values 0 and 5\n",
    "\n",
    "    - Extra task: create this matrix without NumPy as well!\n",
    "\n",
    "\n",
    "<img src=\"http://srv.plab.fi/~tuomasv/data_analytics_2023_images/exercise_set_1/cubes.png\"/>\n"
   ]
  },
  {
   "cell_type": "code",
   "execution_count": 16,
   "metadata": {},
   "outputs": [],
   "source": [
    "# exercise 1.4, linspace\n",
    "# use different variable names for each subtask\n",
    "# you can also make new code cells if you need\n"
   ]
  },
  {
   "attachments": {},
   "cell_type": "markdown",
   "metadata": {},
   "source": [
    "<h3><b>5. Recreate the matrices in code based on the pictures.</b></h3>\n",
    "\n",
    "- Create this 3x5 matrix with NumPy:\n",
    "\n",
    "<img src=\"http://srv.plab.fi/~tuomasv/data_analytics_2023_images/exercise_set_1/matrix1.png\"/>\n",
    "\n",
    "\n",
    "Note: The values above have no logic, you'll have to feed basic Python lists to NumPy for this result\n"
   ]
  },
  {
   "cell_type": "code",
   "execution_count": 17,
   "metadata": {},
   "outputs": [],
   "source": [
    "# exercise 1.5a, create matrix\n"
   ]
  },
  {
   "attachments": {},
   "cell_type": "markdown",
   "metadata": {},
   "source": [
    "- Generate this NumPy array:\n",
    "\n",
    "<img src=\"http://srv.plab.fi/~tuomasv/data_analytics_2023_images/exercise_set_1/matrix2.png\" width=\"800\"/>"
   ]
  },
  {
   "cell_type": "code",
   "execution_count": 18,
   "metadata": {},
   "outputs": [],
   "source": [
    "# exercise 1.5b, generate NumPy array / matrix\n"
   ]
  },
  {
   "attachments": {},
   "cell_type": "markdown",
   "metadata": {},
   "source": [
    "- Generate this NumPy array:\n",
    "\n",
    "<img src=\"http://srv.plab.fi/~tuomasv/data_analytics_2023_images/exercise_set_1/matrix3.png\" width=\"500\"/>\n",
    "\n",
    "<b>Tips:</b> arange-function (and step-parameter) + reshape is recommended. Alternatively you can use broadcasting and division if you like."
   ]
  },
  {
   "cell_type": "code",
   "execution_count": 19,
   "metadata": {},
   "outputs": [],
   "source": [
    "# exercise 1.5c, generate NumPy array / matrix\n"
   ]
  },
  {
   "attachments": {},
   "cell_type": "markdown",
   "metadata": {},
   "source": [
    "<h3><b>6. Use this matrix in your code:</b></h3>\n",
    "\n",
    "dataset = np.arange(1, 37).reshape(6, 6)\n",
    "\n",
    "<img src=\"http://srv.plab.fi/~tuomasv/data_analytics_2023_images/exercise_set_1/matrix4.png\"/>\n"
   ]
  },
  {
   "cell_type": "code",
   "execution_count": 20,
   "metadata": {},
   "outputs": [
    {
     "data": {
      "text/html": [
       "<table style='border-style:solid;border-width:1px;'>\n",
       "<tr>\n",
       "<td style=\"font-family:monospace;white-space: pre;\" title=\"(0, 0)\"><center>1 </center></td>\n",
       "<td style=\"font-family:monospace;white-space: pre;\" title=\"(0, 1)\"><center>2 </center></td>\n",
       "<td style=\"font-family:monospace;white-space: pre;\" title=\"(0, 2)\"><center>3 </center></td>\n",
       "<td style=\"font-family:monospace;white-space: pre;\" title=\"(0, 3)\"><center>4 </center></td>\n",
       "<td style=\"font-family:monospace;white-space: pre;\" title=\"(0, 4)\"><center>5 </center></td>\n",
       "<td style=\"font-family:monospace;white-space: pre;\" title=\"(0, 5)\"><center>6 </center></td>\n",
       "</tr>\n",
       "<tr>\n",
       "<td style=\"font-family:monospace;white-space: pre;\" title=\"(1, 0)\"><center>7 </center></td>\n",
       "<td style=\"font-family:monospace;white-space: pre;\" title=\"(1, 1)\"><center>8 </center></td>\n",
       "<td style=\"font-family:monospace;white-space: pre;\" title=\"(1, 2)\"><center>9 </center></td>\n",
       "<td style=\"font-family:monospace;white-space: pre;\" title=\"(1, 3)\"><center>10</center></td>\n",
       "<td style=\"font-family:monospace;white-space: pre;\" title=\"(1, 4)\"><center>11</center></td>\n",
       "<td style=\"font-family:monospace;white-space: pre;\" title=\"(1, 5)\"><center>12</center></td>\n",
       "</tr>\n",
       "<tr>\n",
       "<td style=\"font-family:monospace;white-space: pre;\" title=\"(2, 0)\"><center>13</center></td>\n",
       "<td style=\"font-family:monospace;white-space: pre;\" title=\"(2, 1)\"><center>14</center></td>\n",
       "<td style=\"font-family:monospace;white-space: pre;\" title=\"(2, 2)\"><center>15</center></td>\n",
       "<td style=\"font-family:monospace;white-space: pre;\" title=\"(2, 3)\"><center>16</center></td>\n",
       "<td style=\"font-family:monospace;white-space: pre;\" title=\"(2, 4)\"><center>17</center></td>\n",
       "<td style=\"font-family:monospace;white-space: pre;\" title=\"(2, 5)\"><center>18</center></td>\n",
       "</tr>\n",
       "<tr>\n",
       "<td style=\"font-family:monospace;white-space: pre;\" title=\"(3, 0)\"><center>19</center></td>\n",
       "<td style=\"font-family:monospace;white-space: pre;\" title=\"(3, 1)\"><center>20</center></td>\n",
       "<td style=\"font-family:monospace;white-space: pre;\" title=\"(3, 2)\"><center>21</center></td>\n",
       "<td style=\"font-family:monospace;white-space: pre;\" title=\"(3, 3)\"><center>22</center></td>\n",
       "<td style=\"font-family:monospace;white-space: pre;\" title=\"(3, 4)\"><center>23</center></td>\n",
       "<td style=\"font-family:monospace;white-space: pre;\" title=\"(3, 5)\"><center>24</center></td>\n",
       "</tr>\n",
       "<tr>\n",
       "<td style=\"font-family:monospace;white-space: pre;\" title=\"(4, 0)\"><center>25</center></td>\n",
       "<td style=\"font-family:monospace;white-space: pre;\" title=\"(4, 1)\"><center>26</center></td>\n",
       "<td style=\"font-family:monospace;white-space: pre;\" title=\"(4, 2)\"><center>27</center></td>\n",
       "<td style=\"font-family:monospace;white-space: pre;\" title=\"(4, 3)\"><center>28</center></td>\n",
       "<td style=\"font-family:monospace;white-space: pre;\" title=\"(4, 4)\"><center>29</center></td>\n",
       "<td style=\"font-family:monospace;white-space: pre;\" title=\"(4, 5)\"><center>30</center></td>\n",
       "</tr>\n",
       "<tr>\n",
       "<td style=\"font-family:monospace;white-space: pre;\" title=\"(5, 0)\"><center>31</center></td>\n",
       "<td style=\"font-family:monospace;white-space: pre;\" title=\"(5, 1)\"><center>32</center></td>\n",
       "<td style=\"font-family:monospace;white-space: pre;\" title=\"(5, 2)\"><center>33</center></td>\n",
       "<td style=\"font-family:monospace;white-space: pre;\" title=\"(5, 3)\"><center>34</center></td>\n",
       "<td style=\"font-family:monospace;white-space: pre;\" title=\"(5, 4)\"><center>35</center></td>\n",
       "<td style=\"font-family:monospace;white-space: pre;\" title=\"(5, 5)\"><center>36</center></td>\n",
       "</tr>\n",
       "</table>"
      ],
      "text/plain": [
       "array([[ 1,  2,  3,  4,  5,  6],\n",
       "       [ 7,  8,  9, 10, 11, 12],\n",
       "       [13, 14, 15, 16, 17, 18],\n",
       "       [19, 20, 21, 22, 23, 24],\n",
       "       [25, 26, 27, 28, 29, 30],\n",
       "       [31, 32, 33, 34, 35, 36]])"
      ]
     },
     "execution_count": 20,
     "metadata": {},
     "output_type": "execute_result"
    }
   ],
   "source": [
    "# exercise 1.6a, matrix slicing\n",
    "dataset = np.arange(1, 37).reshape(6, 6)\n",
    "dataset"
   ]
  },
  {
   "attachments": {},
   "cell_type": "markdown",
   "metadata": {},
   "source": [
    "- Create a slice of the matrix that contains this part of the matrix:\n",
    "\n",
    "<img src=\"http://srv.plab.fi/~tuomasv/data_analytics_2023_images/exercise_set_1/matrix5.png\"/>"
   ]
  },
  {
   "cell_type": "code",
   "execution_count": 21,
   "metadata": {},
   "outputs": [],
   "source": [
    "# exercise 1.6b, matrix slicing\n"
   ]
  },
  {
   "attachments": {},
   "cell_type": "markdown",
   "metadata": {},
   "source": [
    "- Pick out this column slice from data\n",
    "\n",
    "<img src=\"http://srv.plab.fi/~tuomasv/data_analytics_2023_images/exercise_set_1/series1.png\"/>"
   ]
  },
  {
   "cell_type": "code",
   "execution_count": 22,
   "metadata": {},
   "outputs": [],
   "source": [
    "# exercise 1.6c, matrix slicing\n"
   ]
  },
  {
   "attachments": {},
   "cell_type": "markdown",
   "metadata": {},
   "source": [
    "- Pick out this row from the data\n",
    "\n",
    "<img src=\"http://srv.plab.fi/~tuomasv/data_analytics_2023_images/exercise_set_1/series2.png\"/>"
   ]
  },
  {
   "cell_type": "code",
   "execution_count": 23,
   "metadata": {},
   "outputs": [],
   "source": [
    "# exercise 1.6d, matrix slicing"
   ]
  },
  {
   "attachments": {},
   "cell_type": "markdown",
   "metadata": {},
   "source": [
    "- Pick out these three rows from data:\n",
    "\n",
    "<img src=\"http://srv.plab.fi/~tuomasv/data_analytics_2023_images/exercise_set_1/matrix6.png\"/>"
   ]
  },
  {
   "cell_type": "code",
   "execution_count": 24,
   "metadata": {},
   "outputs": [],
   "source": [
    "# exercise 1.6e, matrix slicing"
   ]
  },
  {
   "attachments": {},
   "cell_type": "markdown",
   "metadata": {},
   "source": [
    "<h3><b>7. Use this matrix:</b></h3>\n",
    "\n",
    "<b>dataset_2 = np.arange(1, 50).reshape(7, 7)</b>\n",
    "\n",
    "- Add 50 to all values in the array (use broadcasting)\n",
    "\n",
    "- Get the sum of all values in the dataset\n",
    "\n",
    "- Get sum of only odd numbers in the dataset\n",
    "\n",
    "- Get the standard deviation of the values in the dataset\n",
    "\n",
    "- Get the sum of all values by ROW in the dataset\n",
    "\n",
    "- Get the sum of all values by COLUMN in the dataset (tip, use the axis –parameter)\n",
    "\n",
    "<br>\n",
    "\n",
    "- <b>Extra task:</b> Do the total sum, row sum and column sum exercises <u><b>without</b></u> NumPy in Python!\n",
    "\n",
    "<br>\n",
    "<b>Note:</b> Don't create a new dataset when adding 50 to all values in the array, use the existing one.\n",
    "<br><br>\n",
    "<img src=\"http://srv.plab.fi/~tuomasv/data_analytics_2023_images/exercise_set_1/desktopcomputer.png\"/>\n"
   ]
  },
  {
   "cell_type": "code",
   "execution_count": 25,
   "metadata": {},
   "outputs": [],
   "source": [
    "# exercise 1.7, NumPy -operations on a matrix\n",
    "dataset_2 = np.arange(1, 50).reshape(7, 7)\n",
    "\n",
    "# use different variable names for each subtask\n",
    "# you can also make new code cells if you need\n"
   ]
  },
  {
   "attachments": {},
   "cell_type": "markdown",
   "metadata": {},
   "source": [
    "<br><br>\n",
    "<h2><b>Advanced extra tasks for extra points (varying challenges, some require Googling):</b></h2>"
   ]
  },
  {
   "attachments": {},
   "cell_type": "markdown",
   "metadata": {},
   "source": [
    "<h3><b>1. Create two files for this exercise: save_matrix.py and read_matrix.py</b></h3>\n",
    "\n",
    "- in save_matrix.py: create a 15x15 matrix, and save it to a file (matrix.txt)\n",
    " - in read_matrix.py, read matrix.txt, and convert it back to a NumPy matrix\n",
    "\n",
    "NumPy has loadtxt() and savetxt()-functions for these purposes.\n"
   ]
  },
  {
   "cell_type": "code",
   "execution_count": 26,
   "metadata": {},
   "outputs": [],
   "source": [
    "# advanced extra exercise 1\n"
   ]
  },
  {
   "attachments": {},
   "cell_type": "markdown",
   "metadata": {},
   "source": [
    "<h3><b>2. Masked arrays are a feature of NumPy that allow us to deal with pieces data that are incorrect or missing in a dataset (for example, faulty measurements from equipment etc.).</b></h3>\n",
    "\n",
    "Create a NumPy matrix, that contains numbers between 0 to 50, and put some faulty numbers in a 10 different spots \n",
    "(for example: -100)\n",
    "\n",
    "Use a masked array to handle the -100 values in your matrix. Replace every -100 with 0.\n"
   ]
  },
  {
   "cell_type": "code",
   "execution_count": 27,
   "metadata": {},
   "outputs": [],
   "source": [
    "# advanced extra exercise 2\n"
   ]
  },
  {
   "attachments": {},
   "cell_type": "markdown",
   "metadata": {},
   "source": [
    "<h3><b>3. argsort is a feature of NumPy  that allows you to sort a NumPy array based on another NumPy array. </b></h3>\n",
    "\n",
    "This is useful if you have two separate arrays, but their data  should be in sync even if order of data is changed. For example, one array contains the prices of cars, and another contains the manufacturing years. If we wish to sort the data by manufacturing years, and keep the prices in sync as well, argsort will be handy.\n",
    "\n",
    "Useful link:\n",
    "http://arogozhnikov.github.io/2015/09/29/NumpyTipsAndTricks1.html\n",
    "\n",
    "Create two random datasets:\n",
    "\n",
    "- Manufacturing years of 10 cars, values between 2010 and 2020\n",
    "\n",
    "- Selling price of 10 cars, prices between 2000€ and 60000€\n",
    "\n",
    "Use argsort to sort both datasets according to manufacturing years.\n"
   ]
  },
  {
   "cell_type": "code",
   "execution_count": 28,
   "metadata": {},
   "outputs": [],
   "source": [
    "# advanced extra exercise 3\n"
   ]
  },
  {
   "attachments": {},
   "cell_type": "markdown",
   "metadata": {},
   "source": [
    "<h3><b>4. Try out the following additional NumPy features, and discuss in your code comments or in Jupyter Notebook text where they could be useful. You can also Google and search for ideas where these could be used. </b></h3>\n",
    "\n",
    "You can write your thoughts as comments in the code or Jupyter text as you try out each feature.\n",
    "\n",
    "- np.repeat()\n",
    "\n",
    "- np.ravel()\n",
    "\n",
    "- np.hsplit(), np.vsplit(), np.hstack, np.vstack()\n",
    "\n",
    "- np.transpose()\n",
    "\n",
    "- np.round()\n",
    "\n",
    "- np.expand_dims(), np.squeeze()\n",
    "\n",
    "- np.digitize()\n",
    "\n",
    "\n"
   ]
  },
  {
   "cell_type": "code",
   "execution_count": 29,
   "metadata": {},
   "outputs": [],
   "source": [
    "# advanced extra exercise 4\n"
   ]
  }
 ],
 "metadata": {
  "kernelspec": {
   "display_name": ".venv",
   "language": "python",
   "name": "python3"
  },
  "language_info": {
   "codemirror_mode": {
    "name": "ipython",
    "version": 3
   },
   "file_extension": ".py",
   "mimetype": "text/x-python",
   "name": "python",
   "nbconvert_exporter": "python",
   "pygments_lexer": "ipython3",
   "version": "3.10.11"
  },
  "orig_nbformat": 4,
  "vscode": {
   "interpreter": {
    "hash": "7b393597a1a01400f99fd0b0bd7e53e32f7c09a6c4e3f1d7dcfe73f5e3a50c61"
   }
  }
 },
 "nbformat": 4,
 "nbformat_minor": 2
}
